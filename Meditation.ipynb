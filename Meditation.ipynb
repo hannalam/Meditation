{
 "cells": [
  {
   "cell_type": "markdown",
   "id": "5b15dfc4-462e-49c2-b852-1acde42563f4",
   "metadata": {},
   "source": [
    "Student number: 200594390"
   ]
  },
  {
   "cell_type": "markdown",
   "id": "da72723b-b282-422c-b720-a4054bfbca08",
   "metadata": {},
   "source": [
    "# <center> Exploring the feedback from meditation app user after the meditation practice<center>"
   ]
  },
  {
   "cell_type": "markdown",
   "id": "91b42e38-14c7-4e83-a48c-1d9b3ba05346",
   "metadata": {},
   "source": [
    "#### <center> A Data Programming Project <center>"
   ]
  },
  {
   "cell_type": "markdown",
   "id": "7bb7af78-29e1-4518-b5dc-a236f4a0978a",
   "metadata": {},
   "source": [
    "## 1 Aims, objectives and background"
   ]
  },
  {
   "cell_type": "markdown",
   "id": "39c1f0a7-14e6-49e0-a7e3-8ee083b9c40b",
   "metadata": {},
   "source": [
    "### 1.1 Introduction"
   ]
  },
  {
   "cell_type": "markdown",
   "id": "ea607afb-4459-4ca8-8694-4771153f9af9",
   "metadata": {},
   "source": [
    "Nowadays, more and more people pay attention to their health and mental status and wanted to stay healthy by practicing yoga. “In the past few years, meditation has hit the mainstream, joining the likes of yoga for improving physical and mental health.” [3] “Some businesses have already offered meditation training at work, while companies such as American Express, Ford, and LinkedIn hold employee-training sessions regularly.”[5] The value of the Meditation Market is increasing, “the meditation market’s revenue growth is up to $2.08 billion in 2022”.[5]  \n",
    "\n",
    "Given that I have been teaching yoga since 2019, I find it interesting to see the market's needs. The practice of yoga is an eight-stage process, the normal yoga practice for general yogi always only focuses on stage 1 to 4(Yamas, Niyama, Asana and Pranayama) which only practice the poses and breathing control. From stage 5 to 8( Pratyahara, Dharana, Dhyana and Samadhi) which is meditation level that represent a transcending process for the spirit aspects of yoga. It interests me to investigate the insight from a scientific method because yoga and meditation are the subjects, I am enthusiastic about and have been practicing for five years.\n",
    "\n",
    "\"People who seek to improve their well-being through meditation in general.\" [5] Using data science approaches, I aim to investigate how meditation may affect a person's performance. I'm going to employ natural language processing to analyze app reviews from mediation apps. In addition, analyze the information gathered as well to learn more slight."
   ]
  },
  {
   "cell_type": "markdown",
   "id": "7780e747-6c69-4239-bd30-cd8c327e5e7d",
   "metadata": {},
   "source": [
    "### 1.2 Objectives"
   ]
  },
  {
   "cell_type": "markdown",
   "id": "9b43484f-9641-403e-b7f3-506312c17a87",
   "metadata": {},
   "source": [
    "I want to investigate the following inside of this project:\n",
    "\n",
    "**Establishing review measurements**\n",
    "- Measuring attitude - how much positive and negative emotional language is in the reviews?\n",
    "- Politeness - utilizing hedging phrases for response \n",
    "\n",
    "**Analysing app review content**\n",
    "- Is the user really enjoying and find it useful when using the mediation application?\n",
    "\n",
    "**Analysing the statistic from research journal reports**\n",
    "- How meditation effect human behaviour in work? "
   ]
  },
  {
   "cell_type": "markdown",
   "id": "60d73ddc-bf57-4cf8-9d00-6faa3323b341",
   "metadata": {},
   "source": [
    "### 1.3 Aims "
   ]
  },
  {
   "cell_type": "markdown",
   "id": "e53942ba-add4-4cdf-84c1-aeed249c043d",
   "metadata": {},
   "source": [
    "My aims for this project proposal are to:\n",
    "\n",
    "* Collect the relevant datasets that should be used to provide analysis.\n",
    "* Determine how much app review data is necessary to fully study the aforementioned issues, taking time and resource limits into account.\n",
    "* Clean up and modify the data so that it can be used with the approaches use.\n",
    "* Perform some exploratory data analysis to find any trends in the data that would make it worthwhile to explore further."
   ]
  },
  {
   "cell_type": "markdown",
   "id": "788ebde2-af99-4a82-9960-6deba74b97b8",
   "metadata": {},
   "source": [
    "## 2 Data"
   ]
  },
  {
   "cell_type": "markdown",
   "id": "9725557f-9c6c-47ec-b18a-207501a52dc2",
   "metadata": {},
   "source": [
    "### 2.1 Data source"
   ]
  },
  {
   "cell_type": "markdown",
   "id": "8d88aeaf-c359-4d94-b4f0-83ec182fb014",
   "metadata": {},
   "source": [
    "There are five datasets in total for this project.\n",
    "\n",
    "**The Association between Meditation Practice and Job Performance: A Cross-Sectional Study**\n",
    "- JP1_Dataset.xlsx - This is an open reserach article published on December 16, 2015\n",
    "- JP2_Dataset.xlsx - This is an open reserach article published on December 16, 2015<br>\n",
    "\n",
    "**Increased Gamma Brainwave Amplitude Compared to Control in Three Different Meditation Traditions**\n",
    "- Gamma_med.csv - This is an open reserach article published on January 24, 2017 <br>\n",
    "\n",
    "**Google Play Store Meditation App Reviews**\n",
    "- playmeditopia_us.csv - This is an web scraped dataset, due date up to 2021<br> \n",
    "\n",
    "**App Store Meditation App Reviews**\n",
    "- appstore_calm_us.csv - This is an web scraped dataset, due date up to 2021 "
   ]
  },
  {
   "cell_type": "markdown",
   "id": "b6dae68d-a4ba-456b-9b93-f169806a668b",
   "metadata": {},
   "source": [
    "### 2.2 Choice of Datasets"
   ]
  },
  {
   "cell_type": "markdown",
   "id": "a6126545-e16d-409a-94e3-506dea360ac2",
   "metadata": {},
   "source": [
    "#### Selection for dataset about the effect from meditation practice"
   ]
  },
  {
   "cell_type": "markdown",
   "id": "4dd75803-adda-4679-b81e-b315292ee7ef",
   "metadata": {},
   "source": [
    "It is important to understand the market need. \"As the latest meditation statistics show, its popularity is skyrocketing, with more and more people meditating on a regular basis. It’s estimated that 200–500 million people meditate worldwide.\"[4] I choose three datasets from:\n",
    "\n",
    "- The Association between Meditation Practice and Job Performance: A Cross-Sectional Study\n",
    "- Increased Gamma Brainwave Amplitude Compared to Control in Three Different Meditation Traditions\n",
    "\n",
    "The purpose of the collected data is to draw some intriguing conclusions from a lengthy meditation experiment. The outcome can be quite persuasive because the dataset contains all available information."
   ]
  },
  {
   "cell_type": "markdown",
   "id": "948f97ef-a0a3-435f-91b0-80321bd7b4b1",
   "metadata": {},
   "source": [
    "#### Selection for dataset about the app"
   ]
  },
  {
   "cell_type": "markdown",
   "id": "03c33369-44dd-483b-a0eb-2a43f12dc4fd",
   "metadata": {},
   "source": [
    "<img src=\"Calm and Meditopia.webp\" width=40 height=40 /> **Calm and Meditopia**"
   ]
  },
  {
   "cell_type": "markdown",
   "id": "c5e9f41b-db63-4cec-b19b-37709681b9e2",
   "metadata": {},
   "source": [
    "Calm and Meditopia is available in App store and Play store. It is one of the most popular apps since 2018. There are more than 10 million users downloaded. To see whether there are any differences, I will compare the reviews from the two platforms."
   ]
  },
  {
   "cell_type": "markdown",
   "id": "1c7e8c1a-aad9-44e6-b988-511dc0d30b6e",
   "metadata": {},
   "source": [
    "#### 2.2.1 Choice of Demographic for Meditation app review "
   ]
  },
  {
   "cell_type": "markdown",
   "id": "a7875155-ed51-4291-9986-59d5bcaa1324",
   "metadata": {},
   "source": [
    "I choose the reviews from US market only in order to get the English review for this project. The time period is from 2018 to 2021. "
   ]
  },
  {
   "cell_type": "markdown",
   "id": "1dbac1a1-64d4-4d5b-baeb-59cd943a0095",
   "metadata": {},
   "source": [
    "#### 2.2.2  Choice of methodology"
   ]
  },
  {
   "cell_type": "markdown",
   "id": "c5633e6b-22e2-41ce-8323-3d0ad53a4bea",
   "metadata": {},
   "source": [
    "The datasets are from the direct open source. They are the csv and xlsx files. "
   ]
  },
  {
   "cell_type": "markdown",
   "id": "22ee877c-0108-4b64-8694-9d5282724a3c",
   "metadata": {},
   "source": [
    "#### 2.2.3  Limitations and constraints of the data"
   ]
  },
  {
   "cell_type": "markdown",
   "id": "539e2ebb-7fa2-45e8-a864-425a1775b8d8",
   "metadata": {},
   "source": [
    "**Not up to date time period**"
   ]
  },
  {
   "cell_type": "markdown",
   "id": "4158a217-7abf-4b78-a131-c2be24d4685b",
   "metadata": {
    "tags": []
   },
   "source": [
    "The dataset of the app reviews from App store and Play store are web scraping databases. But the datasets are not up to date to 2022 as it is the direct source from kaggle.com."
   ]
  },
  {
   "cell_type": "markdown",
   "id": "a6945d1e-6535-4b7f-b990-b1f1ba751c98",
   "metadata": {},
   "source": [
    "### 2.3 Ethical considerations"
   ]
  },
  {
   "cell_type": "markdown",
   "id": "163deb12-4fbd-4efe-9501-a4b280854995",
   "metadata": {
    "tags": []
   },
   "source": [
    "#### 2.3.1 Use of Literature"
   ]
  },
  {
   "cell_type": "markdown",
   "id": "ef545059-304d-4a6d-9749-88a056fbce12",
   "metadata": {},
   "source": [
    "All the research articles are open source, the content of the study paper can be used for eduction purpose. "
   ]
  },
  {
   "cell_type": "markdown",
   "id": "f9c51392-c07a-4e99-b48c-5fa8721f1280",
   "metadata": {},
   "source": [
    "#### 2.3.2 Use of data and derived data"
   ]
  },
  {
   "cell_type": "markdown",
   "id": "fde50e76-acff-45ee-882a-b492e63ffa52",
   "metadata": {},
   "source": [
    "All the data from the research articles are open source and can be downloaded without signing up. All the data from the app reviews are transparent in the app store and play store. The website that stored the web scraping data is possible for study purpose. "
   ]
  },
  {
   "cell_type": "markdown",
   "id": "414d139d-083f-481c-b87c-3f53b42e2220",
   "metadata": {},
   "source": [
    "#### 2.3.3 Potential impacts of using data for the proposes analyses"
   ]
  },
  {
   "cell_type": "markdown",
   "id": "6f63c8e6-5f6e-4446-9dc7-451ed99bfaed",
   "metadata": {},
   "source": [
    "Although no conclusions are used for any analysis, the study paper's data may serve as inspiration for this endeavor. I made my own analysis and conclusion using the data.\n",
    "<br>\n",
    "The website's rating for the app review is excellent. Prior to the analysis, I am aware of this, but another goal of the study is to learn how the user experience made people feel. As a result, the rating does not introduce bias into the study."
   ]
  },
  {
   "cell_type": "markdown",
   "id": "cb30b9f6-16cb-43ec-ad03-24aa6cd1d829",
   "metadata": {},
   "source": [
    "### 2.4 Import libraries and modules"
   ]
  },
  {
   "cell_type": "code",
   "execution_count": 1,
   "id": "fbb14e82-b4a1-489d-9639-9113987ec1d1",
   "metadata": {},
   "outputs": [],
   "source": [
    "# Import libraries and modules\n",
    "import numpy as np\n",
    "import pandas as pd\n",
    "import matplotlib.pyplot as plt\n",
    "import seaborn as sns\n",
    "from nltk.tokenize import RegexpTokenizer\n",
    "import nltk\n",
    "from nltk.corpus import stopwords\n",
    "from nltk.probability import FreqDist\n",
    "from nltk.stem import WordNetLemmatizer\n",
    "from nltk.tokenize import word_tokenize\n",
    "from nltk.probability import FreqDist\n",
    "import matplotlib.pyplot as plt\n",
    "from wordcloud import WordCloud\n",
    "from nltk.sentiment import SentimentIntensityAnalyzer\n",
    "\n",
    "# Show all matplotlib graphs inline\n",
    "%matplotlib inline"
   ]
  },
  {
   "cell_type": "markdown",
   "id": "7d25f6ec-9221-4a42-a5c2-9d8fe9f25801",
   "metadata": {},
   "source": [
    "### 2.5 Import URLs"
   ]
  },
  {
   "cell_type": "markdown",
   "id": "19060e6f-b957-4595-8d4c-5125bfb6fa03",
   "metadata": {},
   "source": [
    "**The Association between Meditation Practice and Job Performance: A Cross-Sectional Study**"
   ]
  },
  {
   "cell_type": "markdown",
   "id": "32627eab-7665-41dd-aa81-bb57b440a2d7",
   "metadata": {},
   "source": [
    "A population-based, cross-sectional survey targeting Japanese business people was conducted through the Internet in August 2014. Students and unemployed were excluded since the aim was to examine meditation in businesspersons.[1]"
   ]
  },
  {
   "cell_type": "markdown",
   "id": "e07f8fe8-4818-4632-bb32-667e0aa3c280",
   "metadata": {},
   "source": [
    "**1) Import the the first dataset** -- The final sample resulted in 30,664 participants.[1]"
   ]
  },
  {
   "cell_type": "code",
   "execution_count": 2,
   "id": "a504ae12-12f4-49e8-992d-5bb31e1590eb",
   "metadata": {},
   "outputs": [
    {
     "name": "stderr",
     "output_type": "stream",
     "text": [
      "C:\\Users\\User\\anaconda3\\lib\\site-packages\\openpyxl\\worksheet\\_reader.py:312: UserWarning: Unknown extension is not supported and will be removed\n",
      "  warn(msg)\n"
     ]
    }
   ],
   "source": [
    "JP1 = pd.read_excel('JP1_Dataset.xlsx')"
   ]
  },
  {
   "cell_type": "code",
   "execution_count": 3,
   "id": "bce6c5d6-5db7-4074-b3d2-4c38f64d6e60",
   "metadata": {},
   "outputs": [
    {
     "data": {
      "text/html": [
       "<div>\n",
       "<style scoped>\n",
       "    .dataframe tbody tr th:only-of-type {\n",
       "        vertical-align: middle;\n",
       "    }\n",
       "\n",
       "    .dataframe tbody tr th {\n",
       "        vertical-align: top;\n",
       "    }\n",
       "\n",
       "    .dataframe thead th {\n",
       "        text-align: right;\n",
       "    }\n",
       "</style>\n",
       "<table border=\"1\" class=\"dataframe\">\n",
       "  <thead>\n",
       "    <tr style=\"text-align: right;\">\n",
       "      <th></th>\n",
       "      <th>gender</th>\n",
       "      <th>age</th>\n",
       "      <th>Age Group</th>\n",
       "      <th>household income</th>\n",
       "      <th>education</th>\n",
       "      <th>meditation practice</th>\n",
       "    </tr>\n",
       "  </thead>\n",
       "  <tbody>\n",
       "    <tr>\n",
       "      <th>0</th>\n",
       "      <td>2</td>\n",
       "      <td>59</td>\n",
       "      <td>5</td>\n",
       "      <td>1</td>\n",
       "      <td>1</td>\n",
       "      <td>0</td>\n",
       "    </tr>\n",
       "    <tr>\n",
       "      <th>1</th>\n",
       "      <td>1</td>\n",
       "      <td>59</td>\n",
       "      <td>5</td>\n",
       "      <td>1</td>\n",
       "      <td>1</td>\n",
       "      <td>0</td>\n",
       "    </tr>\n",
       "    <tr>\n",
       "      <th>2</th>\n",
       "      <td>1</td>\n",
       "      <td>59</td>\n",
       "      <td>5</td>\n",
       "      <td>3</td>\n",
       "      <td>1</td>\n",
       "      <td>0</td>\n",
       "    </tr>\n",
       "    <tr>\n",
       "      <th>3</th>\n",
       "      <td>1</td>\n",
       "      <td>59</td>\n",
       "      <td>5</td>\n",
       "      <td>2</td>\n",
       "      <td>1</td>\n",
       "      <td>0</td>\n",
       "    </tr>\n",
       "    <tr>\n",
       "      <th>4</th>\n",
       "      <td>1</td>\n",
       "      <td>59</td>\n",
       "      <td>5</td>\n",
       "      <td>2</td>\n",
       "      <td>1</td>\n",
       "      <td>0</td>\n",
       "    </tr>\n",
       "  </tbody>\n",
       "</table>\n",
       "</div>"
      ],
      "text/plain": [
       "   gender  age  Age Group  household income  education  meditation practice\n",
       "0       2   59          5                 1          1                    0\n",
       "1       1   59          5                 1          1                    0\n",
       "2       1   59          5                 3          1                    0\n",
       "3       1   59          5                 2          1                    0\n",
       "4       1   59          5                 2          1                    0"
      ]
     },
     "execution_count": 3,
     "metadata": {},
     "output_type": "execute_result"
    }
   ],
   "source": [
    "JP1.head()"
   ]
  },
  {
   "cell_type": "code",
   "execution_count": 4,
   "id": "84399996-9959-490e-898f-5fbbe0e56444",
   "metadata": {},
   "outputs": [
    {
     "name": "stdout",
     "output_type": "stream",
     "text": [
      "<class 'pandas.core.frame.DataFrame'>\n",
      "RangeIndex: 30665 entries, 0 to 30664\n",
      "Data columns (total 6 columns):\n",
      " #   Column               Non-Null Count  Dtype\n",
      "---  ------               --------------  -----\n",
      " 0   gender               30665 non-null  int64\n",
      " 1   age                  30665 non-null  int64\n",
      " 2   Age Group            30665 non-null  int64\n",
      " 3   household income     30665 non-null  int64\n",
      " 4   education            30665 non-null  int64\n",
      " 5   meditation practice  30665 non-null  int64\n",
      "dtypes: int64(6)\n",
      "memory usage: 1.4 MB\n"
     ]
    }
   ],
   "source": [
    "JP1.info()"
   ]
  },
  {
   "cell_type": "markdown",
   "id": "b64bee1d-0e87-4881-997f-8ebf71b1fc61",
   "metadata": {},
   "source": [
    "**2) Import the second dataset** -- Data from a total of 600 individuals who meditated (300 men, 300 women) and 1,000 individuals who did not meditate (500 men and 500 women).[1]"
   ]
  },
  {
   "cell_type": "code",
   "execution_count": 5,
   "id": "c11758b1-7488-4808-819a-75149c60c2eb",
   "metadata": {},
   "outputs": [
    {
     "name": "stderr",
     "output_type": "stream",
     "text": [
      "C:\\Users\\User\\anaconda3\\lib\\site-packages\\openpyxl\\worksheet\\_reader.py:312: UserWarning: Unknown extension is not supported and will be removed\n",
      "  warn(msg)\n"
     ]
    }
   ],
   "source": [
    "JP2 = pd.read_excel('JP2_Dataset.xlsx')"
   ]
  },
  {
   "cell_type": "code",
   "execution_count": 6,
   "id": "c281fafe-063a-4ba8-b2b2-8bdfa014c943",
   "metadata": {},
   "outputs": [
    {
     "data": {
      "text/html": [
       "<div>\n",
       "<style scoped>\n",
       "    .dataframe tbody tr th:only-of-type {\n",
       "        vertical-align: middle;\n",
       "    }\n",
       "\n",
       "    .dataframe tbody tr th {\n",
       "        vertical-align: top;\n",
       "    }\n",
       "\n",
       "    .dataframe thead th {\n",
       "        text-align: right;\n",
       "    }\n",
       "</style>\n",
       "<table border=\"1\" class=\"dataframe\">\n",
       "  <thead>\n",
       "    <tr style=\"text-align: right;\">\n",
       "      <th></th>\n",
       "      <th>Gender</th>\n",
       "      <th>Age</th>\n",
       "      <th>HouseholdIncome</th>\n",
       "      <th>MaritalStatus</th>\n",
       "      <th>Education</th>\n",
       "      <th>SleepHours</th>\n",
       "      <th>SleepSufficiency</th>\n",
       "      <th>PhysicalActivityatWork</th>\n",
       "      <th>PhysicalActivityatLeisureTime</th>\n",
       "      <th>BMI</th>\n",
       "      <th>Stress</th>\n",
       "      <th>WE</th>\n",
       "      <th>HPQ</th>\n",
       "      <th>JobSaticefaction</th>\n",
       "      <th>FrequencyofMeditation</th>\n",
       "    </tr>\n",
       "  </thead>\n",
       "  <tbody>\n",
       "    <tr>\n",
       "      <th>0</th>\n",
       "      <td>1</td>\n",
       "      <td>45</td>\n",
       "      <td>1</td>\n",
       "      <td>2</td>\n",
       "      <td>2</td>\n",
       "      <td>4.0</td>\n",
       "      <td>1</td>\n",
       "      <td>3</td>\n",
       "      <td>2</td>\n",
       "      <td>24.221453</td>\n",
       "      <td>22</td>\n",
       "      <td>3.222222</td>\n",
       "      <td>3</td>\n",
       "      <td>27</td>\n",
       "      <td>3</td>\n",
       "    </tr>\n",
       "    <tr>\n",
       "      <th>1</th>\n",
       "      <td>2</td>\n",
       "      <td>54</td>\n",
       "      <td>3</td>\n",
       "      <td>4</td>\n",
       "      <td>3</td>\n",
       "      <td>6.0</td>\n",
       "      <td>2</td>\n",
       "      <td>1</td>\n",
       "      <td>3</td>\n",
       "      <td>28.040378</td>\n",
       "      <td>28</td>\n",
       "      <td>3.222222</td>\n",
       "      <td>4</td>\n",
       "      <td>23</td>\n",
       "      <td>1</td>\n",
       "    </tr>\n",
       "    <tr>\n",
       "      <th>2</th>\n",
       "      <td>2</td>\n",
       "      <td>42</td>\n",
       "      <td>3</td>\n",
       "      <td>1</td>\n",
       "      <td>4</td>\n",
       "      <td>5.0</td>\n",
       "      <td>2</td>\n",
       "      <td>2</td>\n",
       "      <td>5</td>\n",
       "      <td>23.337684</td>\n",
       "      <td>15</td>\n",
       "      <td>4.444444</td>\n",
       "      <td>8</td>\n",
       "      <td>39</td>\n",
       "      <td>1</td>\n",
       "    </tr>\n",
       "    <tr>\n",
       "      <th>3</th>\n",
       "      <td>2</td>\n",
       "      <td>50</td>\n",
       "      <td>3</td>\n",
       "      <td>2</td>\n",
       "      <td>4</td>\n",
       "      <td>6.5</td>\n",
       "      <td>2</td>\n",
       "      <td>2</td>\n",
       "      <td>2</td>\n",
       "      <td>21.303949</td>\n",
       "      <td>18</td>\n",
       "      <td>3.444444</td>\n",
       "      <td>7</td>\n",
       "      <td>33</td>\n",
       "      <td>1</td>\n",
       "    </tr>\n",
       "    <tr>\n",
       "      <th>4</th>\n",
       "      <td>2</td>\n",
       "      <td>32</td>\n",
       "      <td>2</td>\n",
       "      <td>1</td>\n",
       "      <td>4</td>\n",
       "      <td>6.0</td>\n",
       "      <td>2</td>\n",
       "      <td>1</td>\n",
       "      <td>4</td>\n",
       "      <td>18.827111</td>\n",
       "      <td>15</td>\n",
       "      <td>3.444444</td>\n",
       "      <td>8</td>\n",
       "      <td>28</td>\n",
       "      <td>1</td>\n",
       "    </tr>\n",
       "  </tbody>\n",
       "</table>\n",
       "</div>"
      ],
      "text/plain": [
       "   Gender  Age  HouseholdIncome  MaritalStatus  Education  SleepHours  \\\n",
       "0       1   45                1              2          2         4.0   \n",
       "1       2   54                3              4          3         6.0   \n",
       "2       2   42                3              1          4         5.0   \n",
       "3       2   50                3              2          4         6.5   \n",
       "4       2   32                2              1          4         6.0   \n",
       "\n",
       "   SleepSufficiency  PhysicalActivityatWork  PhysicalActivityatLeisureTime  \\\n",
       "0                 1                       3                              2   \n",
       "1                 2                       1                              3   \n",
       "2                 2                       2                              5   \n",
       "3                 2                       2                              2   \n",
       "4                 2                       1                              4   \n",
       "\n",
       "         BMI  Stress        WE  HPQ  JobSaticefaction  FrequencyofMeditation  \n",
       "0  24.221453      22  3.222222    3                27                      3  \n",
       "1  28.040378      28  3.222222    4                23                      1  \n",
       "2  23.337684      15  4.444444    8                39                      1  \n",
       "3  21.303949      18  3.444444    7                33                      1  \n",
       "4  18.827111      15  3.444444    8                28                      1  "
      ]
     },
     "execution_count": 6,
     "metadata": {},
     "output_type": "execute_result"
    }
   ],
   "source": [
    "JP2.head()"
   ]
  },
  {
   "cell_type": "code",
   "execution_count": 7,
   "id": "12740105-856a-4133-8ba0-e36560c83fee",
   "metadata": {},
   "outputs": [
    {
     "name": "stdout",
     "output_type": "stream",
     "text": [
      "<class 'pandas.core.frame.DataFrame'>\n",
      "RangeIndex: 1470 entries, 0 to 1469\n",
      "Data columns (total 15 columns):\n",
      " #   Column                         Non-Null Count  Dtype  \n",
      "---  ------                         --------------  -----  \n",
      " 0   Gender                         1470 non-null   int64  \n",
      " 1   Age                            1470 non-null   int64  \n",
      " 2   HouseholdIncome                1470 non-null   int64  \n",
      " 3   MaritalStatus                  1470 non-null   int64  \n",
      " 4   Education                      1470 non-null   int64  \n",
      " 5   SleepHours                     1470 non-null   float64\n",
      " 6   SleepSufficiency               1470 non-null   int64  \n",
      " 7   PhysicalActivityatWork         1470 non-null   int64  \n",
      " 8   PhysicalActivityatLeisureTime  1470 non-null   int64  \n",
      " 9   BMI                            1470 non-null   float64\n",
      " 10  Stress                         1470 non-null   int64  \n",
      " 11  WE                             1470 non-null   float64\n",
      " 12  HPQ                            1470 non-null   int64  \n",
      " 13  JobSaticefaction               1470 non-null   int64  \n",
      " 14  FrequencyofMeditation          1470 non-null   int64  \n",
      "dtypes: float64(3), int64(12)\n",
      "memory usage: 172.4 KB\n"
     ]
    }
   ],
   "source": [
    "JP2.info()"
   ]
  },
  {
   "cell_type": "markdown",
   "id": "a5fc9a7a-96f7-45ba-9ec0-5ba368fc035f",
   "metadata": {},
   "source": [
    "**Increased Gamma Brainwave Amplitude Compared to Control in Three Different Meditation Traditions**"
   ]
  },
  {
   "cell_type": "markdown",
   "id": "d2e5ebb9-37a9-4ae8-afd0-be2335157996",
   "metadata": {},
   "source": [
    "**3) Import third dataset** -- There are four type of participant. Data are from 20 meditators from the Vipassana tradition, 27 meditators from Himalayan Yoga Tradition, 20 meditators from Isha Shoonya Yoga tradition and 32 controls."
   ]
  },
  {
   "cell_type": "code",
   "execution_count": 8,
   "id": "7fdfc121-33a7-47b5-895f-9bb9a245626e",
   "metadata": {},
   "outputs": [],
   "source": [
    "Gamma_data = pd.read_csv('Gamma_med.csv')"
   ]
  },
  {
   "cell_type": "code",
   "execution_count": 9,
   "id": "d423f223-f090-4786-b376-0213df28d35f",
   "metadata": {},
   "outputs": [
    {
     "data": {
      "text/html": [
       "<div>\n",
       "<style scoped>\n",
       "    .dataframe tbody tr th:only-of-type {\n",
       "        vertical-align: middle;\n",
       "    }\n",
       "\n",
       "    .dataframe tbody tr th {\n",
       "        vertical-align: top;\n",
       "    }\n",
       "\n",
       "    .dataframe thead th {\n",
       "        text-align: right;\n",
       "    }\n",
       "</style>\n",
       "<table border=\"1\" class=\"dataframe\">\n",
       "  <thead>\n",
       "    <tr style=\"text-align: right;\">\n",
       "      <th></th>\n",
       "      <th>Sujet</th>\n",
       "      <th>Type</th>\n",
       "      <th>Meditation Expe</th>\n",
       "      <th>Age</th>\n",
       "      <th>Median Gamma</th>\n",
       "      <th>Depth Med</th>\n",
       "    </tr>\n",
       "  </thead>\n",
       "  <tbody>\n",
       "    <tr>\n",
       "      <th>0</th>\n",
       "      <td>CTR11</td>\n",
       "      <td>CTR</td>\n",
       "      <td>0.0</td>\n",
       "      <td>30</td>\n",
       "      <td>30.3748</td>\n",
       "      <td>0.0</td>\n",
       "    </tr>\n",
       "    <tr>\n",
       "      <th>1</th>\n",
       "      <td>CTR12</td>\n",
       "      <td>CTR</td>\n",
       "      <td>0.0</td>\n",
       "      <td>45</td>\n",
       "      <td>33.9095</td>\n",
       "      <td>0.0</td>\n",
       "    </tr>\n",
       "    <tr>\n",
       "      <th>2</th>\n",
       "      <td>CTR13</td>\n",
       "      <td>CTR</td>\n",
       "      <td>0.0</td>\n",
       "      <td>50</td>\n",
       "      <td>26.6397</td>\n",
       "      <td>0.0</td>\n",
       "    </tr>\n",
       "    <tr>\n",
       "      <th>3</th>\n",
       "      <td>CTR14</td>\n",
       "      <td>CTR</td>\n",
       "      <td>0.0</td>\n",
       "      <td>47</td>\n",
       "      <td>33.0826</td>\n",
       "      <td>0.0</td>\n",
       "    </tr>\n",
       "    <tr>\n",
       "      <th>4</th>\n",
       "      <td>CTR15</td>\n",
       "      <td>CTR</td>\n",
       "      <td>0.0</td>\n",
       "      <td>36</td>\n",
       "      <td>34.5707</td>\n",
       "      <td>0.0</td>\n",
       "    </tr>\n",
       "  </tbody>\n",
       "</table>\n",
       "</div>"
      ],
      "text/plain": [
       "   Sujet Type  Meditation Expe  Age  Median Gamma  Depth Med\n",
       "0  CTR11  CTR              0.0   30       30.3748        0.0\n",
       "1  CTR12  CTR              0.0   45       33.9095        0.0\n",
       "2  CTR13  CTR              0.0   50       26.6397        0.0\n",
       "3  CTR14  CTR              0.0   47       33.0826        0.0\n",
       "4  CTR15  CTR              0.0   36       34.5707        0.0"
      ]
     },
     "execution_count": 9,
     "metadata": {},
     "output_type": "execute_result"
    }
   ],
   "source": [
    "Gamma_data.head()"
   ]
  },
  {
   "cell_type": "code",
   "execution_count": 10,
   "id": "e4e74d45-ea59-4301-b040-d809124b66a1",
   "metadata": {},
   "outputs": [
    {
     "name": "stdout",
     "output_type": "stream",
     "text": [
      "<class 'pandas.core.frame.DataFrame'>\n",
      "RangeIndex: 64 entries, 0 to 63\n",
      "Data columns (total 6 columns):\n",
      " #   Column           Non-Null Count  Dtype  \n",
      "---  ------           --------------  -----  \n",
      " 0   Sujet            64 non-null     object \n",
      " 1   Type             64 non-null     object \n",
      " 2   Meditation Expe  64 non-null     float64\n",
      " 3   Age              64 non-null     int64  \n",
      " 4   Median Gamma     64 non-null     float64\n",
      " 5   Depth Med        64 non-null     float64\n",
      "dtypes: float64(3), int64(1), object(2)\n",
      "memory usage: 3.1+ KB\n"
     ]
    }
   ],
   "source": [
    "Gamma_data.info()"
   ]
  },
  {
   "cell_type": "markdown",
   "id": "ee05905f-87a7-430a-a7c9-3a863f12e953",
   "metadata": {},
   "source": [
    "**Google Play Store Meditation App Reviews**"
   ]
  },
  {
   "cell_type": "markdown",
   "id": "081a77a3-d7fd-4940-a414-6e9b89620382",
   "metadata": {},
   "source": [
    "**4) Import Calm and Meditopia** -- with 1452 reviews in the US market."
   ]
  },
  {
   "cell_type": "code",
   "execution_count": 11,
   "id": "6d333820-b159-4613-9c5f-f2dbbd800df5",
   "metadata": {},
   "outputs": [],
   "source": [
    "playmeditopia_us = pd.read_csv('playmeditopia_us.csv')"
   ]
  },
  {
   "cell_type": "code",
   "execution_count": 12,
   "id": "e4d491ee-d69f-431a-ba0c-5d4590ad6bec",
   "metadata": {},
   "outputs": [
    {
     "data": {
      "text/html": [
       "<div>\n",
       "<style scoped>\n",
       "    .dataframe tbody tr th:only-of-type {\n",
       "        vertical-align: middle;\n",
       "    }\n",
       "\n",
       "    .dataframe tbody tr th {\n",
       "        vertical-align: top;\n",
       "    }\n",
       "\n",
       "    .dataframe thead th {\n",
       "        text-align: right;\n",
       "    }\n",
       "</style>\n",
       "<table border=\"1\" class=\"dataframe\">\n",
       "  <thead>\n",
       "    <tr style=\"text-align: right;\">\n",
       "      <th></th>\n",
       "      <th>Unnamed: 0</th>\n",
       "      <th>reviewId</th>\n",
       "      <th>userName</th>\n",
       "      <th>userImage</th>\n",
       "      <th>content</th>\n",
       "      <th>score</th>\n",
       "      <th>thumbsUpCount</th>\n",
       "      <th>reviewCreatedVersion</th>\n",
       "      <th>at</th>\n",
       "      <th>replyContent</th>\n",
       "      <th>repliedAt</th>\n",
       "    </tr>\n",
       "  </thead>\n",
       "  <tbody>\n",
       "    <tr>\n",
       "      <th>0</th>\n",
       "      <td>0</td>\n",
       "      <td>gp:AOqpTOEuHiXepchc_zH_yo8tfSmHHN8TCBXgXayrHL2...</td>\n",
       "      <td>Gordeh Man</td>\n",
       "      <td>https://play-lh.googleusercontent.com/-t41P6cc...</td>\n",
       "      <td>This app can be wonderfully helpful in dealing...</td>\n",
       "      <td>5</td>\n",
       "      <td>9</td>\n",
       "      <td>3.14.1</td>\n",
       "      <td>2021-02-16 11:56:17</td>\n",
       "      <td>Thank you so much for sharing your ideas with ...</td>\n",
       "      <td>2021-02-18 16:18:41</td>\n",
       "    </tr>\n",
       "    <tr>\n",
       "      <th>1</th>\n",
       "      <td>1</td>\n",
       "      <td>gp:AOqpTOFwY-lQRCIChJB3IJxeOHbZEeIuO4ZL1wg7uOy...</td>\n",
       "      <td>Ekaterine Khoperia</td>\n",
       "      <td>https://play-lh.googleusercontent.com/a-/AOh14...</td>\n",
       "      <td>Very balanced, needs oriented, user friendly a...</td>\n",
       "      <td>5</td>\n",
       "      <td>5</td>\n",
       "      <td>3.14.1</td>\n",
       "      <td>2021-02-18 14:25:44</td>\n",
       "      <td>NaN</td>\n",
       "      <td>NaN</td>\n",
       "    </tr>\n",
       "    <tr>\n",
       "      <th>2</th>\n",
       "      <td>2</td>\n",
       "      <td>gp:AOqpTOEz9cwfZZd9BxorlHiGFxQdD0SQa2TKc7KSFHl...</td>\n",
       "      <td>Michele Mazo</td>\n",
       "      <td>https://play-lh.googleusercontent.com/a-/AOh14...</td>\n",
       "      <td>I love this app. Learning to meditate is a pro...</td>\n",
       "      <td>5</td>\n",
       "      <td>0</td>\n",
       "      <td>3.14.1</td>\n",
       "      <td>2021-02-18 20:09:16</td>\n",
       "      <td>NaN</td>\n",
       "      <td>NaN</td>\n",
       "    </tr>\n",
       "    <tr>\n",
       "      <th>3</th>\n",
       "      <td>3</td>\n",
       "      <td>gp:AOqpTOFxrN5MbV_XF-IINxaupDuJycr3594wF08U_89...</td>\n",
       "      <td>Hanna W. - H.</td>\n",
       "      <td>https://play-lh.googleusercontent.com/a-/AOh14...</td>\n",
       "      <td>I have tried few meditation apps before. This ...</td>\n",
       "      <td>5</td>\n",
       "      <td>55</td>\n",
       "      <td>3.13.1</td>\n",
       "      <td>2020-12-17 17:55:54</td>\n",
       "      <td>NaN</td>\n",
       "      <td>NaN</td>\n",
       "    </tr>\n",
       "    <tr>\n",
       "      <th>4</th>\n",
       "      <td>4</td>\n",
       "      <td>gp:AOqpTOF0nGQPbduEuIzfB3RQU7ZnJI37E3TIDmL83xd...</td>\n",
       "      <td>Mary Lauzon</td>\n",
       "      <td>https://play-lh.googleusercontent.com/a-/AOh14...</td>\n",
       "      <td>I've many mental illness problems and this app...</td>\n",
       "      <td>5</td>\n",
       "      <td>41</td>\n",
       "      <td>3.13.1</td>\n",
       "      <td>2020-12-23 21:16:31</td>\n",
       "      <td>NaN</td>\n",
       "      <td>NaN</td>\n",
       "    </tr>\n",
       "  </tbody>\n",
       "</table>\n",
       "</div>"
      ],
      "text/plain": [
       "   Unnamed: 0                                           reviewId  \\\n",
       "0           0  gp:AOqpTOEuHiXepchc_zH_yo8tfSmHHN8TCBXgXayrHL2...   \n",
       "1           1  gp:AOqpTOFwY-lQRCIChJB3IJxeOHbZEeIuO4ZL1wg7uOy...   \n",
       "2           2  gp:AOqpTOEz9cwfZZd9BxorlHiGFxQdD0SQa2TKc7KSFHl...   \n",
       "3           3  gp:AOqpTOFxrN5MbV_XF-IINxaupDuJycr3594wF08U_89...   \n",
       "4           4  gp:AOqpTOF0nGQPbduEuIzfB3RQU7ZnJI37E3TIDmL83xd...   \n",
       "\n",
       "             userName                                          userImage  \\\n",
       "0          Gordeh Man  https://play-lh.googleusercontent.com/-t41P6cc...   \n",
       "1  Ekaterine Khoperia  https://play-lh.googleusercontent.com/a-/AOh14...   \n",
       "2        Michele Mazo  https://play-lh.googleusercontent.com/a-/AOh14...   \n",
       "3       Hanna W. - H.  https://play-lh.googleusercontent.com/a-/AOh14...   \n",
       "4         Mary Lauzon  https://play-lh.googleusercontent.com/a-/AOh14...   \n",
       "\n",
       "                                             content  score  thumbsUpCount  \\\n",
       "0  This app can be wonderfully helpful in dealing...      5              9   \n",
       "1  Very balanced, needs oriented, user friendly a...      5              5   \n",
       "2  I love this app. Learning to meditate is a pro...      5              0   \n",
       "3  I have tried few meditation apps before. This ...      5             55   \n",
       "4  I've many mental illness problems and this app...      5             41   \n",
       "\n",
       "  reviewCreatedVersion                   at  \\\n",
       "0               3.14.1  2021-02-16 11:56:17   \n",
       "1               3.14.1  2021-02-18 14:25:44   \n",
       "2               3.14.1  2021-02-18 20:09:16   \n",
       "3               3.13.1  2020-12-17 17:55:54   \n",
       "4               3.13.1  2020-12-23 21:16:31   \n",
       "\n",
       "                                        replyContent            repliedAt  \n",
       "0  Thank you so much for sharing your ideas with ...  2021-02-18 16:18:41  \n",
       "1                                                NaN                  NaN  \n",
       "2                                                NaN                  NaN  \n",
       "3                                                NaN                  NaN  \n",
       "4                                                NaN                  NaN  "
      ]
     },
     "execution_count": 12,
     "metadata": {},
     "output_type": "execute_result"
    }
   ],
   "source": [
    "playmeditopia_us.head()"
   ]
  },
  {
   "cell_type": "code",
   "execution_count": 13,
   "id": "a363c141-78c1-4c7a-806b-0cb4ac73ccba",
   "metadata": {},
   "outputs": [
    {
     "name": "stdout",
     "output_type": "stream",
     "text": [
      "<class 'pandas.core.frame.DataFrame'>\n",
      "RangeIndex: 1453 entries, 0 to 1452\n",
      "Data columns (total 11 columns):\n",
      " #   Column                Non-Null Count  Dtype \n",
      "---  ------                --------------  ----- \n",
      " 0   Unnamed: 0            1453 non-null   int64 \n",
      " 1   reviewId              1453 non-null   object\n",
      " 2   userName              1453 non-null   object\n",
      " 3   userImage             1453 non-null   object\n",
      " 4   content               1453 non-null   object\n",
      " 5   score                 1453 non-null   int64 \n",
      " 6   thumbsUpCount         1453 non-null   int64 \n",
      " 7   reviewCreatedVersion  1362 non-null   object\n",
      " 8   at                    1453 non-null   object\n",
      " 9   replyContent          124 non-null    object\n",
      " 10  repliedAt             124 non-null    object\n",
      "dtypes: int64(3), object(8)\n",
      "memory usage: 125.0+ KB\n"
     ]
    }
   ],
   "source": [
    "playmeditopia_us.info()"
   ]
  },
  {
   "cell_type": "markdown",
   "id": "52df0009-00ca-40f9-b31b-a9963f0c0d09",
   "metadata": {},
   "source": [
    "**App Store Meditation App Reviews**"
   ]
  },
  {
   "cell_type": "markdown",
   "id": "87548ca9-01ae-4e58-8b18-301d36bc717d",
   "metadata": {},
   "source": [
    "**5) Import Calm and Meditopia** -- with 999 reviews in the US market."
   ]
  },
  {
   "cell_type": "code",
   "execution_count": 14,
   "id": "ca48ad0b-aba5-4f35-b1c1-5b4a8cc5f8fe",
   "metadata": {},
   "outputs": [],
   "source": [
    "appstore_calm_us = pd.read_csv('appstore_calm_us.csv')"
   ]
  },
  {
   "cell_type": "code",
   "execution_count": 15,
   "id": "82f715b4-ce1f-4346-ba46-155501d204ba",
   "metadata": {},
   "outputs": [
    {
     "data": {
      "text/html": [
       "<div>\n",
       "<style scoped>\n",
       "    .dataframe tbody tr th:only-of-type {\n",
       "        vertical-align: middle;\n",
       "    }\n",
       "\n",
       "    .dataframe tbody tr th {\n",
       "        vertical-align: top;\n",
       "    }\n",
       "\n",
       "    .dataframe thead th {\n",
       "        text-align: right;\n",
       "    }\n",
       "</style>\n",
       "<table border=\"1\" class=\"dataframe\">\n",
       "  <thead>\n",
       "    <tr style=\"text-align: right;\">\n",
       "      <th></th>\n",
       "      <th>Unnamed: 0</th>\n",
       "      <th>date</th>\n",
       "      <th>rating</th>\n",
       "      <th>review</th>\n",
       "    </tr>\n",
       "  </thead>\n",
       "  <tbody>\n",
       "    <tr>\n",
       "      <th>0</th>\n",
       "      <td>0</td>\n",
       "      <td>2020-12-06 05:17:39</td>\n",
       "      <td>5</td>\n",
       "      <td>I updated the calm app and just out of curiosi...</td>\n",
       "    </tr>\n",
       "    <tr>\n",
       "      <th>1</th>\n",
       "      <td>1</td>\n",
       "      <td>2020-09-21 22:38:20</td>\n",
       "      <td>3</td>\n",
       "      <td>I really don’t like how you have to pay to get...</td>\n",
       "    </tr>\n",
       "    <tr>\n",
       "      <th>2</th>\n",
       "      <td>2</td>\n",
       "      <td>2020-12-08 16:02:24</td>\n",
       "      <td>3</td>\n",
       "      <td>I just wanted to leave a recommendation.  Ther...</td>\n",
       "    </tr>\n",
       "    <tr>\n",
       "      <th>3</th>\n",
       "      <td>3</td>\n",
       "      <td>2020-04-11 13:11:09</td>\n",
       "      <td>5</td>\n",
       "      <td>I absolutely love love love this app!!!!♥️ onc...</td>\n",
       "    </tr>\n",
       "    <tr>\n",
       "      <th>4</th>\n",
       "      <td>4</td>\n",
       "      <td>2020-05-24 19:52:55</td>\n",
       "      <td>4</td>\n",
       "      <td>Honestly, I had come to a point in my life whe...</td>\n",
       "    </tr>\n",
       "  </tbody>\n",
       "</table>\n",
       "</div>"
      ],
      "text/plain": [
       "   Unnamed: 0                 date  rating  \\\n",
       "0           0  2020-12-06 05:17:39       5   \n",
       "1           1  2020-09-21 22:38:20       3   \n",
       "2           2  2020-12-08 16:02:24       3   \n",
       "3           3  2020-04-11 13:11:09       5   \n",
       "4           4  2020-05-24 19:52:55       4   \n",
       "\n",
       "                                              review  \n",
       "0  I updated the calm app and just out of curiosi...  \n",
       "1  I really don’t like how you have to pay to get...  \n",
       "2  I just wanted to leave a recommendation.  Ther...  \n",
       "3  I absolutely love love love this app!!!!♥️ onc...  \n",
       "4  Honestly, I had come to a point in my life whe...  "
      ]
     },
     "execution_count": 15,
     "metadata": {},
     "output_type": "execute_result"
    }
   ],
   "source": [
    "appstore_calm_us.head()"
   ]
  },
  {
   "cell_type": "code",
   "execution_count": 16,
   "id": "19ffa866-c4cc-43c8-ad40-f388ebe73925",
   "metadata": {},
   "outputs": [
    {
     "name": "stdout",
     "output_type": "stream",
     "text": [
      "<class 'pandas.core.frame.DataFrame'>\n",
      "RangeIndex: 1000 entries, 0 to 999\n",
      "Data columns (total 4 columns):\n",
      " #   Column      Non-Null Count  Dtype \n",
      "---  ------      --------------  ----- \n",
      " 0   Unnamed: 0  1000 non-null   int64 \n",
      " 1   date        1000 non-null   object\n",
      " 2   rating      1000 non-null   int64 \n",
      " 3   review      1000 non-null   object\n",
      "dtypes: int64(2), object(2)\n",
      "memory usage: 31.4+ KB\n"
     ]
    }
   ],
   "source": [
    "appstore_calm_us.info()"
   ]
  },
  {
   "cell_type": "markdown",
   "id": "8c51e85c-0e95-496f-948f-faa6f3a52bf8",
   "metadata": {},
   "source": [
    "## 3 Data cleaning and processing"
   ]
  },
  {
   "cell_type": "markdown",
   "id": "4c67e213-1fb7-46de-bacb-8ebceb2ca0ab",
   "metadata": {},
   "source": [
    "### 3.1 Tokenization"
   ]
  },
  {
   "cell_type": "markdown",
   "id": "2f4d048d-eefb-47ea-8769-2a9bb493e4a4",
   "metadata": {},
   "source": [
    "Tokenization along with regular expressions can be done using NLTK's RegexpTokenizer. The majority of letters that can make up a word in any language, as well as digits and the underscore, are all recognized by w+ as Unicode word characters with one or more occurrences."
   ]
  },
  {
   "cell_type": "markdown",
   "id": "b774725a-102b-4e36-8a2f-1eaf1b0feded",
   "metadata": {},
   "source": [
    "**Google Play Store Meditation App Reviews**"
   ]
  },
  {
   "cell_type": "code",
   "execution_count": 17,
   "id": "2c123caf-a4cf-4806-9fa3-1dafe48b3762",
   "metadata": {},
   "outputs": [],
   "source": [
    "regexp = RegexpTokenizer('\\w+')"
   ]
  },
  {
   "cell_type": "code",
   "execution_count": 18,
   "id": "e279cef9-3464-4324-a7d4-34b7c8451058",
   "metadata": {},
   "outputs": [
    {
     "data": {
      "text/html": [
       "<div>\n",
       "<style scoped>\n",
       "    .dataframe tbody tr th:only-of-type {\n",
       "        vertical-align: middle;\n",
       "    }\n",
       "\n",
       "    .dataframe tbody tr th {\n",
       "        vertical-align: top;\n",
       "    }\n",
       "\n",
       "    .dataframe thead th {\n",
       "        text-align: right;\n",
       "    }\n",
       "</style>\n",
       "<table border=\"1\" class=\"dataframe\">\n",
       "  <thead>\n",
       "    <tr style=\"text-align: right;\">\n",
       "      <th></th>\n",
       "      <th>Unnamed: 0</th>\n",
       "      <th>reviewId</th>\n",
       "      <th>userName</th>\n",
       "      <th>userImage</th>\n",
       "      <th>content</th>\n",
       "      <th>score</th>\n",
       "      <th>thumbsUpCount</th>\n",
       "      <th>reviewCreatedVersion</th>\n",
       "      <th>at</th>\n",
       "      <th>replyContent</th>\n",
       "      <th>repliedAt</th>\n",
       "      <th>content_token</th>\n",
       "    </tr>\n",
       "  </thead>\n",
       "  <tbody>\n",
       "    <tr>\n",
       "      <th>0</th>\n",
       "      <td>0</td>\n",
       "      <td>gp:AOqpTOEuHiXepchc_zH_yo8tfSmHHN8TCBXgXayrHL2...</td>\n",
       "      <td>Gordeh Man</td>\n",
       "      <td>https://play-lh.googleusercontent.com/-t41P6cc...</td>\n",
       "      <td>This app can be wonderfully helpful in dealing...</td>\n",
       "      <td>5</td>\n",
       "      <td>9</td>\n",
       "      <td>3.14.1</td>\n",
       "      <td>2021-02-16 11:56:17</td>\n",
       "      <td>Thank you so much for sharing your ideas with ...</td>\n",
       "      <td>2021-02-18 16:18:41</td>\n",
       "      <td>[This, app, can, be, wonderfully, helpful, in,...</td>\n",
       "    </tr>\n",
       "    <tr>\n",
       "      <th>1</th>\n",
       "      <td>1</td>\n",
       "      <td>gp:AOqpTOFwY-lQRCIChJB3IJxeOHbZEeIuO4ZL1wg7uOy...</td>\n",
       "      <td>Ekaterine Khoperia</td>\n",
       "      <td>https://play-lh.googleusercontent.com/a-/AOh14...</td>\n",
       "      <td>Very balanced, needs oriented, user friendly a...</td>\n",
       "      <td>5</td>\n",
       "      <td>5</td>\n",
       "      <td>3.14.1</td>\n",
       "      <td>2021-02-18 14:25:44</td>\n",
       "      <td>NaN</td>\n",
       "      <td>NaN</td>\n",
       "      <td>[Very, balanced, needs, oriented, user, friend...</td>\n",
       "    </tr>\n",
       "    <tr>\n",
       "      <th>2</th>\n",
       "      <td>2</td>\n",
       "      <td>gp:AOqpTOEz9cwfZZd9BxorlHiGFxQdD0SQa2TKc7KSFHl...</td>\n",
       "      <td>Michele Mazo</td>\n",
       "      <td>https://play-lh.googleusercontent.com/a-/AOh14...</td>\n",
       "      <td>I love this app. Learning to meditate is a pro...</td>\n",
       "      <td>5</td>\n",
       "      <td>0</td>\n",
       "      <td>3.14.1</td>\n",
       "      <td>2021-02-18 20:09:16</td>\n",
       "      <td>NaN</td>\n",
       "      <td>NaN</td>\n",
       "      <td>[I, love, this, app, Learning, to, meditate, i...</td>\n",
       "    </tr>\n",
       "  </tbody>\n",
       "</table>\n",
       "</div>"
      ],
      "text/plain": [
       "   Unnamed: 0                                           reviewId  \\\n",
       "0           0  gp:AOqpTOEuHiXepchc_zH_yo8tfSmHHN8TCBXgXayrHL2...   \n",
       "1           1  gp:AOqpTOFwY-lQRCIChJB3IJxeOHbZEeIuO4ZL1wg7uOy...   \n",
       "2           2  gp:AOqpTOEz9cwfZZd9BxorlHiGFxQdD0SQa2TKc7KSFHl...   \n",
       "\n",
       "             userName                                          userImage  \\\n",
       "0          Gordeh Man  https://play-lh.googleusercontent.com/-t41P6cc...   \n",
       "1  Ekaterine Khoperia  https://play-lh.googleusercontent.com/a-/AOh14...   \n",
       "2        Michele Mazo  https://play-lh.googleusercontent.com/a-/AOh14...   \n",
       "\n",
       "                                             content  score  thumbsUpCount  \\\n",
       "0  This app can be wonderfully helpful in dealing...      5              9   \n",
       "1  Very balanced, needs oriented, user friendly a...      5              5   \n",
       "2  I love this app. Learning to meditate is a pro...      5              0   \n",
       "\n",
       "  reviewCreatedVersion                   at  \\\n",
       "0               3.14.1  2021-02-16 11:56:17   \n",
       "1               3.14.1  2021-02-18 14:25:44   \n",
       "2               3.14.1  2021-02-18 20:09:16   \n",
       "\n",
       "                                        replyContent            repliedAt  \\\n",
       "0  Thank you so much for sharing your ideas with ...  2021-02-18 16:18:41   \n",
       "1                                                NaN                  NaN   \n",
       "2                                                NaN                  NaN   \n",
       "\n",
       "                                       content_token  \n",
       "0  [This, app, can, be, wonderfully, helpful, in,...  \n",
       "1  [Very, balanced, needs, oriented, user, friend...  \n",
       "2  [I, love, this, app, Learning, to, meditate, i...  "
      ]
     },
     "execution_count": 18,
     "metadata": {},
     "output_type": "execute_result"
    }
   ],
   "source": [
    "playmeditopia_us['content_token']=playmeditopia_us['content'].apply(regexp.tokenize)\n",
    "playmeditopia_us.head(3)"
   ]
  },
  {
   "cell_type": "markdown",
   "id": "9a201718-968a-4d09-9aac-2b574e9baf58",
   "metadata": {},
   "source": [
    "**App Store Meditation App Reviews**"
   ]
  },
  {
   "cell_type": "code",
   "execution_count": 19,
   "id": "6c7c9e36-4d29-4017-a30a-cbdc8f9f7326",
   "metadata": {},
   "outputs": [
    {
     "data": {
      "text/html": [
       "<div>\n",
       "<style scoped>\n",
       "    .dataframe tbody tr th:only-of-type {\n",
       "        vertical-align: middle;\n",
       "    }\n",
       "\n",
       "    .dataframe tbody tr th {\n",
       "        vertical-align: top;\n",
       "    }\n",
       "\n",
       "    .dataframe thead th {\n",
       "        text-align: right;\n",
       "    }\n",
       "</style>\n",
       "<table border=\"1\" class=\"dataframe\">\n",
       "  <thead>\n",
       "    <tr style=\"text-align: right;\">\n",
       "      <th></th>\n",
       "      <th>Unnamed: 0</th>\n",
       "      <th>date</th>\n",
       "      <th>rating</th>\n",
       "      <th>review</th>\n",
       "      <th>review_token</th>\n",
       "    </tr>\n",
       "  </thead>\n",
       "  <tbody>\n",
       "    <tr>\n",
       "      <th>0</th>\n",
       "      <td>0</td>\n",
       "      <td>2020-12-06 05:17:39</td>\n",
       "      <td>5</td>\n",
       "      <td>I updated the calm app and just out of curiosi...</td>\n",
       "      <td>[I, updated, the, calm, app, and, just, out, o...</td>\n",
       "    </tr>\n",
       "    <tr>\n",
       "      <th>1</th>\n",
       "      <td>1</td>\n",
       "      <td>2020-09-21 22:38:20</td>\n",
       "      <td>3</td>\n",
       "      <td>I really don’t like how you have to pay to get...</td>\n",
       "      <td>[I, really, don, t, like, how, you, have, to, ...</td>\n",
       "    </tr>\n",
       "    <tr>\n",
       "      <th>2</th>\n",
       "      <td>2</td>\n",
       "      <td>2020-12-08 16:02:24</td>\n",
       "      <td>3</td>\n",
       "      <td>I just wanted to leave a recommendation.  Ther...</td>\n",
       "      <td>[I, just, wanted, to, leave, a, recommendation...</td>\n",
       "    </tr>\n",
       "  </tbody>\n",
       "</table>\n",
       "</div>"
      ],
      "text/plain": [
       "   Unnamed: 0                 date  rating  \\\n",
       "0           0  2020-12-06 05:17:39       5   \n",
       "1           1  2020-09-21 22:38:20       3   \n",
       "2           2  2020-12-08 16:02:24       3   \n",
       "\n",
       "                                              review  \\\n",
       "0  I updated the calm app and just out of curiosi...   \n",
       "1  I really don’t like how you have to pay to get...   \n",
       "2  I just wanted to leave a recommendation.  Ther...   \n",
       "\n",
       "                                        review_token  \n",
       "0  [I, updated, the, calm, app, and, just, out, o...  \n",
       "1  [I, really, don, t, like, how, you, have, to, ...  \n",
       "2  [I, just, wanted, to, leave, a, recommendation...  "
      ]
     },
     "execution_count": 19,
     "metadata": {},
     "output_type": "execute_result"
    }
   ],
   "source": [
    "appstore_calm_us['review_token']=appstore_calm_us['review'].apply(regexp.tokenize)\n",
    "appstore_calm_us.head(3)"
   ]
  },
  {
   "cell_type": "markdown",
   "id": "c1d3300b-fd41-4526-bc9e-089d6318c723",
   "metadata": {},
   "source": [
    "### 3.2 Removing stop words"
   ]
  },
  {
   "cell_type": "markdown",
   "id": "2736c2fa-4f2a-46e4-beaf-09c642a19d8e",
   "metadata": {},
   "source": [
    "Stop words are terms in a stop list that are eliminated before natural language data analysis since they don't provide useful information (such as \"am,\" \"or,\" \"has,\"...\")."
   ]
  },
  {
   "cell_type": "code",
   "execution_count": 20,
   "id": "f605262b-55a3-4c41-950d-7cf98bc3d85d",
   "metadata": {},
   "outputs": [
    {
     "name": "stdout",
     "output_type": "stream",
     "text": [
      "showing info https://raw.githubusercontent.com/nltk/nltk_data/gh-pages/index.xml\n"
     ]
    },
    {
     "data": {
      "text/plain": [
       "True"
      ]
     },
     "execution_count": 20,
     "metadata": {},
     "output_type": "execute_result"
    }
   ],
   "source": [
    "nltk.download()"
   ]
  },
  {
   "cell_type": "code",
   "execution_count": 21,
   "id": "0ee92500-3ca5-4e20-8c91-d708952cadae",
   "metadata": {},
   "outputs": [],
   "source": [
    "# Make a list of english stopwords\n",
    "stopwords = nltk.corpus.stopwords.words(\"english\")\n",
    "\n",
    "# Extend the list my own custom stopwords - As meditation is the topic \n",
    "my_stopwords = ['meditation']\n",
    "stopwords.extend(my_stopwords)"
   ]
  },
  {
   "cell_type": "markdown",
   "id": "942f5639-caa7-47af-b21f-6d04ed6b53da",
   "metadata": {},
   "source": [
    "### 3.2.1 Lambda"
   ]
  },
  {
   "cell_type": "markdown",
   "id": "77f63942-a56d-4dd3-a5ba-7141be5cc8c8",
   "metadata": {},
   "source": [
    "To eliminate the stopwords, we use a lambda function:"
   ]
  },
  {
   "cell_type": "markdown",
   "id": "b94b72ca-795b-45bb-a001-1ce64ca98359",
   "metadata": {},
   "source": [
    "We convert text token's format to strings, keeping only words longer than two characters."
   ]
  },
  {
   "cell_type": "markdown",
   "id": "4a8884ef-ecde-48ef-9cfb-57e87ca2eaae",
   "metadata": {},
   "source": [
    "**Google Play Store Meditation App Reviews**"
   ]
  },
  {
   "cell_type": "code",
   "execution_count": 22,
   "id": "0d22d49b-a295-4f2e-98be-c0340b0c025b",
   "metadata": {},
   "outputs": [
    {
     "data": {
      "text/html": [
       "<div>\n",
       "<style scoped>\n",
       "    .dataframe tbody tr th:only-of-type {\n",
       "        vertical-align: middle;\n",
       "    }\n",
       "\n",
       "    .dataframe tbody tr th {\n",
       "        vertical-align: top;\n",
       "    }\n",
       "\n",
       "    .dataframe thead th {\n",
       "        text-align: right;\n",
       "    }\n",
       "</style>\n",
       "<table border=\"1\" class=\"dataframe\">\n",
       "  <thead>\n",
       "    <tr style=\"text-align: right;\">\n",
       "      <th></th>\n",
       "      <th>Unnamed: 0</th>\n",
       "      <th>reviewId</th>\n",
       "      <th>userName</th>\n",
       "      <th>userImage</th>\n",
       "      <th>content</th>\n",
       "      <th>score</th>\n",
       "      <th>thumbsUpCount</th>\n",
       "      <th>reviewCreatedVersion</th>\n",
       "      <th>at</th>\n",
       "      <th>replyContent</th>\n",
       "      <th>repliedAt</th>\n",
       "      <th>content_token</th>\n",
       "    </tr>\n",
       "  </thead>\n",
       "  <tbody>\n",
       "    <tr>\n",
       "      <th>0</th>\n",
       "      <td>0</td>\n",
       "      <td>gp:AOqpTOEuHiXepchc_zH_yo8tfSmHHN8TCBXgXayrHL2...</td>\n",
       "      <td>Gordeh Man</td>\n",
       "      <td>https://play-lh.googleusercontent.com/-t41P6cc...</td>\n",
       "      <td>This app can be wonderfully helpful in dealing...</td>\n",
       "      <td>5</td>\n",
       "      <td>9</td>\n",
       "      <td>3.14.1</td>\n",
       "      <td>2021-02-16 11:56:17</td>\n",
       "      <td>Thank you so much for sharing your ideas with ...</td>\n",
       "      <td>2021-02-18 16:18:41</td>\n",
       "      <td>[This, app, wonderfully, helpful, dealing, str...</td>\n",
       "    </tr>\n",
       "    <tr>\n",
       "      <th>1</th>\n",
       "      <td>1</td>\n",
       "      <td>gp:AOqpTOFwY-lQRCIChJB3IJxeOHbZEeIuO4ZL1wg7uOy...</td>\n",
       "      <td>Ekaterine Khoperia</td>\n",
       "      <td>https://play-lh.googleusercontent.com/a-/AOh14...</td>\n",
       "      <td>Very balanced, needs oriented, user friendly a...</td>\n",
       "      <td>5</td>\n",
       "      <td>5</td>\n",
       "      <td>3.14.1</td>\n",
       "      <td>2021-02-18 14:25:44</td>\n",
       "      <td>NaN</td>\n",
       "      <td>NaN</td>\n",
       "      <td>[Very, balanced, needs, oriented, user, friend...</td>\n",
       "    </tr>\n",
       "    <tr>\n",
       "      <th>2</th>\n",
       "      <td>2</td>\n",
       "      <td>gp:AOqpTOEz9cwfZZd9BxorlHiGFxQdD0SQa2TKc7KSFHl...</td>\n",
       "      <td>Michele Mazo</td>\n",
       "      <td>https://play-lh.googleusercontent.com/a-/AOh14...</td>\n",
       "      <td>I love this app. Learning to meditate is a pro...</td>\n",
       "      <td>5</td>\n",
       "      <td>0</td>\n",
       "      <td>3.14.1</td>\n",
       "      <td>2021-02-18 20:09:16</td>\n",
       "      <td>NaN</td>\n",
       "      <td>NaN</td>\n",
       "      <td>[I, love, app, Learning, meditate, process, ap...</td>\n",
       "    </tr>\n",
       "  </tbody>\n",
       "</table>\n",
       "</div>"
      ],
      "text/plain": [
       "   Unnamed: 0                                           reviewId  \\\n",
       "0           0  gp:AOqpTOEuHiXepchc_zH_yo8tfSmHHN8TCBXgXayrHL2...   \n",
       "1           1  gp:AOqpTOFwY-lQRCIChJB3IJxeOHbZEeIuO4ZL1wg7uOy...   \n",
       "2           2  gp:AOqpTOEz9cwfZZd9BxorlHiGFxQdD0SQa2TKc7KSFHl...   \n",
       "\n",
       "             userName                                          userImage  \\\n",
       "0          Gordeh Man  https://play-lh.googleusercontent.com/-t41P6cc...   \n",
       "1  Ekaterine Khoperia  https://play-lh.googleusercontent.com/a-/AOh14...   \n",
       "2        Michele Mazo  https://play-lh.googleusercontent.com/a-/AOh14...   \n",
       "\n",
       "                                             content  score  thumbsUpCount  \\\n",
       "0  This app can be wonderfully helpful in dealing...      5              9   \n",
       "1  Very balanced, needs oriented, user friendly a...      5              5   \n",
       "2  I love this app. Learning to meditate is a pro...      5              0   \n",
       "\n",
       "  reviewCreatedVersion                   at  \\\n",
       "0               3.14.1  2021-02-16 11:56:17   \n",
       "1               3.14.1  2021-02-18 14:25:44   \n",
       "2               3.14.1  2021-02-18 20:09:16   \n",
       "\n",
       "                                        replyContent            repliedAt  \\\n",
       "0  Thank you so much for sharing your ideas with ...  2021-02-18 16:18:41   \n",
       "1                                                NaN                  NaN   \n",
       "2                                                NaN                  NaN   \n",
       "\n",
       "                                       content_token  \n",
       "0  [This, app, wonderfully, helpful, dealing, str...  \n",
       "1  [Very, balanced, needs, oriented, user, friend...  \n",
       "2  [I, love, app, Learning, meditate, process, ap...  "
      ]
     },
     "execution_count": 22,
     "metadata": {},
     "output_type": "execute_result"
    }
   ],
   "source": [
    "playmeditopia_us['content_token'] = playmeditopia_us['content_token'].apply(lambda x: [item for item in x if item not in stopwords])\n",
    "playmeditopia_us.head(3)"
   ]
  },
  {
   "cell_type": "code",
   "execution_count": 23,
   "id": "b7290cff-fde3-481c-9fa5-30e0260a07ec",
   "metadata": {},
   "outputs": [],
   "source": [
    "playmeditopia_us['content_string'] = playmeditopia_us['content_token'].apply(lambda x: ' '.join([item for item in x if len(item)>2]))"
   ]
  },
  {
   "cell_type": "code",
   "execution_count": 24,
   "id": "fd4baf2c-773d-4d32-9cc0-536f465d6689",
   "metadata": {},
   "outputs": [
    {
     "data": {
      "text/html": [
       "<div>\n",
       "<style scoped>\n",
       "    .dataframe tbody tr th:only-of-type {\n",
       "        vertical-align: middle;\n",
       "    }\n",
       "\n",
       "    .dataframe tbody tr th {\n",
       "        vertical-align: top;\n",
       "    }\n",
       "\n",
       "    .dataframe thead th {\n",
       "        text-align: right;\n",
       "    }\n",
       "</style>\n",
       "<table border=\"1\" class=\"dataframe\">\n",
       "  <thead>\n",
       "    <tr style=\"text-align: right;\">\n",
       "      <th></th>\n",
       "      <th>content</th>\n",
       "      <th>content_token</th>\n",
       "      <th>content_string</th>\n",
       "    </tr>\n",
       "  </thead>\n",
       "  <tbody>\n",
       "    <tr>\n",
       "      <th>0</th>\n",
       "      <td>This app can be wonderfully helpful in dealing...</td>\n",
       "      <td>[This, app, wonderfully, helpful, dealing, str...</td>\n",
       "      <td>This app wonderfully helpful dealing stress an...</td>\n",
       "    </tr>\n",
       "    <tr>\n",
       "      <th>1</th>\n",
       "      <td>Very balanced, needs oriented, user friendly a...</td>\n",
       "      <td>[Very, balanced, needs, oriented, user, friend...</td>\n",
       "      <td>Very balanced needs oriented user friendly use...</td>\n",
       "    </tr>\n",
       "    <tr>\n",
       "      <th>2</th>\n",
       "      <td>I love this app. Learning to meditate is a pro...</td>\n",
       "      <td>[I, love, app, Learning, meditate, process, ap...</td>\n",
       "      <td>love app Learning meditate process app provide...</td>\n",
       "    </tr>\n",
       "    <tr>\n",
       "      <th>3</th>\n",
       "      <td>I have tried few meditation apps before. This ...</td>\n",
       "      <td>[I, tried, apps, This, one, best, It, good, wi...</td>\n",
       "      <td>tried apps This one best good wide choice medi...</td>\n",
       "    </tr>\n",
       "    <tr>\n",
       "      <th>4</th>\n",
       "      <td>I've many mental illness problems and this app...</td>\n",
       "      <td>[I, many, mental, illness, problems, app, real...</td>\n",
       "      <td>many mental illness problems app really help a...</td>\n",
       "    </tr>\n",
       "  </tbody>\n",
       "</table>\n",
       "</div>"
      ],
      "text/plain": [
       "                                             content  \\\n",
       "0  This app can be wonderfully helpful in dealing...   \n",
       "1  Very balanced, needs oriented, user friendly a...   \n",
       "2  I love this app. Learning to meditate is a pro...   \n",
       "3  I have tried few meditation apps before. This ...   \n",
       "4  I've many mental illness problems and this app...   \n",
       "\n",
       "                                       content_token  \\\n",
       "0  [This, app, wonderfully, helpful, dealing, str...   \n",
       "1  [Very, balanced, needs, oriented, user, friend...   \n",
       "2  [I, love, app, Learning, meditate, process, ap...   \n",
       "3  [I, tried, apps, This, one, best, It, good, wi...   \n",
       "4  [I, many, mental, illness, problems, app, real...   \n",
       "\n",
       "                                      content_string  \n",
       "0  This app wonderfully helpful dealing stress an...  \n",
       "1  Very balanced needs oriented user friendly use...  \n",
       "2  love app Learning meditate process app provide...  \n",
       "3  tried apps This one best good wide choice medi...  \n",
       "4  many mental illness problems app really help a...  "
      ]
     },
     "execution_count": 24,
     "metadata": {},
     "output_type": "execute_result"
    }
   ],
   "source": [
    "playmeditopia_us[['content', 'content_token', 'content_string']].head()"
   ]
  },
  {
   "cell_type": "markdown",
   "id": "0ab195a9-f084-4455-bfb3-c0e5990d2a73",
   "metadata": {},
   "source": [
    "**App Store Meditation App Reviews**"
   ]
  },
  {
   "cell_type": "code",
   "execution_count": 25,
   "id": "a4108e05-8199-46c7-a40f-2661cf5c0128",
   "metadata": {},
   "outputs": [
    {
     "data": {
      "text/html": [
       "<div>\n",
       "<style scoped>\n",
       "    .dataframe tbody tr th:only-of-type {\n",
       "        vertical-align: middle;\n",
       "    }\n",
       "\n",
       "    .dataframe tbody tr th {\n",
       "        vertical-align: top;\n",
       "    }\n",
       "\n",
       "    .dataframe thead th {\n",
       "        text-align: right;\n",
       "    }\n",
       "</style>\n",
       "<table border=\"1\" class=\"dataframe\">\n",
       "  <thead>\n",
       "    <tr style=\"text-align: right;\">\n",
       "      <th></th>\n",
       "      <th>Unnamed: 0</th>\n",
       "      <th>date</th>\n",
       "      <th>rating</th>\n",
       "      <th>review</th>\n",
       "      <th>review_token</th>\n",
       "    </tr>\n",
       "  </thead>\n",
       "  <tbody>\n",
       "    <tr>\n",
       "      <th>0</th>\n",
       "      <td>0</td>\n",
       "      <td>2020-12-06 05:17:39</td>\n",
       "      <td>5</td>\n",
       "      <td>I updated the calm app and just out of curiosi...</td>\n",
       "      <td>[I, updated, calm, app, curiosity, I, read, re...</td>\n",
       "    </tr>\n",
       "    <tr>\n",
       "      <th>1</th>\n",
       "      <td>1</td>\n",
       "      <td>2020-09-21 22:38:20</td>\n",
       "      <td>3</td>\n",
       "      <td>I really don’t like how you have to pay to get...</td>\n",
       "      <td>[I, really, like, pay, get, good, stuff, That,...</td>\n",
       "    </tr>\n",
       "    <tr>\n",
       "      <th>2</th>\n",
       "      <td>2</td>\n",
       "      <td>2020-12-08 16:02:24</td>\n",
       "      <td>3</td>\n",
       "      <td>I just wanted to leave a recommendation.  Ther...</td>\n",
       "      <td>[I, wanted, leave, recommendation, There, ad, ...</td>\n",
       "    </tr>\n",
       "  </tbody>\n",
       "</table>\n",
       "</div>"
      ],
      "text/plain": [
       "   Unnamed: 0                 date  rating  \\\n",
       "0           0  2020-12-06 05:17:39       5   \n",
       "1           1  2020-09-21 22:38:20       3   \n",
       "2           2  2020-12-08 16:02:24       3   \n",
       "\n",
       "                                              review  \\\n",
       "0  I updated the calm app and just out of curiosi...   \n",
       "1  I really don’t like how you have to pay to get...   \n",
       "2  I just wanted to leave a recommendation.  Ther...   \n",
       "\n",
       "                                        review_token  \n",
       "0  [I, updated, calm, app, curiosity, I, read, re...  \n",
       "1  [I, really, like, pay, get, good, stuff, That,...  \n",
       "2  [I, wanted, leave, recommendation, There, ad, ...  "
      ]
     },
     "execution_count": 25,
     "metadata": {},
     "output_type": "execute_result"
    }
   ],
   "source": [
    "appstore_calm_us['review_token'] = appstore_calm_us['review_token'].apply(lambda x: [item for item in x if item not in stopwords])\n",
    "appstore_calm_us.head(3)"
   ]
  },
  {
   "cell_type": "code",
   "execution_count": 26,
   "id": "c41222a3-c305-4483-8d07-a1e0d3837d20",
   "metadata": {},
   "outputs": [],
   "source": [
    "appstore_calm_us['review_string'] = appstore_calm_us['review_token'].apply(lambda x: ' '.join([item for item in x if len(item)>2]))"
   ]
  },
  {
   "cell_type": "code",
   "execution_count": 27,
   "id": "67661c15-2d29-43e8-8a08-9930a95ea97d",
   "metadata": {},
   "outputs": [
    {
     "data": {
      "text/html": [
       "<div>\n",
       "<style scoped>\n",
       "    .dataframe tbody tr th:only-of-type {\n",
       "        vertical-align: middle;\n",
       "    }\n",
       "\n",
       "    .dataframe tbody tr th {\n",
       "        vertical-align: top;\n",
       "    }\n",
       "\n",
       "    .dataframe thead th {\n",
       "        text-align: right;\n",
       "    }\n",
       "</style>\n",
       "<table border=\"1\" class=\"dataframe\">\n",
       "  <thead>\n",
       "    <tr style=\"text-align: right;\">\n",
       "      <th></th>\n",
       "      <th>review</th>\n",
       "      <th>review_token</th>\n",
       "      <th>review_string</th>\n",
       "    </tr>\n",
       "  </thead>\n",
       "  <tbody>\n",
       "    <tr>\n",
       "      <th>0</th>\n",
       "      <td>I updated the calm app and just out of curiosi...</td>\n",
       "      <td>[I, updated, calm, app, curiosity, I, read, re...</td>\n",
       "      <td>updated calm app curiosity read reviews using ...</td>\n",
       "    </tr>\n",
       "    <tr>\n",
       "      <th>1</th>\n",
       "      <td>I really don’t like how you have to pay to get...</td>\n",
       "      <td>[I, really, like, pay, get, good, stuff, That,...</td>\n",
       "      <td>really like pay get good stuff That makes stre...</td>\n",
       "    </tr>\n",
       "    <tr>\n",
       "      <th>2</th>\n",
       "      <td>I just wanted to leave a recommendation.  Ther...</td>\n",
       "      <td>[I, wanted, leave, recommendation, There, ad, ...</td>\n",
       "      <td>wanted leave recommendation There got seemed w...</td>\n",
       "    </tr>\n",
       "    <tr>\n",
       "      <th>3</th>\n",
       "      <td>I absolutely love love love this app!!!!♥️ onc...</td>\n",
       "      <td>[I, absolutely, love, love, love, app, I, coul...</td>\n",
       "      <td>absolutely love love love app could sleep turn...</td>\n",
       "    </tr>\n",
       "    <tr>\n",
       "      <th>4</th>\n",
       "      <td>Honestly, I had come to a point in my life whe...</td>\n",
       "      <td>[Honestly, I, come, point, life, I, insomnia, ...</td>\n",
       "      <td>Honestly come point life insomnia anxiety time...</td>\n",
       "    </tr>\n",
       "  </tbody>\n",
       "</table>\n",
       "</div>"
      ],
      "text/plain": [
       "                                              review  \\\n",
       "0  I updated the calm app and just out of curiosi...   \n",
       "1  I really don’t like how you have to pay to get...   \n",
       "2  I just wanted to leave a recommendation.  Ther...   \n",
       "3  I absolutely love love love this app!!!!♥️ onc...   \n",
       "4  Honestly, I had come to a point in my life whe...   \n",
       "\n",
       "                                        review_token  \\\n",
       "0  [I, updated, calm, app, curiosity, I, read, re...   \n",
       "1  [I, really, like, pay, get, good, stuff, That,...   \n",
       "2  [I, wanted, leave, recommendation, There, ad, ...   \n",
       "3  [I, absolutely, love, love, love, app, I, coul...   \n",
       "4  [Honestly, I, come, point, life, I, insomnia, ...   \n",
       "\n",
       "                                       review_string  \n",
       "0  updated calm app curiosity read reviews using ...  \n",
       "1  really like pay get good stuff That makes stre...  \n",
       "2  wanted leave recommendation There got seemed w...  \n",
       "3  absolutely love love love app could sleep turn...  \n",
       "4  Honestly come point life insomnia anxiety time...  "
      ]
     },
     "execution_count": 27,
     "metadata": {},
     "output_type": "execute_result"
    }
   ],
   "source": [
    "appstore_calm_us[['review', 'review_token', 'review_string']].head()"
   ]
  },
  {
   "cell_type": "markdown",
   "id": "cc3959ab-bf44-48b4-bdfd-acae01a4edf9",
   "metadata": {},
   "source": [
    "### 3.2.2 Tokenization"
   ]
  },
  {
   "cell_type": "markdown",
   "id": "97a3175e-9ad9-4003-8c88-49f2fc745d55",
   "metadata": {},
   "source": [
    "After that, we create a list of string and tokenize them."
   ]
  },
  {
   "cell_type": "markdown",
   "id": "08359adb-2787-4510-aa5b-7480d79fcacb",
   "metadata": {},
   "source": [
    "**Google Play Store Meditation App Reviews**"
   ]
  },
  {
   "cell_type": "code",
   "execution_count": 28,
   "id": "a6bda19d-6a44-4848-ba40-a590b13b2dbe",
   "metadata": {},
   "outputs": [],
   "source": [
    "all_words_playmeditopia = ' '.join([word for word in playmeditopia_us['content_string']])"
   ]
  },
  {
   "cell_type": "code",
   "execution_count": 29,
   "id": "da6e2893-ade2-4316-8425-33e3bb31ebc7",
   "metadata": {},
   "outputs": [],
   "source": [
    "tokenized_words_playmeditopia = nltk.tokenize.word_tokenize(all_words_playmeditopia)"
   ]
  },
  {
   "cell_type": "markdown",
   "id": "a7265943-15f6-422e-9cea-149e7e57d523",
   "metadata": {},
   "source": [
    "**App Store Meditation App Reviews**"
   ]
  },
  {
   "cell_type": "code",
   "execution_count": 30,
   "id": "cfa6f553-7104-47f0-8735-b76c524bf01e",
   "metadata": {},
   "outputs": [],
   "source": [
    "all_words_appstore = ' '.join([word for word in appstore_calm_us['review_string']])"
   ]
  },
  {
   "cell_type": "code",
   "execution_count": 31,
   "id": "6c7d807d-7d6f-4ada-b6ba-57f4c04afbde",
   "metadata": {},
   "outputs": [],
   "source": [
    "tokenized_words_appstore = nltk.tokenize.word_tokenize(all_words_appstore)"
   ]
  },
  {
   "cell_type": "markdown",
   "id": "03b046e2-fbc2-4016-b6ba-9090891e8b4a",
   "metadata": {},
   "source": [
    "### 3.2.3 FreqDist"
   ]
  },
  {
   "cell_type": "markdown",
   "id": "1998b164-4be8-4226-b908-966ae590c65a",
   "metadata": {},
   "source": [
    "Make a frequency distribution that shows how frequently each term has been used:\n",
    "- We can now utilize our fdist dictionary to eliminate terms that appear fewer than a predetermined number of times. \n",
    "- As the dataset is quite big, according to the result of the FreqDist, we filter out any words and set the value to greater or equal to 50 for Google Play Stoe and the value to greater or equal to 300 for App Store."
   ]
  },
  {
   "cell_type": "markdown",
   "id": "9b663ac8-fe6d-4c68-bc08-80bb471a6b8c",
   "metadata": {},
   "source": [
    "**Google Play Store Meditation App Reviews**"
   ]
  },
  {
   "cell_type": "code",
   "execution_count": 32,
   "id": "2b628b2a-4ebb-4b18-a4b2-731250a564c1",
   "metadata": {},
   "outputs": [
    {
     "data": {
      "text/plain": [
       "FreqDist({'app': 483, 'love': 132, 'good': 117, 'really': 113, 'This': 99, 'helps': 87, 'like': 82, 'Great': 81, 'Very': 79, 'feel': 76, ...})"
      ]
     },
     "execution_count": 32,
     "metadata": {},
     "output_type": "execute_result"
    }
   ],
   "source": [
    "fdist_playmeditopia = FreqDist(tokenized_words_playmeditopia)\n",
    "fdist_playmeditopia"
   ]
  },
  {
   "cell_type": "code",
   "execution_count": 33,
   "id": "bd860a53-bafe-42ff-9ddc-3cd3afbaeab4",
   "metadata": {},
   "outputs": [],
   "source": [
    "playmeditopia_us['content_string_fdist'] = playmeditopia_us['content_token'].apply(lambda x: ' '.join([item for item in x if fdist_playmeditopia[item] >= 50 ]))"
   ]
  },
  {
   "cell_type": "code",
   "execution_count": 34,
   "id": "1896d120-4788-4a06-8bfa-8ef5b4a068fe",
   "metadata": {},
   "outputs": [
    {
     "data": {
      "text/html": [
       "<div>\n",
       "<style scoped>\n",
       "    .dataframe tbody tr th:only-of-type {\n",
       "        vertical-align: middle;\n",
       "    }\n",
       "\n",
       "    .dataframe tbody tr th {\n",
       "        vertical-align: top;\n",
       "    }\n",
       "\n",
       "    .dataframe thead th {\n",
       "        text-align: right;\n",
       "    }\n",
       "</style>\n",
       "<table border=\"1\" class=\"dataframe\">\n",
       "  <thead>\n",
       "    <tr style=\"text-align: right;\">\n",
       "      <th></th>\n",
       "      <th>content</th>\n",
       "      <th>content_token</th>\n",
       "      <th>content_string</th>\n",
       "      <th>content_string_fdist</th>\n",
       "    </tr>\n",
       "  </thead>\n",
       "  <tbody>\n",
       "    <tr>\n",
       "      <th>0</th>\n",
       "      <td>This app can be wonderfully helpful in dealing...</td>\n",
       "      <td>[This, app, wonderfully, helpful, dealing, str...</td>\n",
       "      <td>This app wonderfully helpful dealing stress an...</td>\n",
       "      <td>This app anxiety much</td>\n",
       "    </tr>\n",
       "    <tr>\n",
       "      <th>1</th>\n",
       "      <td>Very balanced, needs oriented, user friendly a...</td>\n",
       "      <td>[Very, balanced, needs, oriented, user, friend...</td>\n",
       "      <td>Very balanced needs oriented user friendly use...</td>\n",
       "      <td>Very great much app</td>\n",
       "    </tr>\n",
       "    <tr>\n",
       "      <th>2</th>\n",
       "      <td>I love this app. Learning to meditate is a pro...</td>\n",
       "      <td>[I, love, app, Learning, meditate, process, ap...</td>\n",
       "      <td>love app Learning meditate process app provide...</td>\n",
       "      <td>love app app best much</td>\n",
       "    </tr>\n",
       "    <tr>\n",
       "      <th>3</th>\n",
       "      <td>I have tried few meditation apps before. This ...</td>\n",
       "      <td>[I, tried, apps, This, one, best, It, good, wi...</td>\n",
       "      <td>tried apps This one best good wide choice medi...</td>\n",
       "      <td>This best good like The best app best free</td>\n",
       "    </tr>\n",
       "    <tr>\n",
       "      <th>4</th>\n",
       "      <td>I've many mental illness problems and this app...</td>\n",
       "      <td>[I, many, mental, illness, problems, app, real...</td>\n",
       "      <td>many mental illness problems app really help a...</td>\n",
       "      <td>app really help help sleep really help really ...</td>\n",
       "    </tr>\n",
       "  </tbody>\n",
       "</table>\n",
       "</div>"
      ],
      "text/plain": [
       "                                             content  \\\n",
       "0  This app can be wonderfully helpful in dealing...   \n",
       "1  Very balanced, needs oriented, user friendly a...   \n",
       "2  I love this app. Learning to meditate is a pro...   \n",
       "3  I have tried few meditation apps before. This ...   \n",
       "4  I've many mental illness problems and this app...   \n",
       "\n",
       "                                       content_token  \\\n",
       "0  [This, app, wonderfully, helpful, dealing, str...   \n",
       "1  [Very, balanced, needs, oriented, user, friend...   \n",
       "2  [I, love, app, Learning, meditate, process, ap...   \n",
       "3  [I, tried, apps, This, one, best, It, good, wi...   \n",
       "4  [I, many, mental, illness, problems, app, real...   \n",
       "\n",
       "                                      content_string  \\\n",
       "0  This app wonderfully helpful dealing stress an...   \n",
       "1  Very balanced needs oriented user friendly use...   \n",
       "2  love app Learning meditate process app provide...   \n",
       "3  tried apps This one best good wide choice medi...   \n",
       "4  many mental illness problems app really help a...   \n",
       "\n",
       "                                content_string_fdist  \n",
       "0                              This app anxiety much  \n",
       "1                                Very great much app  \n",
       "2                             love app app best much  \n",
       "3         This best good like The best app best free  \n",
       "4  app really help help sleep really help really ...  "
      ]
     },
     "execution_count": 34,
     "metadata": {},
     "output_type": "execute_result"
    }
   ],
   "source": [
    "playmeditopia_us[['content', 'content_token', 'content_string', 'content_string_fdist']].head()"
   ]
  },
  {
   "cell_type": "markdown",
   "id": "02cde4b4-7778-4233-b942-45cc6b7789bb",
   "metadata": {},
   "source": [
    "**App Store Meditation App Reviews**"
   ]
  },
  {
   "cell_type": "code",
   "execution_count": 35,
   "id": "42714f24-2172-4668-be91-692b9935b5b9",
   "metadata": {},
   "outputs": [
    {
     "data": {
      "text/plain": [
       "FreqDist({'app': 2177, 'sleep': 878, 'Calm': 701, 'like': 579, 'stories': 555, 'The': 502, 'one': 463, 'would': 452, 'love': 439, 'day': 436, ...})"
      ]
     },
     "execution_count": 35,
     "metadata": {},
     "output_type": "execute_result"
    }
   ],
   "source": [
    "fdist_appstore = FreqDist(tokenized_words_appstore)\n",
    "fdist_appstore"
   ]
  },
  {
   "cell_type": "code",
   "execution_count": 36,
   "id": "869c3663-cba1-43dc-9f5c-27dd3110ff98",
   "metadata": {},
   "outputs": [],
   "source": [
    "appstore_calm_us['review_string_fdist'] = appstore_calm_us['review_token'].apply(lambda x: ' '.join([item for item in x if fdist_appstore[item] >= 300 ]))"
   ]
  },
  {
   "cell_type": "code",
   "execution_count": 37,
   "id": "2047b238-7260-4908-9454-6713dca2423b",
   "metadata": {},
   "outputs": [
    {
     "data": {
      "text/html": [
       "<div>\n",
       "<style scoped>\n",
       "    .dataframe tbody tr th:only-of-type {\n",
       "        vertical-align: middle;\n",
       "    }\n",
       "\n",
       "    .dataframe tbody tr th {\n",
       "        vertical-align: top;\n",
       "    }\n",
       "\n",
       "    .dataframe thead th {\n",
       "        text-align: right;\n",
       "    }\n",
       "</style>\n",
       "<table border=\"1\" class=\"dataframe\">\n",
       "  <thead>\n",
       "    <tr style=\"text-align: right;\">\n",
       "      <th></th>\n",
       "      <th>review</th>\n",
       "      <th>review_token</th>\n",
       "      <th>review_string</th>\n",
       "      <th>review_string_fdist</th>\n",
       "    </tr>\n",
       "  </thead>\n",
       "  <tbody>\n",
       "    <tr>\n",
       "      <th>0</th>\n",
       "      <td>I updated the calm app and just out of curiosi...</td>\n",
       "      <td>[I, updated, calm, app, curiosity, I, read, re...</td>\n",
       "      <td>updated calm app curiosity read reviews using ...</td>\n",
       "      <td>calm app app love free get sleep stories get l...</td>\n",
       "    </tr>\n",
       "    <tr>\n",
       "      <th>1</th>\n",
       "      <td>I really don’t like how you have to pay to get...</td>\n",
       "      <td>[I, really, like, pay, get, good, stuff, That,...</td>\n",
       "      <td>really like pay get good stuff That makes stre...</td>\n",
       "      <td>really like get app Calm app free like day wou...</td>\n",
       "    </tr>\n",
       "    <tr>\n",
       "      <th>2</th>\n",
       "      <td>I just wanted to leave a recommendation.  Ther...</td>\n",
       "      <td>[I, wanted, leave, recommendation, There, ad, ...</td>\n",
       "      <td>wanted leave recommendation There got seemed w...</td>\n",
       "      <td>The really app Calm help anxiety much app app ...</td>\n",
       "    </tr>\n",
       "    <tr>\n",
       "      <th>3</th>\n",
       "      <td>I absolutely love love love this app!!!!♥️ onc...</td>\n",
       "      <td>[I, absolutely, love, love, love, app, I, coul...</td>\n",
       "      <td>absolutely love love love app could sleep turn...</td>\n",
       "      <td>love love love app sleep calm sleep one day Th...</td>\n",
       "    </tr>\n",
       "    <tr>\n",
       "      <th>4</th>\n",
       "      <td>Honestly, I had come to a point in my life whe...</td>\n",
       "      <td>[Honestly, I, come, point, life, I, insomnia, ...</td>\n",
       "      <td>Honestly come point life insomnia anxiety time...</td>\n",
       "      <td>life anxiety time anxiety sleep get anxiety re...</td>\n",
       "    </tr>\n",
       "  </tbody>\n",
       "</table>\n",
       "</div>"
      ],
      "text/plain": [
       "                                              review  \\\n",
       "0  I updated the calm app and just out of curiosi...   \n",
       "1  I really don’t like how you have to pay to get...   \n",
       "2  I just wanted to leave a recommendation.  Ther...   \n",
       "3  I absolutely love love love this app!!!!♥️ onc...   \n",
       "4  Honestly, I had come to a point in my life whe...   \n",
       "\n",
       "                                        review_token  \\\n",
       "0  [I, updated, calm, app, curiosity, I, read, re...   \n",
       "1  [I, really, like, pay, get, good, stuff, That,...   \n",
       "2  [I, wanted, leave, recommendation, There, ad, ...   \n",
       "3  [I, absolutely, love, love, love, app, I, coul...   \n",
       "4  [Honestly, I, come, point, life, I, insomnia, ...   \n",
       "\n",
       "                                       review_string  \\\n",
       "0  updated calm app curiosity read reviews using ...   \n",
       "1  really like pay get good stuff That makes stre...   \n",
       "2  wanted leave recommendation There got seemed w...   \n",
       "3  absolutely love love love app could sleep turn...   \n",
       "4  Honestly come point life insomnia anxiety time...   \n",
       "\n",
       "                                 review_string_fdist  \n",
       "0  calm app app love free get sleep stories get l...  \n",
       "1  really like get app Calm app free like day wou...  \n",
       "2  The really app Calm help anxiety much app app ...  \n",
       "3  love love love app sleep calm sleep one day Th...  \n",
       "4  life anxiety time anxiety sleep get anxiety re...  "
      ]
     },
     "execution_count": 37,
     "metadata": {},
     "output_type": "execute_result"
    }
   ],
   "source": [
    "appstore_calm_us[['review', 'review_token', 'review_string', 'review_string_fdist']].head()"
   ]
  },
  {
   "cell_type": "markdown",
   "id": "646ae8f5-5f82-4501-ade9-9e249919c729",
   "metadata": {},
   "source": [
    "### 3.2.4 Lemmatization"
   ]
  },
  {
   "cell_type": "markdown",
   "id": "84d52ade-c341-4ae5-9a5f-16764f67e5d3",
   "metadata": {},
   "source": [
    "Lemmatization is used in the following code to restore the original word form. \n",
    "- To store the lemmatized list, we establish a new list of strings. \n",
    "- Then, we determine whether there are any differences between the two lists or strings. \n",
    "- The Google Play app review has 12 differences while the App Store review has no differences.\n",
    "- Then, we call the dataset to show the dataframe table\n",
    "- Finally, we combine the lemmatized string to a new string"
   ]
  },
  {
   "cell_type": "markdown",
   "id": "e3711c54-454e-4e5c-bd92-db870a0832a4",
   "metadata": {},
   "source": [
    "**Google Play Store Meditation App Reviews**"
   ]
  },
  {
   "cell_type": "code",
   "execution_count": 38,
   "id": "948a0e24-b1e3-48be-8616-fad3dd5fec58",
   "metadata": {},
   "outputs": [],
   "source": [
    "wordnet_lem_playmeditopia = WordNetLemmatizer()\n",
    "\n",
    "playmeditopia_us['content_string_lem'] = playmeditopia_us['content_string_fdist'].apply(wordnet_lem_playmeditopia.lemmatize)"
   ]
  },
  {
   "cell_type": "code",
   "execution_count": 39,
   "id": "1835bb46-3653-45e3-b01b-015adeddc5c1",
   "metadata": {},
   "outputs": [],
   "source": [
    "# check if the columns are equal\n",
    "playmeditopia_us['is_equal']= (playmeditopia_us['content_string_fdist']==playmeditopia_us['content_string_lem'])"
   ]
  },
  {
   "cell_type": "code",
   "execution_count": 40,
   "id": "f748e7e9-c077-409e-87f8-3fd5eaa4dd57",
   "metadata": {},
   "outputs": [
    {
     "data": {
      "text/plain": [
       "True     1441\n",
       "False      12\n",
       "Name: is_equal, dtype: int64"
      ]
     },
     "execution_count": 40,
     "metadata": {},
     "output_type": "execute_result"
    }
   ],
   "source": [
    "# show level count\n",
    "playmeditopia_us.is_equal.value_counts()"
   ]
  },
  {
   "cell_type": "code",
   "execution_count": 41,
   "id": "63a0cff9-405c-4411-9967-c3ed75d008c1",
   "metadata": {},
   "outputs": [
    {
     "data": {
      "text/html": [
       "<div>\n",
       "<style scoped>\n",
       "    .dataframe tbody tr th:only-of-type {\n",
       "        vertical-align: middle;\n",
       "    }\n",
       "\n",
       "    .dataframe tbody tr th {\n",
       "        vertical-align: top;\n",
       "    }\n",
       "\n",
       "    .dataframe thead th {\n",
       "        text-align: right;\n",
       "    }\n",
       "</style>\n",
       "<table border=\"1\" class=\"dataframe\">\n",
       "  <thead>\n",
       "    <tr style=\"text-align: right;\">\n",
       "      <th></th>\n",
       "      <th>Unnamed: 0</th>\n",
       "      <th>reviewId</th>\n",
       "      <th>userName</th>\n",
       "      <th>userImage</th>\n",
       "      <th>content</th>\n",
       "      <th>score</th>\n",
       "      <th>thumbsUpCount</th>\n",
       "      <th>reviewCreatedVersion</th>\n",
       "      <th>at</th>\n",
       "      <th>replyContent</th>\n",
       "      <th>repliedAt</th>\n",
       "      <th>content_token</th>\n",
       "      <th>content_string</th>\n",
       "      <th>content_string_fdist</th>\n",
       "      <th>content_string_lem</th>\n",
       "      <th>is_equal</th>\n",
       "    </tr>\n",
       "  </thead>\n",
       "  <tbody>\n",
       "    <tr>\n",
       "      <th>0</th>\n",
       "      <td>0</td>\n",
       "      <td>gp:AOqpTOEuHiXepchc_zH_yo8tfSmHHN8TCBXgXayrHL2...</td>\n",
       "      <td>Gordeh Man</td>\n",
       "      <td>https://play-lh.googleusercontent.com/-t41P6cc...</td>\n",
       "      <td>This app can be wonderfully helpful in dealing...</td>\n",
       "      <td>5</td>\n",
       "      <td>9</td>\n",
       "      <td>3.14.1</td>\n",
       "      <td>2021-02-16 11:56:17</td>\n",
       "      <td>Thank you so much for sharing your ideas with ...</td>\n",
       "      <td>2021-02-18 16:18:41</td>\n",
       "      <td>[This, app, wonderfully, helpful, dealing, str...</td>\n",
       "      <td>This app wonderfully helpful dealing stress an...</td>\n",
       "      <td>This app anxiety much</td>\n",
       "      <td>This app anxiety much</td>\n",
       "      <td>True</td>\n",
       "    </tr>\n",
       "    <tr>\n",
       "      <th>1</th>\n",
       "      <td>1</td>\n",
       "      <td>gp:AOqpTOFwY-lQRCIChJB3IJxeOHbZEeIuO4ZL1wg7uOy...</td>\n",
       "      <td>Ekaterine Khoperia</td>\n",
       "      <td>https://play-lh.googleusercontent.com/a-/AOh14...</td>\n",
       "      <td>Very balanced, needs oriented, user friendly a...</td>\n",
       "      <td>5</td>\n",
       "      <td>5</td>\n",
       "      <td>3.14.1</td>\n",
       "      <td>2021-02-18 14:25:44</td>\n",
       "      <td>NaN</td>\n",
       "      <td>NaN</td>\n",
       "      <td>[Very, balanced, needs, oriented, user, friend...</td>\n",
       "      <td>Very balanced needs oriented user friendly use...</td>\n",
       "      <td>Very great much app</td>\n",
       "      <td>Very great much app</td>\n",
       "      <td>True</td>\n",
       "    </tr>\n",
       "    <tr>\n",
       "      <th>2</th>\n",
       "      <td>2</td>\n",
       "      <td>gp:AOqpTOEz9cwfZZd9BxorlHiGFxQdD0SQa2TKc7KSFHl...</td>\n",
       "      <td>Michele Mazo</td>\n",
       "      <td>https://play-lh.googleusercontent.com/a-/AOh14...</td>\n",
       "      <td>I love this app. Learning to meditate is a pro...</td>\n",
       "      <td>5</td>\n",
       "      <td>0</td>\n",
       "      <td>3.14.1</td>\n",
       "      <td>2021-02-18 20:09:16</td>\n",
       "      <td>NaN</td>\n",
       "      <td>NaN</td>\n",
       "      <td>[I, love, app, Learning, meditate, process, ap...</td>\n",
       "      <td>love app Learning meditate process app provide...</td>\n",
       "      <td>love app app best much</td>\n",
       "      <td>love app app best much</td>\n",
       "      <td>True</td>\n",
       "    </tr>\n",
       "    <tr>\n",
       "      <th>3</th>\n",
       "      <td>3</td>\n",
       "      <td>gp:AOqpTOFxrN5MbV_XF-IINxaupDuJycr3594wF08U_89...</td>\n",
       "      <td>Hanna W. - H.</td>\n",
       "      <td>https://play-lh.googleusercontent.com/a-/AOh14...</td>\n",
       "      <td>I have tried few meditation apps before. This ...</td>\n",
       "      <td>5</td>\n",
       "      <td>55</td>\n",
       "      <td>3.13.1</td>\n",
       "      <td>2020-12-17 17:55:54</td>\n",
       "      <td>NaN</td>\n",
       "      <td>NaN</td>\n",
       "      <td>[I, tried, apps, This, one, best, It, good, wi...</td>\n",
       "      <td>tried apps This one best good wide choice medi...</td>\n",
       "      <td>This best good like The best app best free</td>\n",
       "      <td>This best good like The best app best free</td>\n",
       "      <td>True</td>\n",
       "    </tr>\n",
       "    <tr>\n",
       "      <th>4</th>\n",
       "      <td>4</td>\n",
       "      <td>gp:AOqpTOF0nGQPbduEuIzfB3RQU7ZnJI37E3TIDmL83xd...</td>\n",
       "      <td>Mary Lauzon</td>\n",
       "      <td>https://play-lh.googleusercontent.com/a-/AOh14...</td>\n",
       "      <td>I've many mental illness problems and this app...</td>\n",
       "      <td>5</td>\n",
       "      <td>41</td>\n",
       "      <td>3.13.1</td>\n",
       "      <td>2020-12-23 21:16:31</td>\n",
       "      <td>NaN</td>\n",
       "      <td>NaN</td>\n",
       "      <td>[I, many, mental, illness, problems, app, real...</td>\n",
       "      <td>many mental illness problems app really help a...</td>\n",
       "      <td>app really help help sleep really help really ...</td>\n",
       "      <td>app really help help sleep really help really ...</td>\n",
       "      <td>True</td>\n",
       "    </tr>\n",
       "    <tr>\n",
       "      <th>...</th>\n",
       "      <td>...</td>\n",
       "      <td>...</td>\n",
       "      <td>...</td>\n",
       "      <td>...</td>\n",
       "      <td>...</td>\n",
       "      <td>...</td>\n",
       "      <td>...</td>\n",
       "      <td>...</td>\n",
       "      <td>...</td>\n",
       "      <td>...</td>\n",
       "      <td>...</td>\n",
       "      <td>...</td>\n",
       "      <td>...</td>\n",
       "      <td>...</td>\n",
       "      <td>...</td>\n",
       "      <td>...</td>\n",
       "    </tr>\n",
       "    <tr>\n",
       "      <th>1448</th>\n",
       "      <td>1448</td>\n",
       "      <td>gp:AOqpTOGm62fpnzJjcvND3m1gIbngyUKshPFn4fxu3oq...</td>\n",
       "      <td>Paulin Zambali</td>\n",
       "      <td>https://play-lh.googleusercontent.com/a-/AOh14...</td>\n",
       "      <td>Amazing</td>\n",
       "      <td>5</td>\n",
       "      <td>0</td>\n",
       "      <td>3.12.2</td>\n",
       "      <td>2020-09-14 05:46:20</td>\n",
       "      <td>NaN</td>\n",
       "      <td>NaN</td>\n",
       "      <td>[Amazing]</td>\n",
       "      <td>Amazing</td>\n",
       "      <td></td>\n",
       "      <td></td>\n",
       "      <td>True</td>\n",
       "    </tr>\n",
       "    <tr>\n",
       "      <th>1449</th>\n",
       "      <td>1449</td>\n",
       "      <td>gp:AOqpTOHMHHpMaA_8sp7CHAk4xMkwuz6w95E-UCld97o...</td>\n",
       "      <td>Basel Abusarhan</td>\n",
       "      <td>https://play-lh.googleusercontent.com/a-/AOh14...</td>\n",
       "      <td>Amazing</td>\n",
       "      <td>5</td>\n",
       "      <td>0</td>\n",
       "      <td>3.12.2</td>\n",
       "      <td>2020-09-09 00:26:32</td>\n",
       "      <td>NaN</td>\n",
       "      <td>NaN</td>\n",
       "      <td>[Amazing]</td>\n",
       "      <td>Amazing</td>\n",
       "      <td></td>\n",
       "      <td></td>\n",
       "      <td>True</td>\n",
       "    </tr>\n",
       "    <tr>\n",
       "      <th>1450</th>\n",
       "      <td>1450</td>\n",
       "      <td>gp:AOqpTOF6QLyWyxizrdv8pdQAjfqhGpPm2SUsgcrZa75...</td>\n",
       "      <td>Imani Rene</td>\n",
       "      <td>https://play-lh.googleusercontent.com/-WKJy2WL...</td>\n",
       "      <td>Good</td>\n",
       "      <td>5</td>\n",
       "      <td>0</td>\n",
       "      <td>NaN</td>\n",
       "      <td>2020-12-30 07:41:24</td>\n",
       "      <td>NaN</td>\n",
       "      <td>NaN</td>\n",
       "      <td>[Good]</td>\n",
       "      <td>Good</td>\n",
       "      <td></td>\n",
       "      <td></td>\n",
       "      <td>True</td>\n",
       "    </tr>\n",
       "    <tr>\n",
       "      <th>1451</th>\n",
       "      <td>1451</td>\n",
       "      <td>gp:AOqpTOEOyXaFZ0DYMVi0NlPXF4jWG3QV3LuT0-v49B4...</td>\n",
       "      <td>Fatum aghani</td>\n",
       "      <td>https://play-lh.googleusercontent.com/a-/AOh14...</td>\n",
       "      <td>EXCELLENT</td>\n",
       "      <td>5</td>\n",
       "      <td>0</td>\n",
       "      <td>NaN</td>\n",
       "      <td>2019-05-11 21:16:49</td>\n",
       "      <td>NaN</td>\n",
       "      <td>NaN</td>\n",
       "      <td>[EXCELLENT]</td>\n",
       "      <td>EXCELLENT</td>\n",
       "      <td></td>\n",
       "      <td></td>\n",
       "      <td>True</td>\n",
       "    </tr>\n",
       "    <tr>\n",
       "      <th>1452</th>\n",
       "      <td>1452</td>\n",
       "      <td>gp:AOqpTOH7GMZ0NLGB7NQ37gf78SEW30oOx-mvIZaVMBa...</td>\n",
       "      <td>Malaquias Wallace</td>\n",
       "      <td>https://play-lh.googleusercontent.com/a-/AOh14...</td>\n",
       "      <td>Refreshing</td>\n",
       "      <td>5</td>\n",
       "      <td>0</td>\n",
       "      <td>3.12.2</td>\n",
       "      <td>2020-08-26 07:30:01</td>\n",
       "      <td>NaN</td>\n",
       "      <td>NaN</td>\n",
       "      <td>[Refreshing]</td>\n",
       "      <td>Refreshing</td>\n",
       "      <td></td>\n",
       "      <td></td>\n",
       "      <td>True</td>\n",
       "    </tr>\n",
       "  </tbody>\n",
       "</table>\n",
       "<p>1453 rows × 16 columns</p>\n",
       "</div>"
      ],
      "text/plain": [
       "      Unnamed: 0                                           reviewId  \\\n",
       "0              0  gp:AOqpTOEuHiXepchc_zH_yo8tfSmHHN8TCBXgXayrHL2...   \n",
       "1              1  gp:AOqpTOFwY-lQRCIChJB3IJxeOHbZEeIuO4ZL1wg7uOy...   \n",
       "2              2  gp:AOqpTOEz9cwfZZd9BxorlHiGFxQdD0SQa2TKc7KSFHl...   \n",
       "3              3  gp:AOqpTOFxrN5MbV_XF-IINxaupDuJycr3594wF08U_89...   \n",
       "4              4  gp:AOqpTOF0nGQPbduEuIzfB3RQU7ZnJI37E3TIDmL83xd...   \n",
       "...          ...                                                ...   \n",
       "1448        1448  gp:AOqpTOGm62fpnzJjcvND3m1gIbngyUKshPFn4fxu3oq...   \n",
       "1449        1449  gp:AOqpTOHMHHpMaA_8sp7CHAk4xMkwuz6w95E-UCld97o...   \n",
       "1450        1450  gp:AOqpTOF6QLyWyxizrdv8pdQAjfqhGpPm2SUsgcrZa75...   \n",
       "1451        1451  gp:AOqpTOEOyXaFZ0DYMVi0NlPXF4jWG3QV3LuT0-v49B4...   \n",
       "1452        1452  gp:AOqpTOH7GMZ0NLGB7NQ37gf78SEW30oOx-mvIZaVMBa...   \n",
       "\n",
       "                userName                                          userImage  \\\n",
       "0             Gordeh Man  https://play-lh.googleusercontent.com/-t41P6cc...   \n",
       "1     Ekaterine Khoperia  https://play-lh.googleusercontent.com/a-/AOh14...   \n",
       "2           Michele Mazo  https://play-lh.googleusercontent.com/a-/AOh14...   \n",
       "3          Hanna W. - H.  https://play-lh.googleusercontent.com/a-/AOh14...   \n",
       "4            Mary Lauzon  https://play-lh.googleusercontent.com/a-/AOh14...   \n",
       "...                  ...                                                ...   \n",
       "1448      Paulin Zambali  https://play-lh.googleusercontent.com/a-/AOh14...   \n",
       "1449     Basel Abusarhan  https://play-lh.googleusercontent.com/a-/AOh14...   \n",
       "1450          Imani Rene  https://play-lh.googleusercontent.com/-WKJy2WL...   \n",
       "1451        Fatum aghani  https://play-lh.googleusercontent.com/a-/AOh14...   \n",
       "1452   Malaquias Wallace  https://play-lh.googleusercontent.com/a-/AOh14...   \n",
       "\n",
       "                                                content  score  thumbsUpCount  \\\n",
       "0     This app can be wonderfully helpful in dealing...      5              9   \n",
       "1     Very balanced, needs oriented, user friendly a...      5              5   \n",
       "2     I love this app. Learning to meditate is a pro...      5              0   \n",
       "3     I have tried few meditation apps before. This ...      5             55   \n",
       "4     I've many mental illness problems and this app...      5             41   \n",
       "...                                                 ...    ...            ...   \n",
       "1448                                            Amazing      5              0   \n",
       "1449                                            Amazing      5              0   \n",
       "1450                                               Good      5              0   \n",
       "1451                                          EXCELLENT      5              0   \n",
       "1452                                         Refreshing      5              0   \n",
       "\n",
       "     reviewCreatedVersion                   at  \\\n",
       "0                  3.14.1  2021-02-16 11:56:17   \n",
       "1                  3.14.1  2021-02-18 14:25:44   \n",
       "2                  3.14.1  2021-02-18 20:09:16   \n",
       "3                  3.13.1  2020-12-17 17:55:54   \n",
       "4                  3.13.1  2020-12-23 21:16:31   \n",
       "...                   ...                  ...   \n",
       "1448               3.12.2  2020-09-14 05:46:20   \n",
       "1449               3.12.2  2020-09-09 00:26:32   \n",
       "1450                  NaN  2020-12-30 07:41:24   \n",
       "1451                  NaN  2019-05-11 21:16:49   \n",
       "1452               3.12.2  2020-08-26 07:30:01   \n",
       "\n",
       "                                           replyContent            repliedAt  \\\n",
       "0     Thank you so much for sharing your ideas with ...  2021-02-18 16:18:41   \n",
       "1                                                   NaN                  NaN   \n",
       "2                                                   NaN                  NaN   \n",
       "3                                                   NaN                  NaN   \n",
       "4                                                   NaN                  NaN   \n",
       "...                                                 ...                  ...   \n",
       "1448                                                NaN                  NaN   \n",
       "1449                                                NaN                  NaN   \n",
       "1450                                                NaN                  NaN   \n",
       "1451                                                NaN                  NaN   \n",
       "1452                                                NaN                  NaN   \n",
       "\n",
       "                                          content_token  \\\n",
       "0     [This, app, wonderfully, helpful, dealing, str...   \n",
       "1     [Very, balanced, needs, oriented, user, friend...   \n",
       "2     [I, love, app, Learning, meditate, process, ap...   \n",
       "3     [I, tried, apps, This, one, best, It, good, wi...   \n",
       "4     [I, many, mental, illness, problems, app, real...   \n",
       "...                                                 ...   \n",
       "1448                                          [Amazing]   \n",
       "1449                                          [Amazing]   \n",
       "1450                                             [Good]   \n",
       "1451                                        [EXCELLENT]   \n",
       "1452                                       [Refreshing]   \n",
       "\n",
       "                                         content_string  \\\n",
       "0     This app wonderfully helpful dealing stress an...   \n",
       "1     Very balanced needs oriented user friendly use...   \n",
       "2     love app Learning meditate process app provide...   \n",
       "3     tried apps This one best good wide choice medi...   \n",
       "4     many mental illness problems app really help a...   \n",
       "...                                                 ...   \n",
       "1448                                            Amazing   \n",
       "1449                                            Amazing   \n",
       "1450                                               Good   \n",
       "1451                                          EXCELLENT   \n",
       "1452                                         Refreshing   \n",
       "\n",
       "                                   content_string_fdist  \\\n",
       "0                                 This app anxiety much   \n",
       "1                                   Very great much app   \n",
       "2                                love app app best much   \n",
       "3            This best good like The best app best free   \n",
       "4     app really help help sleep really help really ...   \n",
       "...                                                 ...   \n",
       "1448                                                      \n",
       "1449                                                      \n",
       "1450                                                      \n",
       "1451                                                      \n",
       "1452                                                      \n",
       "\n",
       "                                     content_string_lem  is_equal  \n",
       "0                                 This app anxiety much      True  \n",
       "1                                   Very great much app      True  \n",
       "2                                love app app best much      True  \n",
       "3            This best good like The best app best free      True  \n",
       "4     app really help help sleep really help really ...      True  \n",
       "...                                                 ...       ...  \n",
       "1448                                                         True  \n",
       "1449                                                         True  \n",
       "1450                                                         True  \n",
       "1451                                                         True  \n",
       "1452                                                         True  \n",
       "\n",
       "[1453 rows x 16 columns]"
      ]
     },
     "execution_count": 41,
     "metadata": {},
     "output_type": "execute_result"
    }
   ],
   "source": [
    "playmeditopia_us"
   ]
  },
  {
   "cell_type": "code",
   "execution_count": 42,
   "id": "ccc2a34a-e17a-49ae-bf69-146306e00125",
   "metadata": {},
   "outputs": [],
   "source": [
    "all_words_lem_playmeditopia = ' '.join([word for word in playmeditopia_us['content_string_lem']])"
   ]
  },
  {
   "cell_type": "markdown",
   "id": "e89bac4c-3610-49ad-bd9b-ac090c62405e",
   "metadata": {},
   "source": [
    "**App Store Meditation App Reviews**"
   ]
  },
  {
   "cell_type": "code",
   "execution_count": 43,
   "id": "0c4e3fc0-0896-4279-b5fd-003c4b1069f6",
   "metadata": {},
   "outputs": [],
   "source": [
    "wordnet_lem_appstore = WordNetLemmatizer()\n",
    "\n",
    "appstore_calm_us['review_string_lem'] = appstore_calm_us['review_string_fdist'].apply(wordnet_lem_appstore.lemmatize)"
   ]
  },
  {
   "cell_type": "code",
   "execution_count": 44,
   "id": "c4619455-46a6-4788-9417-5edf2f8cc941",
   "metadata": {},
   "outputs": [],
   "source": [
    "appstore_calm_us['is_equal']= (appstore_calm_us['review_string_fdist']==appstore_calm_us['review_string_lem'])"
   ]
  },
  {
   "cell_type": "code",
   "execution_count": 45,
   "id": "1b3b1b28-7a79-4074-a950-59e18603107c",
   "metadata": {},
   "outputs": [
    {
     "data": {
      "text/plain": [
       "True    1000\n",
       "Name: is_equal, dtype: int64"
      ]
     },
     "execution_count": 45,
     "metadata": {},
     "output_type": "execute_result"
    }
   ],
   "source": [
    "appstore_calm_us.is_equal.value_counts()"
   ]
  },
  {
   "cell_type": "code",
   "execution_count": 46,
   "id": "32b36ba6-6635-4410-b11c-9a42860381fb",
   "metadata": {},
   "outputs": [
    {
     "data": {
      "text/html": [
       "<div>\n",
       "<style scoped>\n",
       "    .dataframe tbody tr th:only-of-type {\n",
       "        vertical-align: middle;\n",
       "    }\n",
       "\n",
       "    .dataframe tbody tr th {\n",
       "        vertical-align: top;\n",
       "    }\n",
       "\n",
       "    .dataframe thead th {\n",
       "        text-align: right;\n",
       "    }\n",
       "</style>\n",
       "<table border=\"1\" class=\"dataframe\">\n",
       "  <thead>\n",
       "    <tr style=\"text-align: right;\">\n",
       "      <th></th>\n",
       "      <th>Unnamed: 0</th>\n",
       "      <th>date</th>\n",
       "      <th>rating</th>\n",
       "      <th>review</th>\n",
       "      <th>review_token</th>\n",
       "      <th>review_string</th>\n",
       "      <th>review_string_fdist</th>\n",
       "      <th>review_string_lem</th>\n",
       "      <th>is_equal</th>\n",
       "    </tr>\n",
       "  </thead>\n",
       "  <tbody>\n",
       "    <tr>\n",
       "      <th>0</th>\n",
       "      <td>0</td>\n",
       "      <td>2020-12-06 05:17:39</td>\n",
       "      <td>5</td>\n",
       "      <td>I updated the calm app and just out of curiosi...</td>\n",
       "      <td>[I, updated, calm, app, curiosity, I, read, re...</td>\n",
       "      <td>updated calm app curiosity read reviews using ...</td>\n",
       "      <td>calm app app love free get sleep stories get l...</td>\n",
       "      <td>calm app app love free get sleep stories get l...</td>\n",
       "      <td>True</td>\n",
       "    </tr>\n",
       "    <tr>\n",
       "      <th>1</th>\n",
       "      <td>1</td>\n",
       "      <td>2020-09-21 22:38:20</td>\n",
       "      <td>3</td>\n",
       "      <td>I really don’t like how you have to pay to get...</td>\n",
       "      <td>[I, really, like, pay, get, good, stuff, That,...</td>\n",
       "      <td>really like pay get good stuff That makes stre...</td>\n",
       "      <td>really like get app Calm app free like day wou...</td>\n",
       "      <td>really like get app Calm app free like day wou...</td>\n",
       "      <td>True</td>\n",
       "    </tr>\n",
       "    <tr>\n",
       "      <th>2</th>\n",
       "      <td>2</td>\n",
       "      <td>2020-12-08 16:02:24</td>\n",
       "      <td>3</td>\n",
       "      <td>I just wanted to leave a recommendation.  Ther...</td>\n",
       "      <td>[I, wanted, leave, recommendation, There, ad, ...</td>\n",
       "      <td>wanted leave recommendation There got seemed w...</td>\n",
       "      <td>The really app Calm help anxiety much app app ...</td>\n",
       "      <td>The really app Calm help anxiety much app app ...</td>\n",
       "      <td>True</td>\n",
       "    </tr>\n",
       "    <tr>\n",
       "      <th>3</th>\n",
       "      <td>3</td>\n",
       "      <td>2020-04-11 13:11:09</td>\n",
       "      <td>5</td>\n",
       "      <td>I absolutely love love love this app!!!!♥️ onc...</td>\n",
       "      <td>[I, absolutely, love, love, love, app, I, coul...</td>\n",
       "      <td>absolutely love love love app could sleep turn...</td>\n",
       "      <td>love love love app sleep calm sleep one day Th...</td>\n",
       "      <td>love love love app sleep calm sleep one day Th...</td>\n",
       "      <td>True</td>\n",
       "    </tr>\n",
       "    <tr>\n",
       "      <th>4</th>\n",
       "      <td>4</td>\n",
       "      <td>2020-05-24 19:52:55</td>\n",
       "      <td>4</td>\n",
       "      <td>Honestly, I had come to a point in my life whe...</td>\n",
       "      <td>[Honestly, I, come, point, life, I, insomnia, ...</td>\n",
       "      <td>Honestly come point life insomnia anxiety time...</td>\n",
       "      <td>life anxiety time anxiety sleep get anxiety re...</td>\n",
       "      <td>life anxiety time anxiety sleep get anxiety re...</td>\n",
       "      <td>True</td>\n",
       "    </tr>\n",
       "    <tr>\n",
       "      <th>...</th>\n",
       "      <td>...</td>\n",
       "      <td>...</td>\n",
       "      <td>...</td>\n",
       "      <td>...</td>\n",
       "      <td>...</td>\n",
       "      <td>...</td>\n",
       "      <td>...</td>\n",
       "      <td>...</td>\n",
       "      <td>...</td>\n",
       "    </tr>\n",
       "    <tr>\n",
       "      <th>995</th>\n",
       "      <td>995</td>\n",
       "      <td>2018-12-29 03:43:43</td>\n",
       "      <td>5</td>\n",
       "      <td>I want a refund for my subscription. I paid fo...</td>\n",
       "      <td>[I, want, refund, subscription, I, paid, year,...</td>\n",
       "      <td>want refund subscription paid year subscriptio...</td>\n",
       "      <td>app would app</td>\n",
       "      <td>app would app</td>\n",
       "      <td>True</td>\n",
       "    </tr>\n",
       "    <tr>\n",
       "      <th>996</th>\n",
       "      <td>996</td>\n",
       "      <td>2018-12-03 12:32:23</td>\n",
       "      <td>5</td>\n",
       "      <td>I was diagnosed with severe anxiety a few year...</td>\n",
       "      <td>[I, diagnosed, severe, anxiety, years, ago, No...</td>\n",
       "      <td>diagnosed severe anxiety years ago Nothing rea...</td>\n",
       "      <td>anxiety really app like one time</td>\n",
       "      <td>anxiety really app like one time</td>\n",
       "      <td>True</td>\n",
       "    </tr>\n",
       "    <tr>\n",
       "      <th>997</th>\n",
       "      <td>997</td>\n",
       "      <td>2018-07-15 23:35:19</td>\n",
       "      <td>5</td>\n",
       "      <td>Honestly I had never really meditated before b...</td>\n",
       "      <td>[Honestly, I, never, really, meditated, I, alw...</td>\n",
       "      <td>Honestly never really meditated always curious...</td>\n",
       "      <td>really meditations calm much calm would</td>\n",
       "      <td>really meditations calm much calm would</td>\n",
       "      <td>True</td>\n",
       "    </tr>\n",
       "    <tr>\n",
       "      <th>998</th>\n",
       "      <td>998</td>\n",
       "      <td>2018-11-12 23:42:31</td>\n",
       "      <td>1</td>\n",
       "      <td>Seriously only a seven day free trial. How are...</td>\n",
       "      <td>[Seriously, seven, day, free, trial, How, supp...</td>\n",
       "      <td>Seriously seven day free trial How supposed te...</td>\n",
       "      <td>day free help help life like life free app</td>\n",
       "      <td>day free help help life like life free app</td>\n",
       "      <td>True</td>\n",
       "    </tr>\n",
       "    <tr>\n",
       "      <th>999</th>\n",
       "      <td>999</td>\n",
       "      <td>2018-04-17 00:14:07</td>\n",
       "      <td>4</td>\n",
       "      <td>Overall, this app is pretty amazing. I suffer ...</td>\n",
       "      <td>[Overall, app, pretty, amazing, I, suffer, ser...</td>\n",
       "      <td>Overall app pretty amazing suffer serious anxi...</td>\n",
       "      <td>app anxiety app help really help app app</td>\n",
       "      <td>app anxiety app help really help app app</td>\n",
       "      <td>True</td>\n",
       "    </tr>\n",
       "  </tbody>\n",
       "</table>\n",
       "<p>1000 rows × 9 columns</p>\n",
       "</div>"
      ],
      "text/plain": [
       "     Unnamed: 0                 date  rating  \\\n",
       "0             0  2020-12-06 05:17:39       5   \n",
       "1             1  2020-09-21 22:38:20       3   \n",
       "2             2  2020-12-08 16:02:24       3   \n",
       "3             3  2020-04-11 13:11:09       5   \n",
       "4             4  2020-05-24 19:52:55       4   \n",
       "..          ...                  ...     ...   \n",
       "995         995  2018-12-29 03:43:43       5   \n",
       "996         996  2018-12-03 12:32:23       5   \n",
       "997         997  2018-07-15 23:35:19       5   \n",
       "998         998  2018-11-12 23:42:31       1   \n",
       "999         999  2018-04-17 00:14:07       4   \n",
       "\n",
       "                                                review  \\\n",
       "0    I updated the calm app and just out of curiosi...   \n",
       "1    I really don’t like how you have to pay to get...   \n",
       "2    I just wanted to leave a recommendation.  Ther...   \n",
       "3    I absolutely love love love this app!!!!♥️ onc...   \n",
       "4    Honestly, I had come to a point in my life whe...   \n",
       "..                                                 ...   \n",
       "995  I want a refund for my subscription. I paid fo...   \n",
       "996  I was diagnosed with severe anxiety a few year...   \n",
       "997  Honestly I had never really meditated before b...   \n",
       "998  Seriously only a seven day free trial. How are...   \n",
       "999  Overall, this app is pretty amazing. I suffer ...   \n",
       "\n",
       "                                          review_token  \\\n",
       "0    [I, updated, calm, app, curiosity, I, read, re...   \n",
       "1    [I, really, like, pay, get, good, stuff, That,...   \n",
       "2    [I, wanted, leave, recommendation, There, ad, ...   \n",
       "3    [I, absolutely, love, love, love, app, I, coul...   \n",
       "4    [Honestly, I, come, point, life, I, insomnia, ...   \n",
       "..                                                 ...   \n",
       "995  [I, want, refund, subscription, I, paid, year,...   \n",
       "996  [I, diagnosed, severe, anxiety, years, ago, No...   \n",
       "997  [Honestly, I, never, really, meditated, I, alw...   \n",
       "998  [Seriously, seven, day, free, trial, How, supp...   \n",
       "999  [Overall, app, pretty, amazing, I, suffer, ser...   \n",
       "\n",
       "                                         review_string  \\\n",
       "0    updated calm app curiosity read reviews using ...   \n",
       "1    really like pay get good stuff That makes stre...   \n",
       "2    wanted leave recommendation There got seemed w...   \n",
       "3    absolutely love love love app could sleep turn...   \n",
       "4    Honestly come point life insomnia anxiety time...   \n",
       "..                                                 ...   \n",
       "995  want refund subscription paid year subscriptio...   \n",
       "996  diagnosed severe anxiety years ago Nothing rea...   \n",
       "997  Honestly never really meditated always curious...   \n",
       "998  Seriously seven day free trial How supposed te...   \n",
       "999  Overall app pretty amazing suffer serious anxi...   \n",
       "\n",
       "                                   review_string_fdist  \\\n",
       "0    calm app app love free get sleep stories get l...   \n",
       "1    really like get app Calm app free like day wou...   \n",
       "2    The really app Calm help anxiety much app app ...   \n",
       "3    love love love app sleep calm sleep one day Th...   \n",
       "4    life anxiety time anxiety sleep get anxiety re...   \n",
       "..                                                 ...   \n",
       "995                                      app would app   \n",
       "996                   anxiety really app like one time   \n",
       "997            really meditations calm much calm would   \n",
       "998         day free help help life like life free app   \n",
       "999           app anxiety app help really help app app   \n",
       "\n",
       "                                     review_string_lem  is_equal  \n",
       "0    calm app app love free get sleep stories get l...      True  \n",
       "1    really like get app Calm app free like day wou...      True  \n",
       "2    The really app Calm help anxiety much app app ...      True  \n",
       "3    love love love app sleep calm sleep one day Th...      True  \n",
       "4    life anxiety time anxiety sleep get anxiety re...      True  \n",
       "..                                                 ...       ...  \n",
       "995                                      app would app      True  \n",
       "996                   anxiety really app like one time      True  \n",
       "997            really meditations calm much calm would      True  \n",
       "998         day free help help life like life free app      True  \n",
       "999           app anxiety app help really help app app      True  \n",
       "\n",
       "[1000 rows x 9 columns]"
      ]
     },
     "execution_count": 46,
     "metadata": {},
     "output_type": "execute_result"
    }
   ],
   "source": [
    "appstore_calm_us"
   ]
  },
  {
   "cell_type": "code",
   "execution_count": 47,
   "id": "9d08105e-db20-4f5b-877f-fc1ff8cbd401",
   "metadata": {},
   "outputs": [],
   "source": [
    "all_words_lem_appstore = ' '.join([word for word in appstore_calm_us['review_string_lem']])"
   ]
  },
  {
   "cell_type": "markdown",
   "id": "eda39824-482a-4ab2-9b07-6df0be6a9a6f",
   "metadata": {},
   "source": [
    "### 4 Generating features"
   ]
  },
  {
   "cell_type": "markdown",
   "id": "5a6c1bcd-f570-4555-9a0d-f0324e6d5be0",
   "metadata": {},
   "source": [
    "### 4.1 Frequency distributions"
   ]
  },
  {
   "cell_type": "markdown",
   "id": "640d606b-7d36-40cc-8910-3aa130ed93c3",
   "metadata": {},
   "source": [
    "- The lemmization list is first tokenized.\n",
    "- After that, find the frequency distributions by categorizing.\n",
    "- In that set of strings, we test the five most frequent words."
   ]
  },
  {
   "cell_type": "markdown",
   "id": "521c0c61-b9c1-4df0-9752-580bb9e2aa6e",
   "metadata": {},
   "source": [
    "**Google Play Store Meditation App Reviews**"
   ]
  },
  {
   "cell_type": "code",
   "execution_count": 48,
   "id": "ce8f22b2-27bd-4300-a9c5-31139766df3e",
   "metadata": {},
   "outputs": [],
   "source": [
    "words_playmeditopia = nltk.word_tokenize(all_words_lem_playmeditopia)\n",
    "fd_playmeditopia = FreqDist(words_playmeditopia)"
   ]
  },
  {
   "cell_type": "code",
   "execution_count": 49,
   "id": "7e949af6-1a33-4950-baf0-b8cd2a6fa6af",
   "metadata": {},
   "outputs": [
    {
     "data": {
      "text/plain": [
       "[('app', 483), ('love', 132), ('good', 117), ('really', 113), ('This', 99)]"
      ]
     },
     "execution_count": 49,
     "metadata": {},
     "output_type": "execute_result"
    }
   ],
   "source": [
    "fd_playmeditopia.most_common(5)"
   ]
  },
  {
   "cell_type": "code",
   "execution_count": 50,
   "id": "e1570e29-b707-4c68-bdc3-7224cd136888",
   "metadata": {},
   "outputs": [
    {
     "name": "stdout",
     "output_type": "stream",
     "text": [
      "   app   love   good really   This \n",
      "   483    132    117    113     99 \n"
     ]
    }
   ],
   "source": [
    "fd_playmeditopia.tabulate(5)"
   ]
  },
  {
   "cell_type": "markdown",
   "id": "8d56adc4-e249-464f-9874-8823a85d7e05",
   "metadata": {},
   "source": [
    "**App Store Meditation App Reviews**"
   ]
  },
  {
   "cell_type": "code",
   "execution_count": 51,
   "id": "b17ed700-1f7c-4464-baca-e682116722ec",
   "metadata": {},
   "outputs": [],
   "source": [
    "words_appstore = nltk.word_tokenize(all_words_lem_appstore)\n",
    "fd_appstore = FreqDist(words_appstore)"
   ]
  },
  {
   "cell_type": "code",
   "execution_count": 52,
   "id": "64c7994e-e647-4e8b-8e9c-bab773ec950f",
   "metadata": {},
   "outputs": [
    {
     "data": {
      "text/plain": [
       "[('app', 2177), ('sleep', 878), ('Calm', 701), ('like', 579), ('stories', 555)]"
      ]
     },
     "execution_count": 52,
     "metadata": {},
     "output_type": "execute_result"
    }
   ],
   "source": [
    "fd_appstore.most_common(5)"
   ]
  },
  {
   "cell_type": "code",
   "execution_count": 53,
   "id": "89029c20-b5bc-4b0f-ad18-d63748eedead",
   "metadata": {},
   "outputs": [
    {
     "name": "stdout",
     "output_type": "stream",
     "text": [
      "    app   sleep    Calm    like stories \n",
      "   2177     878     701     579     555 \n"
     ]
    }
   ],
   "source": [
    "fd_appstore.tabulate(5)"
   ]
  },
  {
   "cell_type": "markdown",
   "id": "0236e5c8-8b6b-44c3-bade-fa932600701a",
   "metadata": {},
   "source": [
    "### 4.2 Seaborn"
   ]
  },
  {
   "cell_type": "markdown",
   "id": "535160bf-d611-4b72-8482-79736a2deacd",
   "metadata": {},
   "source": [
    "The top 10 most frequent words in these two app platforms are shown in the charts below."
   ]
  },
  {
   "cell_type": "markdown",
   "id": "ee78e55e-2e94-404a-b350-7c09461f1552",
   "metadata": {},
   "source": [
    "**Google Play Store Meditation App Reviews**"
   ]
  },
  {
   "cell_type": "markdown",
   "id": "77fcbf14-8ad1-4146-9b40-1f8fe55585a1",
   "metadata": {},
   "source": [
    "The word count of common words is represented on the x axis, and the top 10 words are represented on the y axis."
   ]
  },
  {
   "cell_type": "code",
   "execution_count": 54,
   "id": "c4a7fe05-f4cd-4e52-82ff-b47b13001651",
   "metadata": {},
   "outputs": [],
   "source": [
    "# Obtain top 10 words\n",
    "top_10_playmeditopia = fd_playmeditopia.most_common(10)\n",
    "\n",
    "# Create pandas series to make plotting easier\n",
    "fdist_playmeditopia = pd.Series(dict(top_10_playmeditopia))"
   ]
  },
  {
   "cell_type": "code",
   "execution_count": 55,
   "id": "f8533e84-f000-4203-9171-978f140c196c",
   "metadata": {},
   "outputs": [
    {
     "data": {
      "image/png": "[encoded data removed]",
      "text/plain": [
       "<Figure size 432x288 with 1 Axes>"
      ]
     },
     "metadata": {},
     "output_type": "display_data"
    }
   ],
   "source": [
    "sns.set_theme(style=\"ticks\")\n",
    "\n",
    "sns.barplot(y=fdist_playmeditopia.index, x=fdist_playmeditopia.values, color='blue');"
   ]
  },
  {
   "cell_type": "markdown",
   "id": "7d38883e-44c9-4ea9-858c-9a2a86d66b01",
   "metadata": {},
   "source": [
    "**App Store Meditation App Reviews**"
   ]
  },
  {
   "cell_type": "markdown",
   "id": "3cff6ce9-e962-4f36-bb7f-a8bc9c49b72c",
   "metadata": {},
   "source": [
    "The word count of common words is represented on the x axis, and the top 10 words are represented on the y axis."
   ]
  },
  {
   "cell_type": "code",
   "execution_count": 56,
   "id": "5bc7f7e8-7ad7-423d-8de8-e244f845e8c9",
   "metadata": {},
   "outputs": [],
   "source": [
    "# Obtain top 10 words\n",
    "top_10_appstore = fd_appstore.most_common(10)\n",
    "\n",
    "# Create pandas series to make plotting easier\n",
    "fdist_appstore = pd.Series(dict(top_10_appstore))"
   ]
  },
  {
   "cell_type": "code",
   "execution_count": 57,
   "id": "292b1150-0729-4bf0-af69-b914769818ca",
   "metadata": {},
   "outputs": [
    {
     "data": {
      "image/png": "[encoded data removed]",
      "text/plain": [
       "<Figure size 432x288 with 1 Axes>"
      ]
     },
     "metadata": {},
     "output_type": "display_data"
    }
   ],
   "source": [
    "sns.set_theme(style=\"ticks\")\n",
    "\n",
    "sns.barplot(y=fdist_appstore.index, x=fdist_appstore.values, color='green');"
   ]
  },
  {
   "cell_type": "markdown",
   "id": "c34e851c-8aad-42df-a568-e2147e2fe734",
   "metadata": {},
   "source": [
    "We can observe that the words \"app,\" \"like,\" and \"love\" are presented in both results. Sleep is the second most popular word in the app store, and it caught my eye. In chapter 5.6, I would conduct another visual examination relating to sleep."
   ]
  },
  {
   "cell_type": "markdown",
   "id": "572e1ed2-df93-4136-98ed-3757e2091f15",
   "metadata": {},
   "source": [
    "### 4.3 Sentiment Intensity Analysis"
   ]
  },
  {
   "cell_type": "markdown",
   "id": "9f81d158-a1ce-4586-9b69-0f8cd4894ab4",
   "metadata": {},
   "source": [
    "I will use Sentiment Intensity Analysis to computate whether the reviews are positive, negative or neutral. "
   ]
  },
  {
   "cell_type": "markdown",
   "id": "b35ef850-d9ed-48a0-9580-d7f198f9daea",
   "metadata": {},
   "source": [
    "**Google Play Store Meditation App Reviews**"
   ]
  },
  {
   "cell_type": "code",
   "execution_count": 58,
   "id": "1abfaac4-2a18-472c-9428-68a29bf8fec1",
   "metadata": {},
   "outputs": [],
   "source": [
    "analyzer = SentimentIntensityAnalyzer()"
   ]
  },
  {
   "cell_type": "markdown",
   "id": "68221a42-ff2f-4525-87dc-e04528c1fddd",
   "metadata": {},
   "source": [
    "To save the polarity scores produced by content_string_lem, we first establish a new list. Then we remove any unneeded lists, like \"Unnamed: 0,\" \"reviewId,\" \"userName,\" and \"userImage.\" Change the data structure to \"neg,\" \"neu,\" \"pos,\" and \"compound\" by using apply(pd.Series). When the dataset is finally generated a second attempt, a new list called \"sentiment\" will be created and used to store the playmeditopia_us score results."
   ]
  },
  {
   "cell_type": "code",
   "execution_count": 59,
   "id": "71618697-ef6a-464e-bf68-95b12bd31c3d",
   "metadata": {},
   "outputs": [
    {
     "data": {
      "text/html": [
       "<div>\n",
       "<style scoped>\n",
       "    .dataframe tbody tr th:only-of-type {\n",
       "        vertical-align: middle;\n",
       "    }\n",
       "\n",
       "    .dataframe tbody tr th {\n",
       "        vertical-align: top;\n",
       "    }\n",
       "\n",
       "    .dataframe thead th {\n",
       "        text-align: right;\n",
       "    }\n",
       "</style>\n",
       "<table border=\"1\" class=\"dataframe\">\n",
       "  <thead>\n",
       "    <tr style=\"text-align: right;\">\n",
       "      <th></th>\n",
       "      <th>Unnamed: 0</th>\n",
       "      <th>reviewId</th>\n",
       "      <th>userName</th>\n",
       "      <th>userImage</th>\n",
       "      <th>content</th>\n",
       "      <th>score</th>\n",
       "      <th>thumbsUpCount</th>\n",
       "      <th>reviewCreatedVersion</th>\n",
       "      <th>at</th>\n",
       "      <th>replyContent</th>\n",
       "      <th>repliedAt</th>\n",
       "      <th>content_token</th>\n",
       "      <th>content_string</th>\n",
       "      <th>content_string_fdist</th>\n",
       "      <th>content_string_lem</th>\n",
       "      <th>is_equal</th>\n",
       "      <th>polarity</th>\n",
       "    </tr>\n",
       "  </thead>\n",
       "  <tbody>\n",
       "    <tr>\n",
       "      <th>0</th>\n",
       "      <td>0</td>\n",
       "      <td>gp:AOqpTOEuHiXepchc_zH_yo8tfSmHHN8TCBXgXayrHL2...</td>\n",
       "      <td>Gordeh Man</td>\n",
       "      <td>https://play-lh.googleusercontent.com/-t41P6cc...</td>\n",
       "      <td>This app can be wonderfully helpful in dealing...</td>\n",
       "      <td>5</td>\n",
       "      <td>9</td>\n",
       "      <td>3.14.1</td>\n",
       "      <td>2021-02-16 11:56:17</td>\n",
       "      <td>Thank you so much for sharing your ideas with ...</td>\n",
       "      <td>2021-02-18 16:18:41</td>\n",
       "      <td>[This, app, wonderfully, helpful, dealing, str...</td>\n",
       "      <td>This app wonderfully helpful dealing stress an...</td>\n",
       "      <td>This app anxiety much</td>\n",
       "      <td>This app anxiety much</td>\n",
       "      <td>True</td>\n",
       "      <td>{'neg': 0.362, 'neu': 0.638, 'pos': 0.0, 'comp...</td>\n",
       "    </tr>\n",
       "    <tr>\n",
       "      <th>1</th>\n",
       "      <td>1</td>\n",
       "      <td>gp:AOqpTOFwY-lQRCIChJB3IJxeOHbZEeIuO4ZL1wg7uOy...</td>\n",
       "      <td>Ekaterine Khoperia</td>\n",
       "      <td>https://play-lh.googleusercontent.com/a-/AOh14...</td>\n",
       "      <td>Very balanced, needs oriented, user friendly a...</td>\n",
       "      <td>5</td>\n",
       "      <td>5</td>\n",
       "      <td>3.14.1</td>\n",
       "      <td>2021-02-18 14:25:44</td>\n",
       "      <td>NaN</td>\n",
       "      <td>NaN</td>\n",
       "      <td>[Very, balanced, needs, oriented, user, friend...</td>\n",
       "      <td>Very balanced needs oriented user friendly use...</td>\n",
       "      <td>Very great much app</td>\n",
       "      <td>Very great much app</td>\n",
       "      <td>True</td>\n",
       "      <td>{'neg': 0.0, 'neu': 0.406, 'pos': 0.594, 'comp...</td>\n",
       "    </tr>\n",
       "    <tr>\n",
       "      <th>2</th>\n",
       "      <td>2</td>\n",
       "      <td>gp:AOqpTOEz9cwfZZd9BxorlHiGFxQdD0SQa2TKc7KSFHl...</td>\n",
       "      <td>Michele Mazo</td>\n",
       "      <td>https://play-lh.googleusercontent.com/a-/AOh14...</td>\n",
       "      <td>I love this app. Learning to meditate is a pro...</td>\n",
       "      <td>5</td>\n",
       "      <td>0</td>\n",
       "      <td>3.14.1</td>\n",
       "      <td>2021-02-18 20:09:16</td>\n",
       "      <td>NaN</td>\n",
       "      <td>NaN</td>\n",
       "      <td>[I, love, app, Learning, meditate, process, ap...</td>\n",
       "      <td>love app Learning meditate process app provide...</td>\n",
       "      <td>love app app best much</td>\n",
       "      <td>love app app best much</td>\n",
       "      <td>True</td>\n",
       "      <td>{'neg': 0.0, 'neu': 0.263, 'pos': 0.737, 'comp...</td>\n",
       "    </tr>\n",
       "  </tbody>\n",
       "</table>\n",
       "</div>"
      ],
      "text/plain": [
       "   Unnamed: 0                                           reviewId  \\\n",
       "0           0  gp:AOqpTOEuHiXepchc_zH_yo8tfSmHHN8TCBXgXayrHL2...   \n",
       "1           1  gp:AOqpTOFwY-lQRCIChJB3IJxeOHbZEeIuO4ZL1wg7uOy...   \n",
       "2           2  gp:AOqpTOEz9cwfZZd9BxorlHiGFxQdD0SQa2TKc7KSFHl...   \n",
       "\n",
       "             userName                                          userImage  \\\n",
       "0          Gordeh Man  https://play-lh.googleusercontent.com/-t41P6cc...   \n",
       "1  Ekaterine Khoperia  https://play-lh.googleusercontent.com/a-/AOh14...   \n",
       "2        Michele Mazo  https://play-lh.googleusercontent.com/a-/AOh14...   \n",
       "\n",
       "                                             content  score  thumbsUpCount  \\\n",
       "0  This app can be wonderfully helpful in dealing...      5              9   \n",
       "1  Very balanced, needs oriented, user friendly a...      5              5   \n",
       "2  I love this app. Learning to meditate is a pro...      5              0   \n",
       "\n",
       "  reviewCreatedVersion                   at  \\\n",
       "0               3.14.1  2021-02-16 11:56:17   \n",
       "1               3.14.1  2021-02-18 14:25:44   \n",
       "2               3.14.1  2021-02-18 20:09:16   \n",
       "\n",
       "                                        replyContent            repliedAt  \\\n",
       "0  Thank you so much for sharing your ideas with ...  2021-02-18 16:18:41   \n",
       "1                                                NaN                  NaN   \n",
       "2                                                NaN                  NaN   \n",
       "\n",
       "                                       content_token  \\\n",
       "0  [This, app, wonderfully, helpful, dealing, str...   \n",
       "1  [Very, balanced, needs, oriented, user, friend...   \n",
       "2  [I, love, app, Learning, meditate, process, ap...   \n",
       "\n",
       "                                      content_string    content_string_fdist  \\\n",
       "0  This app wonderfully helpful dealing stress an...   This app anxiety much   \n",
       "1  Very balanced needs oriented user friendly use...     Very great much app   \n",
       "2  love app Learning meditate process app provide...  love app app best much   \n",
       "\n",
       "       content_string_lem  is_equal  \\\n",
       "0   This app anxiety much      True   \n",
       "1     Very great much app      True   \n",
       "2  love app app best much      True   \n",
       "\n",
       "                                            polarity  \n",
       "0  {'neg': 0.362, 'neu': 0.638, 'pos': 0.0, 'comp...  \n",
       "1  {'neg': 0.0, 'neu': 0.406, 'pos': 0.594, 'comp...  \n",
       "2  {'neg': 0.0, 'neu': 0.263, 'pos': 0.737, 'comp...  "
      ]
     },
     "execution_count": 59,
     "metadata": {},
     "output_type": "execute_result"
    }
   ],
   "source": [
    "playmeditopia_us['polarity'] = playmeditopia_us['content_string_lem'].apply(lambda x: analyzer.polarity_scores(x))\n",
    "playmeditopia_us.head(3)"
   ]
  },
  {
   "cell_type": "code",
   "execution_count": 60,
   "id": "38ef244c-5bd6-4242-8063-641cee469509",
   "metadata": {},
   "outputs": [
    {
     "data": {
      "text/html": [
       "<div>\n",
       "<style scoped>\n",
       "    .dataframe tbody tr th:only-of-type {\n",
       "        vertical-align: middle;\n",
       "    }\n",
       "\n",
       "    .dataframe tbody tr th {\n",
       "        vertical-align: top;\n",
       "    }\n",
       "\n",
       "    .dataframe thead th {\n",
       "        text-align: right;\n",
       "    }\n",
       "</style>\n",
       "<table border=\"1\" class=\"dataframe\">\n",
       "  <thead>\n",
       "    <tr style=\"text-align: right;\">\n",
       "      <th></th>\n",
       "      <th>content</th>\n",
       "      <th>score</th>\n",
       "      <th>thumbsUpCount</th>\n",
       "      <th>reviewCreatedVersion</th>\n",
       "      <th>at</th>\n",
       "      <th>replyContent</th>\n",
       "      <th>repliedAt</th>\n",
       "      <th>content_token</th>\n",
       "      <th>content_string</th>\n",
       "      <th>content_string_fdist</th>\n",
       "      <th>content_string_lem</th>\n",
       "      <th>is_equal</th>\n",
       "      <th>neg</th>\n",
       "      <th>neu</th>\n",
       "      <th>pos</th>\n",
       "      <th>compound</th>\n",
       "    </tr>\n",
       "  </thead>\n",
       "  <tbody>\n",
       "    <tr>\n",
       "      <th>0</th>\n",
       "      <td>This app can be wonderfully helpful in dealing...</td>\n",
       "      <td>5</td>\n",
       "      <td>9</td>\n",
       "      <td>3.14.1</td>\n",
       "      <td>2021-02-16 11:56:17</td>\n",
       "      <td>Thank you so much for sharing your ideas with ...</td>\n",
       "      <td>2021-02-18 16:18:41</td>\n",
       "      <td>[This, app, wonderfully, helpful, dealing, str...</td>\n",
       "      <td>This app wonderfully helpful dealing stress an...</td>\n",
       "      <td>This app anxiety much</td>\n",
       "      <td>This app anxiety much</td>\n",
       "      <td>True</td>\n",
       "      <td>0.362</td>\n",
       "      <td>0.638</td>\n",
       "      <td>0.000</td>\n",
       "      <td>-0.1779</td>\n",
       "    </tr>\n",
       "    <tr>\n",
       "      <th>1</th>\n",
       "      <td>Very balanced, needs oriented, user friendly a...</td>\n",
       "      <td>5</td>\n",
       "      <td>5</td>\n",
       "      <td>3.14.1</td>\n",
       "      <td>2021-02-18 14:25:44</td>\n",
       "      <td>NaN</td>\n",
       "      <td>NaN</td>\n",
       "      <td>[Very, balanced, needs, oriented, user, friend...</td>\n",
       "      <td>Very balanced needs oriented user friendly use...</td>\n",
       "      <td>Very great much app</td>\n",
       "      <td>Very great much app</td>\n",
       "      <td>True</td>\n",
       "      <td>0.000</td>\n",
       "      <td>0.406</td>\n",
       "      <td>0.594</td>\n",
       "      <td>0.6590</td>\n",
       "    </tr>\n",
       "    <tr>\n",
       "      <th>2</th>\n",
       "      <td>I love this app. Learning to meditate is a pro...</td>\n",
       "      <td>5</td>\n",
       "      <td>0</td>\n",
       "      <td>3.14.1</td>\n",
       "      <td>2021-02-18 20:09:16</td>\n",
       "      <td>NaN</td>\n",
       "      <td>NaN</td>\n",
       "      <td>[I, love, app, Learning, meditate, process, ap...</td>\n",
       "      <td>love app Learning meditate process app provide...</td>\n",
       "      <td>love app app best much</td>\n",
       "      <td>love app app best much</td>\n",
       "      <td>True</td>\n",
       "      <td>0.000</td>\n",
       "      <td>0.263</td>\n",
       "      <td>0.737</td>\n",
       "      <td>0.8555</td>\n",
       "    </tr>\n",
       "  </tbody>\n",
       "</table>\n",
       "</div>"
      ],
      "text/plain": [
       "                                             content  score  thumbsUpCount  \\\n",
       "0  This app can be wonderfully helpful in dealing...      5              9   \n",
       "1  Very balanced, needs oriented, user friendly a...      5              5   \n",
       "2  I love this app. Learning to meditate is a pro...      5              0   \n",
       "\n",
       "  reviewCreatedVersion                   at  \\\n",
       "0               3.14.1  2021-02-16 11:56:17   \n",
       "1               3.14.1  2021-02-18 14:25:44   \n",
       "2               3.14.1  2021-02-18 20:09:16   \n",
       "\n",
       "                                        replyContent            repliedAt  \\\n",
       "0  Thank you so much for sharing your ideas with ...  2021-02-18 16:18:41   \n",
       "1                                                NaN                  NaN   \n",
       "2                                                NaN                  NaN   \n",
       "\n",
       "                                       content_token  \\\n",
       "0  [This, app, wonderfully, helpful, dealing, str...   \n",
       "1  [Very, balanced, needs, oriented, user, friend...   \n",
       "2  [I, love, app, Learning, meditate, process, ap...   \n",
       "\n",
       "                                      content_string    content_string_fdist  \\\n",
       "0  This app wonderfully helpful dealing stress an...   This app anxiety much   \n",
       "1  Very balanced needs oriented user friendly use...     Very great much app   \n",
       "2  love app Learning meditate process app provide...  love app app best much   \n",
       "\n",
       "       content_string_lem  is_equal    neg    neu    pos  compound  \n",
       "0   This app anxiety much      True  0.362  0.638  0.000   -0.1779  \n",
       "1     Very great much app      True  0.000  0.406  0.594    0.6590  \n",
       "2  love app app best much      True  0.000  0.263  0.737    0.8555  "
      ]
     },
     "execution_count": 60,
     "metadata": {},
     "output_type": "execute_result"
    }
   ],
   "source": [
    "# Change data structure\n",
    "playmeditopia_us = pd.concat(\n",
    "    [playmeditopia_us.drop(['Unnamed: 0', 'reviewId', 'userName', 'userImage','polarity' ], axis=1), \n",
    "     playmeditopia_us['polarity'].apply(pd.Series)], axis=1)\n",
    "playmeditopia_us.head(3)"
   ]
  },
  {
   "cell_type": "code",
   "execution_count": 61,
   "id": "624e4f3d-3a28-4fa0-b32a-947fef868118",
   "metadata": {},
   "outputs": [
    {
     "data": {
      "text/html": [
       "<div>\n",
       "<style scoped>\n",
       "    .dataframe tbody tr th:only-of-type {\n",
       "        vertical-align: middle;\n",
       "    }\n",
       "\n",
       "    .dataframe tbody tr th {\n",
       "        vertical-align: top;\n",
       "    }\n",
       "\n",
       "    .dataframe thead th {\n",
       "        text-align: right;\n",
       "    }\n",
       "</style>\n",
       "<table border=\"1\" class=\"dataframe\">\n",
       "  <thead>\n",
       "    <tr style=\"text-align: right;\">\n",
       "      <th></th>\n",
       "      <th>content</th>\n",
       "      <th>score</th>\n",
       "      <th>thumbsUpCount</th>\n",
       "      <th>reviewCreatedVersion</th>\n",
       "      <th>at</th>\n",
       "      <th>replyContent</th>\n",
       "      <th>repliedAt</th>\n",
       "      <th>content_token</th>\n",
       "      <th>content_string</th>\n",
       "      <th>content_string_fdist</th>\n",
       "      <th>content_string_lem</th>\n",
       "      <th>is_equal</th>\n",
       "      <th>neg</th>\n",
       "      <th>neu</th>\n",
       "      <th>pos</th>\n",
       "      <th>compound</th>\n",
       "      <th>sentiment</th>\n",
       "    </tr>\n",
       "  </thead>\n",
       "  <tbody>\n",
       "    <tr>\n",
       "      <th>0</th>\n",
       "      <td>This app can be wonderfully helpful in dealing...</td>\n",
       "      <td>5</td>\n",
       "      <td>9</td>\n",
       "      <td>3.14.1</td>\n",
       "      <td>2021-02-16 11:56:17</td>\n",
       "      <td>Thank you so much for sharing your ideas with ...</td>\n",
       "      <td>2021-02-18 16:18:41</td>\n",
       "      <td>[This, app, wonderfully, helpful, dealing, str...</td>\n",
       "      <td>This app wonderfully helpful dealing stress an...</td>\n",
       "      <td>This app anxiety much</td>\n",
       "      <td>This app anxiety much</td>\n",
       "      <td>True</td>\n",
       "      <td>0.362</td>\n",
       "      <td>0.638</td>\n",
       "      <td>0.000</td>\n",
       "      <td>-0.1779</td>\n",
       "      <td>negative</td>\n",
       "    </tr>\n",
       "    <tr>\n",
       "      <th>1</th>\n",
       "      <td>Very balanced, needs oriented, user friendly a...</td>\n",
       "      <td>5</td>\n",
       "      <td>5</td>\n",
       "      <td>3.14.1</td>\n",
       "      <td>2021-02-18 14:25:44</td>\n",
       "      <td>NaN</td>\n",
       "      <td>NaN</td>\n",
       "      <td>[Very, balanced, needs, oriented, user, friend...</td>\n",
       "      <td>Very balanced needs oriented user friendly use...</td>\n",
       "      <td>Very great much app</td>\n",
       "      <td>Very great much app</td>\n",
       "      <td>True</td>\n",
       "      <td>0.000</td>\n",
       "      <td>0.406</td>\n",
       "      <td>0.594</td>\n",
       "      <td>0.6590</td>\n",
       "      <td>positive</td>\n",
       "    </tr>\n",
       "    <tr>\n",
       "      <th>2</th>\n",
       "      <td>I love this app. Learning to meditate is a pro...</td>\n",
       "      <td>5</td>\n",
       "      <td>0</td>\n",
       "      <td>3.14.1</td>\n",
       "      <td>2021-02-18 20:09:16</td>\n",
       "      <td>NaN</td>\n",
       "      <td>NaN</td>\n",
       "      <td>[I, love, app, Learning, meditate, process, ap...</td>\n",
       "      <td>love app Learning meditate process app provide...</td>\n",
       "      <td>love app app best much</td>\n",
       "      <td>love app app best much</td>\n",
       "      <td>True</td>\n",
       "      <td>0.000</td>\n",
       "      <td>0.263</td>\n",
       "      <td>0.737</td>\n",
       "      <td>0.8555</td>\n",
       "      <td>positive</td>\n",
       "    </tr>\n",
       "  </tbody>\n",
       "</table>\n",
       "</div>"
      ],
      "text/plain": [
       "                                             content  score  thumbsUpCount  \\\n",
       "0  This app can be wonderfully helpful in dealing...      5              9   \n",
       "1  Very balanced, needs oriented, user friendly a...      5              5   \n",
       "2  I love this app. Learning to meditate is a pro...      5              0   \n",
       "\n",
       "  reviewCreatedVersion                   at  \\\n",
       "0               3.14.1  2021-02-16 11:56:17   \n",
       "1               3.14.1  2021-02-18 14:25:44   \n",
       "2               3.14.1  2021-02-18 20:09:16   \n",
       "\n",
       "                                        replyContent            repliedAt  \\\n",
       "0  Thank you so much for sharing your ideas with ...  2021-02-18 16:18:41   \n",
       "1                                                NaN                  NaN   \n",
       "2                                                NaN                  NaN   \n",
       "\n",
       "                                       content_token  \\\n",
       "0  [This, app, wonderfully, helpful, dealing, str...   \n",
       "1  [Very, balanced, needs, oriented, user, friend...   \n",
       "2  [I, love, app, Learning, meditate, process, ap...   \n",
       "\n",
       "                                      content_string    content_string_fdist  \\\n",
       "0  This app wonderfully helpful dealing stress an...   This app anxiety much   \n",
       "1  Very balanced needs oriented user friendly use...     Very great much app   \n",
       "2  love app Learning meditate process app provide...  love app app best much   \n",
       "\n",
       "       content_string_lem  is_equal    neg    neu    pos  compound sentiment  \n",
       "0   This app anxiety much      True  0.362  0.638  0.000   -0.1779  negative  \n",
       "1     Very great much app      True  0.000  0.406  0.594    0.6590  positive  \n",
       "2  love app app best much      True  0.000  0.263  0.737    0.8555  positive  "
      ]
     },
     "execution_count": 61,
     "metadata": {},
     "output_type": "execute_result"
    }
   ],
   "source": [
    "playmeditopia_us['sentiment'] = playmeditopia_us['compound'].apply(lambda x: 'positive' if x >0 else 'neutral' if x==0 else 'negative')\n",
    "playmeditopia_us.head(3)"
   ]
  },
  {
   "cell_type": "markdown",
   "id": "4d5388e3-d424-4a6a-bce3-70ea092d1ccb",
   "metadata": {},
   "source": [
    "**App Store Meditation App Reviews**"
   ]
  },
  {
   "cell_type": "markdown",
   "id": "da5b4393-3c2f-4809-8dc6-8f1ea7c9dd0a",
   "metadata": {},
   "source": [
    "To save the polarity scores produced by review_string_lem, we first establish a new list. Then we remove any unneeded lists, like \"Unnamed: 0\", \"is_equal\",\"polarity\". Change the data structure to \"neg,\" \"neu,\" \"pos,\" and \"compound\" by using apply(pd.Series). When the dataset is finally generated a second attempt, a new list called \"sentiment\" will be created and used to store the appstore_calm_u score results."
   ]
  },
  {
   "cell_type": "code",
   "execution_count": 62,
   "id": "33b903fb-944c-4818-8446-38c492e8792f",
   "metadata": {},
   "outputs": [
    {
     "data": {
      "text/html": [
       "<div>\n",
       "<style scoped>\n",
       "    .dataframe tbody tr th:only-of-type {\n",
       "        vertical-align: middle;\n",
       "    }\n",
       "\n",
       "    .dataframe tbody tr th {\n",
       "        vertical-align: top;\n",
       "    }\n",
       "\n",
       "    .dataframe thead th {\n",
       "        text-align: right;\n",
       "    }\n",
       "</style>\n",
       "<table border=\"1\" class=\"dataframe\">\n",
       "  <thead>\n",
       "    <tr style=\"text-align: right;\">\n",
       "      <th></th>\n",
       "      <th>Unnamed: 0</th>\n",
       "      <th>date</th>\n",
       "      <th>rating</th>\n",
       "      <th>review</th>\n",
       "      <th>review_token</th>\n",
       "      <th>review_string</th>\n",
       "      <th>review_string_fdist</th>\n",
       "      <th>review_string_lem</th>\n",
       "      <th>is_equal</th>\n",
       "      <th>polarity</th>\n",
       "    </tr>\n",
       "  </thead>\n",
       "  <tbody>\n",
       "    <tr>\n",
       "      <th>997</th>\n",
       "      <td>997</td>\n",
       "      <td>2018-07-15 23:35:19</td>\n",
       "      <td>5</td>\n",
       "      <td>Honestly I had never really meditated before b...</td>\n",
       "      <td>[Honestly, I, never, really, meditated, I, alw...</td>\n",
       "      <td>Honestly never really meditated always curious...</td>\n",
       "      <td>really meditations calm much calm would</td>\n",
       "      <td>really meditations calm much calm would</td>\n",
       "      <td>True</td>\n",
       "      <td>{'neg': 0.0, 'neu': 0.437, 'pos': 0.563, 'comp...</td>\n",
       "    </tr>\n",
       "    <tr>\n",
       "      <th>998</th>\n",
       "      <td>998</td>\n",
       "      <td>2018-11-12 23:42:31</td>\n",
       "      <td>1</td>\n",
       "      <td>Seriously only a seven day free trial. How are...</td>\n",
       "      <td>[Seriously, seven, day, free, trial, How, supp...</td>\n",
       "      <td>Seriously seven day free trial How supposed te...</td>\n",
       "      <td>day free help help life like life free app</td>\n",
       "      <td>day free help help life like life free app</td>\n",
       "      <td>True</td>\n",
       "      <td>{'neg': 0.0, 'neu': 0.216, 'pos': 0.784, 'comp...</td>\n",
       "    </tr>\n",
       "    <tr>\n",
       "      <th>999</th>\n",
       "      <td>999</td>\n",
       "      <td>2018-04-17 00:14:07</td>\n",
       "      <td>4</td>\n",
       "      <td>Overall, this app is pretty amazing. I suffer ...</td>\n",
       "      <td>[Overall, app, pretty, amazing, I, suffer, ser...</td>\n",
       "      <td>Overall app pretty amazing suffer serious anxi...</td>\n",
       "      <td>app anxiety app help really help app app</td>\n",
       "      <td>app anxiety app help really help app app</td>\n",
       "      <td>True</td>\n",
       "      <td>{'neg': 0.14, 'neu': 0.413, 'pos': 0.446, 'com...</td>\n",
       "    </tr>\n",
       "  </tbody>\n",
       "</table>\n",
       "</div>"
      ],
      "text/plain": [
       "     Unnamed: 0                 date  rating  \\\n",
       "997         997  2018-07-15 23:35:19       5   \n",
       "998         998  2018-11-12 23:42:31       1   \n",
       "999         999  2018-04-17 00:14:07       4   \n",
       "\n",
       "                                                review  \\\n",
       "997  Honestly I had never really meditated before b...   \n",
       "998  Seriously only a seven day free trial. How are...   \n",
       "999  Overall, this app is pretty amazing. I suffer ...   \n",
       "\n",
       "                                          review_token  \\\n",
       "997  [Honestly, I, never, really, meditated, I, alw...   \n",
       "998  [Seriously, seven, day, free, trial, How, supp...   \n",
       "999  [Overall, app, pretty, amazing, I, suffer, ser...   \n",
       "\n",
       "                                         review_string  \\\n",
       "997  Honestly never really meditated always curious...   \n",
       "998  Seriously seven day free trial How supposed te...   \n",
       "999  Overall app pretty amazing suffer serious anxi...   \n",
       "\n",
       "                            review_string_fdist  \\\n",
       "997     really meditations calm much calm would   \n",
       "998  day free help help life like life free app   \n",
       "999    app anxiety app help really help app app   \n",
       "\n",
       "                              review_string_lem  is_equal  \\\n",
       "997     really meditations calm much calm would      True   \n",
       "998  day free help help life like life free app      True   \n",
       "999    app anxiety app help really help app app      True   \n",
       "\n",
       "                                              polarity  \n",
       "997  {'neg': 0.0, 'neu': 0.437, 'pos': 0.563, 'comp...  \n",
       "998  {'neg': 0.0, 'neu': 0.216, 'pos': 0.784, 'comp...  \n",
       "999  {'neg': 0.14, 'neu': 0.413, 'pos': 0.446, 'com...  "
      ]
     },
     "execution_count": 62,
     "metadata": {},
     "output_type": "execute_result"
    }
   ],
   "source": [
    "appstore_calm_us['polarity'] = appstore_calm_us['review_string_lem'].apply(lambda x: analyzer.polarity_scores(x))\n",
    "appstore_calm_us.tail(3)"
   ]
  },
  {
   "cell_type": "code",
   "execution_count": 63,
   "id": "7b81c575-d471-46fe-8690-045246bf7b83",
   "metadata": {},
   "outputs": [
    {
     "data": {
      "text/html": [
       "<div>\n",
       "<style scoped>\n",
       "    .dataframe tbody tr th:only-of-type {\n",
       "        vertical-align: middle;\n",
       "    }\n",
       "\n",
       "    .dataframe tbody tr th {\n",
       "        vertical-align: top;\n",
       "    }\n",
       "\n",
       "    .dataframe thead th {\n",
       "        text-align: right;\n",
       "    }\n",
       "</style>\n",
       "<table border=\"1\" class=\"dataframe\">\n",
       "  <thead>\n",
       "    <tr style=\"text-align: right;\">\n",
       "      <th></th>\n",
       "      <th>date</th>\n",
       "      <th>rating</th>\n",
       "      <th>review</th>\n",
       "      <th>review_token</th>\n",
       "      <th>review_string</th>\n",
       "      <th>review_string_fdist</th>\n",
       "      <th>review_string_lem</th>\n",
       "      <th>neg</th>\n",
       "      <th>neu</th>\n",
       "      <th>pos</th>\n",
       "      <th>compound</th>\n",
       "    </tr>\n",
       "  </thead>\n",
       "  <tbody>\n",
       "    <tr>\n",
       "      <th>0</th>\n",
       "      <td>2020-12-06 05:17:39</td>\n",
       "      <td>5</td>\n",
       "      <td>I updated the calm app and just out of curiosi...</td>\n",
       "      <td>[I, updated, calm, app, curiosity, I, read, re...</td>\n",
       "      <td>updated calm app curiosity read reviews using ...</td>\n",
       "      <td>calm app app love free get sleep stories get l...</td>\n",
       "      <td>calm app app love free get sleep stories get l...</td>\n",
       "      <td>0.000</td>\n",
       "      <td>0.354</td>\n",
       "      <td>0.646</td>\n",
       "      <td>0.9274</td>\n",
       "    </tr>\n",
       "    <tr>\n",
       "      <th>1</th>\n",
       "      <td>2020-09-21 22:38:20</td>\n",
       "      <td>3</td>\n",
       "      <td>I really don’t like how you have to pay to get...</td>\n",
       "      <td>[I, really, like, pay, get, good, stuff, That,...</td>\n",
       "      <td>really like pay get good stuff That makes stre...</td>\n",
       "      <td>really like get app Calm app free like day wou...</td>\n",
       "      <td>really like get app Calm app free like day wou...</td>\n",
       "      <td>0.000</td>\n",
       "      <td>0.432</td>\n",
       "      <td>0.568</td>\n",
       "      <td>0.9669</td>\n",
       "    </tr>\n",
       "    <tr>\n",
       "      <th>2</th>\n",
       "      <td>2020-12-08 16:02:24</td>\n",
       "      <td>3</td>\n",
       "      <td>I just wanted to leave a recommendation.  Ther...</td>\n",
       "      <td>[I, wanted, leave, recommendation, There, ad, ...</td>\n",
       "      <td>wanted leave recommendation There got seemed w...</td>\n",
       "      <td>The really app Calm help anxiety much app app ...</td>\n",
       "      <td>The really app Calm help anxiety much app app ...</td>\n",
       "      <td>0.092</td>\n",
       "      <td>0.431</td>\n",
       "      <td>0.477</td>\n",
       "      <td>0.7988</td>\n",
       "    </tr>\n",
       "  </tbody>\n",
       "</table>\n",
       "</div>"
      ],
      "text/plain": [
       "                  date  rating  \\\n",
       "0  2020-12-06 05:17:39       5   \n",
       "1  2020-09-21 22:38:20       3   \n",
       "2  2020-12-08 16:02:24       3   \n",
       "\n",
       "                                              review  \\\n",
       "0  I updated the calm app and just out of curiosi...   \n",
       "1  I really don’t like how you have to pay to get...   \n",
       "2  I just wanted to leave a recommendation.  Ther...   \n",
       "\n",
       "                                        review_token  \\\n",
       "0  [I, updated, calm, app, curiosity, I, read, re...   \n",
       "1  [I, really, like, pay, get, good, stuff, That,...   \n",
       "2  [I, wanted, leave, recommendation, There, ad, ...   \n",
       "\n",
       "                                       review_string  \\\n",
       "0  updated calm app curiosity read reviews using ...   \n",
       "1  really like pay get good stuff That makes stre...   \n",
       "2  wanted leave recommendation There got seemed w...   \n",
       "\n",
       "                                 review_string_fdist  \\\n",
       "0  calm app app love free get sleep stories get l...   \n",
       "1  really like get app Calm app free like day wou...   \n",
       "2  The really app Calm help anxiety much app app ...   \n",
       "\n",
       "                                   review_string_lem    neg    neu    pos  \\\n",
       "0  calm app app love free get sleep stories get l...  0.000  0.354  0.646   \n",
       "1  really like get app Calm app free like day wou...  0.000  0.432  0.568   \n",
       "2  The really app Calm help anxiety much app app ...  0.092  0.431  0.477   \n",
       "\n",
       "   compound  \n",
       "0    0.9274  \n",
       "1    0.9669  \n",
       "2    0.7988  "
      ]
     },
     "execution_count": 63,
     "metadata": {},
     "output_type": "execute_result"
    }
   ],
   "source": [
    "# Change data structure\n",
    "appstore_calm_us = pd.concat(\n",
    "    [appstore_calm_us.drop(['Unnamed: 0', 'is_equal','polarity'], axis=1), \n",
    "     appstore_calm_us['polarity'].apply(pd.Series)], axis=1)\n",
    "appstore_calm_us.head(3)"
   ]
  },
  {
   "cell_type": "code",
   "execution_count": 64,
   "id": "fda48bb4-308f-4cc5-95f9-c0e9954882c9",
   "metadata": {},
   "outputs": [
    {
     "data": {
      "text/html": [
       "<div>\n",
       "<style scoped>\n",
       "    .dataframe tbody tr th:only-of-type {\n",
       "        vertical-align: middle;\n",
       "    }\n",
       "\n",
       "    .dataframe tbody tr th {\n",
       "        vertical-align: top;\n",
       "    }\n",
       "\n",
       "    .dataframe thead th {\n",
       "        text-align: right;\n",
       "    }\n",
       "</style>\n",
       "<table border=\"1\" class=\"dataframe\">\n",
       "  <thead>\n",
       "    <tr style=\"text-align: right;\">\n",
       "      <th></th>\n",
       "      <th>date</th>\n",
       "      <th>rating</th>\n",
       "      <th>review</th>\n",
       "      <th>review_token</th>\n",
       "      <th>review_string</th>\n",
       "      <th>review_string_fdist</th>\n",
       "      <th>review_string_lem</th>\n",
       "      <th>neg</th>\n",
       "      <th>neu</th>\n",
       "      <th>pos</th>\n",
       "      <th>compound</th>\n",
       "      <th>sentiment</th>\n",
       "    </tr>\n",
       "  </thead>\n",
       "  <tbody>\n",
       "    <tr>\n",
       "      <th>0</th>\n",
       "      <td>2020-12-06 05:17:39</td>\n",
       "      <td>5</td>\n",
       "      <td>I updated the calm app and just out of curiosi...</td>\n",
       "      <td>[I, updated, calm, app, curiosity, I, read, re...</td>\n",
       "      <td>updated calm app curiosity read reviews using ...</td>\n",
       "      <td>calm app app love free get sleep stories get l...</td>\n",
       "      <td>calm app app love free get sleep stories get l...</td>\n",
       "      <td>0.000</td>\n",
       "      <td>0.354</td>\n",
       "      <td>0.646</td>\n",
       "      <td>0.9274</td>\n",
       "      <td>positive</td>\n",
       "    </tr>\n",
       "    <tr>\n",
       "      <th>1</th>\n",
       "      <td>2020-09-21 22:38:20</td>\n",
       "      <td>3</td>\n",
       "      <td>I really don’t like how you have to pay to get...</td>\n",
       "      <td>[I, really, like, pay, get, good, stuff, That,...</td>\n",
       "      <td>really like pay get good stuff That makes stre...</td>\n",
       "      <td>really like get app Calm app free like day wou...</td>\n",
       "      <td>really like get app Calm app free like day wou...</td>\n",
       "      <td>0.000</td>\n",
       "      <td>0.432</td>\n",
       "      <td>0.568</td>\n",
       "      <td>0.9669</td>\n",
       "      <td>positive</td>\n",
       "    </tr>\n",
       "    <tr>\n",
       "      <th>2</th>\n",
       "      <td>2020-12-08 16:02:24</td>\n",
       "      <td>3</td>\n",
       "      <td>I just wanted to leave a recommendation.  Ther...</td>\n",
       "      <td>[I, wanted, leave, recommendation, There, ad, ...</td>\n",
       "      <td>wanted leave recommendation There got seemed w...</td>\n",
       "      <td>The really app Calm help anxiety much app app ...</td>\n",
       "      <td>The really app Calm help anxiety much app app ...</td>\n",
       "      <td>0.092</td>\n",
       "      <td>0.431</td>\n",
       "      <td>0.477</td>\n",
       "      <td>0.7988</td>\n",
       "      <td>positive</td>\n",
       "    </tr>\n",
       "  </tbody>\n",
       "</table>\n",
       "</div>"
      ],
      "text/plain": [
       "                  date  rating  \\\n",
       "0  2020-12-06 05:17:39       5   \n",
       "1  2020-09-21 22:38:20       3   \n",
       "2  2020-12-08 16:02:24       3   \n",
       "\n",
       "                                              review  \\\n",
       "0  I updated the calm app and just out of curiosi...   \n",
       "1  I really don’t like how you have to pay to get...   \n",
       "2  I just wanted to leave a recommendation.  Ther...   \n",
       "\n",
       "                                        review_token  \\\n",
       "0  [I, updated, calm, app, curiosity, I, read, re...   \n",
       "1  [I, really, like, pay, get, good, stuff, That,...   \n",
       "2  [I, wanted, leave, recommendation, There, ad, ...   \n",
       "\n",
       "                                       review_string  \\\n",
       "0  updated calm app curiosity read reviews using ...   \n",
       "1  really like pay get good stuff That makes stre...   \n",
       "2  wanted leave recommendation There got seemed w...   \n",
       "\n",
       "                                 review_string_fdist  \\\n",
       "0  calm app app love free get sleep stories get l...   \n",
       "1  really like get app Calm app free like day wou...   \n",
       "2  The really app Calm help anxiety much app app ...   \n",
       "\n",
       "                                   review_string_lem    neg    neu    pos  \\\n",
       "0  calm app app love free get sleep stories get l...  0.000  0.354  0.646   \n",
       "1  really like get app Calm app free like day wou...  0.000  0.432  0.568   \n",
       "2  The really app Calm help anxiety much app app ...  0.092  0.431  0.477   \n",
       "\n",
       "   compound sentiment  \n",
       "0    0.9274  positive  \n",
       "1    0.9669  positive  \n",
       "2    0.7988  positive  "
      ]
     },
     "execution_count": 64,
     "metadata": {},
     "output_type": "execute_result"
    }
   ],
   "source": [
    "appstore_calm_us['sentiment'] = appstore_calm_us['compound'].apply(lambda x: 'positive' if x >0 else 'neutral' if x==0 else 'negative')\n",
    "appstore_calm_us.head(3)"
   ]
  },
  {
   "cell_type": "markdown",
   "id": "6aee2e01-8d6d-47cb-8613-91f72bed859f",
   "metadata": {},
   "source": [
    "## 5 Exploratory data analysis"
   ]
  },
  {
   "cell_type": "markdown",
   "id": "61a4888c-d5c8-44e0-9abd-ac5c8ce60889",
   "metadata": {},
   "source": [
    "### 5.1 Analyze data from sentiment "
   ]
  },
  {
   "cell_type": "markdown",
   "id": "47b72ea7-470e-47e0-ac45-a275d410a0cc",
   "metadata": {},
   "source": [
    "In the following, we tweet the highest positive and highest negative sentiment for Google Play Store review and App Store review respectively. "
   ]
  },
  {
   "cell_type": "markdown",
   "id": "4b3232da-525a-4e36-9fea-066aadfd651c",
   "metadata": {},
   "source": [
    "**Google Play Store Meditation App Reviews**"
   ]
  },
  {
   "cell_type": "code",
   "execution_count": 65,
   "id": "eaf8b5e8-1f2d-4608-8703-8c50864b1f29",
   "metadata": {},
   "outputs": [
    {
     "data": {
      "text/plain": [
       "array([\"I just love it so so so so much you should definitely get it it's so awesome just click the back button so you don't have to pay anything and then you just listen to stories the stories are my very favorite I've looked and looked and looked everywhere for good books and audios but no these are the very best I've done every single one of them I love it so much and it makes me cry like all of them this sad ones and I feel so good after because it's so good so and this is the only app I have ever5⭐\",\n",
       "       5, 45, '3.10.6', '2020-05-20 01:42:00', nan, nan,\n",
       "       list(['I', 'love', 'much', 'definitely', 'get', 'awesome', 'click', 'back', 'button', 'pay', 'anything', 'listen', 'stories', 'stories', 'favorite', 'I', 'looked', 'looked', 'looked', 'everywhere', 'good', 'books', 'audios', 'best', 'I', 'done', 'every', 'single', 'one', 'I', 'love', 'much', 'makes', 'cry', 'like', 'sad', 'ones', 'I', 'feel', 'good', 'good', 'app', 'I', 'ever5']),\n",
       "       'love much definitely get awesome click back button pay anything listen stories stories favorite looked looked looked everywhere good books audios best done every single one love much makes cry like sad ones feel good good app ever5',\n",
       "       'love much good best love much like feel good good app',\n",
       "       'love much good best love much like feel good good app', True, 0.0,\n",
       "       0.144, 0.856, 0.9744, 'positive'], dtype=object)"
      ]
     },
     "execution_count": 65,
     "metadata": {},
     "output_type": "execute_result"
    }
   ],
   "source": [
    "# Tweet with highest positive sentiment\n",
    "playmeditopia_us.loc[playmeditopia_us['compound'].idxmax()].values"
   ]
  },
  {
   "cell_type": "code",
   "execution_count": 66,
   "id": "247dbfa0-7b6d-4710-abb1-7a2f10a4c153",
   "metadata": {},
   "outputs": [
    {
     "data": {
      "text/plain": [
       "array(['I had been experiencing an increasing amount of anxiety over the past 4 years including tightness in my chest, heart palpitations and irritability. I have been using this app for several months now and it has become one of the things I do for self care that has helped me manage my anxiety, etc. Thank you Meditopia for improving the quality of my life!',\n",
       "       5, 2, '3.12.11', '2020-12-04 20:18:42', nan, nan,\n",
       "       list(['I', 'experiencing', 'increasing', 'amount', 'anxiety', 'past', '4', 'years', 'including', 'tightness', 'chest', 'heart', 'palpitations', 'irritability', 'I', 'using', 'app', 'several', 'months', 'become', 'one', 'things', 'I', 'self', 'care', 'helped', 'manage', 'anxiety', 'etc', 'Thank', 'Meditopia', 'improving', 'quality', 'life']),\n",
       "       'experiencing increasing amount anxiety past years including tightness chest heart palpitations irritability using app several months become one things self care helped manage anxiety etc Thank Meditopia improving quality life',\n",
       "       'anxiety app anxiety', 'anxiety app anxiety', True, 0.773, 0.227,\n",
       "       0.0, -0.34, 'negative'], dtype=object)"
      ]
     },
     "execution_count": 66,
     "metadata": {},
     "output_type": "execute_result"
    }
   ],
   "source": [
    "# Tweet with highest negative sentiment \n",
    "# ...seems to be a case of wrong classification because of the word \"deficit\"\n",
    "playmeditopia_us.loc[playmeditopia_us['compound'].idxmin()].values"
   ]
  },
  {
   "cell_type": "markdown",
   "id": "da10cff4-be1d-47c1-af76-7d4e9204d1a9",
   "metadata": {},
   "source": [
    "**App Store Meditation App Reviews**"
   ]
  },
  {
   "cell_type": "code",
   "execution_count": 67,
   "id": "65241067-2a39-4bd6-9c24-30871d915d97",
   "metadata": {},
   "outputs": [
    {
     "data": {
      "text/plain": [
       "array(['2017-08-30 13:53:00', 5,\n",
       "       \"I love this app for so many reasons. I love the appearance of the app, I love the different backgrounds and music that you can choose. I love that you can choose meditations based on how you are feeling and what you need at the moment. I love how the calendar keeps track of your meditation practice and it's especially nice that it will let you know when you're on a multi day streak (that makes me even more likely to meditate as it's like a reward to see that pop up after a meditation). I love how after any meditation the daily quote pops up. I love the mindfulness reminder that I've set to keep me on track. I love the woman's voice on the meditations (and I can be very sensitive and picky about voices). I love that there are night stories and many to choose from. This is a great app, I highly recommend it.\",\n",
       "       list(['I', 'love', 'app', 'many', 'reasons', 'I', 'love', 'appearance', 'app', 'I', 'love', 'different', 'backgrounds', 'music', 'choose', 'I', 'love', 'choose', 'meditations', 'based', 'feeling', 'need', 'moment', 'I', 'love', 'calendar', 'keeps', 'track', 'practice', 'especially', 'nice', 'let', 'know', 'multi', 'day', 'streak', 'makes', 'even', 'likely', 'meditate', 'like', 'reward', 'see', 'pop', 'I', 'love', 'daily', 'quote', 'pops', 'I', 'love', 'mindfulness', 'reminder', 'I', 'set', 'keep', 'track', 'I', 'love', 'woman', 'voice', 'meditations', 'I', 'sensitive', 'picky', 'voices', 'I', 'love', 'night', 'stories', 'many', 'choose', 'This', 'great', 'app', 'I', 'highly', 'recommend']),\n",
       "       'love app many reasons love appearance app love different backgrounds music choose love choose meditations based feeling need moment love calendar keeps track practice especially nice let know multi day streak makes even likely meditate like reward see pop love daily quote pops love mindfulness reminder set keep track love woman voice meditations sensitive picky voices love night stories many choose This great app highly recommend',\n",
       "       'love app love app love love meditations love day like love love love meditations love stories This app',\n",
       "       'love app love app love love meditations love day like love love love meditations love stories This app',\n",
       "       0.0, 0.166, 0.834, 0.9919, 'positive'], dtype=object)"
      ]
     },
     "execution_count": 67,
     "metadata": {},
     "output_type": "execute_result"
    }
   ],
   "source": [
    "# Tweet with highest positive sentiment\n",
    "appstore_calm_us.loc[appstore_calm_us['compound'].idxmax()].values"
   ]
  },
  {
   "cell_type": "code",
   "execution_count": 68,
   "id": "3cdcabef-8db6-4d4a-883b-55b07886dd0f",
   "metadata": {},
   "outputs": [
    {
     "data": {
      "text/plain": [
       "array(['2020-09-08 22:46:01', 3,\n",
       "       'I got a year of premium on this app and absolutely adore it. The depth, care, and detail that went into making this app the best of its kind are not at all lost on me. It’s been very helpful to me with managing sleep and anxiety, really to life-changing levels. But I find my biggest complaint and the thing that makes me go through bouts in which I stop using it altogether is the lack of variety in narrators. Tamara Levitt is used to narrate a very large number of exercises and while her voice is positive and upbeat—she really is lovely, I’m sure!—it’s not AT ALL relaxing and totally grinds on my nerves. I literally cannot listen to any audio that she does in this app and as I said, there are many. It’s really disappointing. I’ve found the male narrators, specifically Elisha Goldstein, have a slower cadence and a much more relaxing tone that allows me to decompress and stop my anxiety attacks or drift off to sleep. But repetitive listening of certain audios can lead me to memorize it, which I find has me anticipating the words rather than absorbing them. I would really appreciate more frequent updates to the “cast” in these audios, especially ones for sleep and anxiety management.',\n",
       "       list(['I', 'got', 'year', 'premium', 'app', 'absolutely', 'adore', 'The', 'depth', 'care', 'detail', 'went', 'making', 'app', 'best', 'kind', 'lost', 'It', 'helpful', 'managing', 'sleep', 'anxiety', 'really', 'life', 'changing', 'levels', 'But', 'I', 'find', 'biggest', 'complaint', 'thing', 'makes', 'go', 'bouts', 'I', 'stop', 'using', 'altogether', 'lack', 'variety', 'narrators', 'Tamara', 'Levitt', 'used', 'narrate', 'large', 'number', 'exercises', 'voice', 'positive', 'upbeat', 'really', 'lovely', 'I', 'sure', 'AT', 'ALL', 'relaxing', 'totally', 'grinds', 'nerves', 'I', 'literally', 'cannot', 'listen', 'audio', 'app', 'I', 'said', 'many', 'It', 'really', 'disappointing', 'I', 'found', 'male', 'narrators', 'specifically', 'Elisha', 'Goldstein', 'slower', 'cadence', 'much', 'relaxing', 'tone', 'allows', 'decompress', 'stop', 'anxiety', 'attacks', 'drift', 'sleep', 'But', 'repetitive', 'listening', 'certain', 'audios', 'lead', 'memorize', 'I', 'find', 'anticipating', 'words', 'rather', 'absorbing', 'I', 'would', 'really', 'appreciate', 'frequent', 'updates', 'cast', 'audios', 'especially', 'ones', 'sleep', 'anxiety', 'management']),\n",
       "       'got year premium app absolutely adore The depth care detail went making app best kind lost helpful managing sleep anxiety really life changing levels But find biggest complaint thing makes bouts stop using altogether lack variety narrators Tamara Levitt used narrate large number exercises voice positive upbeat really lovely sure ALL relaxing totally grinds nerves literally cannot listen audio app said many really disappointing found male narrators specifically Elisha Goldstein slower cadence much relaxing tone allows decompress stop anxiety attacks drift sleep But repetitive listening certain audios lead memorize find anticipating words rather absorbing would really appreciate frequent updates cast audios especially ones sleep anxiety management',\n",
       "       'app The app sleep anxiety really life really app really much anxiety sleep would really sleep anxiety',\n",
       "       'app The app sleep anxiety really life really app really much anxiety sleep would really sleep anxiety',\n",
       "       0.267, 0.733, 0.0, -0.4767, 'negative'], dtype=object)"
      ]
     },
     "execution_count": 68,
     "metadata": {},
     "output_type": "execute_result"
    }
   ],
   "source": [
    "# Tweet with highest negative sentiment \n",
    "# ...seems to be a case of wrong classification because of the word \"deficit\"\n",
    "appstore_calm_us.loc[appstore_calm_us['compound'].idxmin()].values"
   ]
  },
  {
   "cell_type": "markdown",
   "id": "8329dae5-d6db-46a7-a7c1-40da498eb152",
   "metadata": {},
   "source": [
    "It's also known as opinion mining, deriving the opinion or attitude of a speaker."
   ]
  },
  {
   "cell_type": "markdown",
   "id": "03d22991-7417-4003-8637-3d8e6c5231b4",
   "metadata": {},
   "source": [
    "### 5.2 Visualize data from sentiment "
   ]
  },
  {
   "cell_type": "markdown",
   "id": "05480dab-6b44-47f7-9c86-6d79e3e3bcd6",
   "metadata": {},
   "source": [
    "The following are the data visualized from the sentiment:\n",
    "- The word count of common words is represented on the x axis, and the sentiment is represented on the y axis incluing 'negative', 'positive' and 'neutral'."
   ]
  },
  {
   "cell_type": "markdown",
   "id": "71f80061-f91a-4c83-a03e-67fbb78c019b",
   "metadata": {},
   "source": [
    "**Google Play Store Meditation App Reviews**"
   ]
  },
  {
   "cell_type": "code",
   "execution_count": 69,
   "id": "a815c49f-c33c-4eeb-b646-220074d1d5e5",
   "metadata": {},
   "outputs": [
    {
     "data": {
      "image/png": "[encoded data removed]",
      "text/plain": [
       "<Figure size 432x288 with 1 Axes>"
      ]
     },
     "metadata": {},
     "output_type": "display_data"
    }
   ],
   "source": [
    "# Number of tweets \n",
    "sns.countplot(y='sentiment', \n",
    "             data=playmeditopia_us, \n",
    "             palette=['#b2d8d8',\"#008080\", '#db3d13']\n",
    "             );"
   ]
  },
  {
   "cell_type": "markdown",
   "id": "8c8db9e1-6e74-4ced-bb91-65d184efa3ed",
   "metadata": {},
   "source": [
    "**App Store Meditation App Reviews**"
   ]
  },
  {
   "cell_type": "code",
   "execution_count": 70,
   "id": "6d317f42-25fa-40c1-8024-8e631b95af21",
   "metadata": {},
   "outputs": [
    {
     "data": {
      "image/png": "[encoded data removed]",
      "text/plain": [
       "<Figure size 432x288 with 1 Axes>"
      ]
     },
     "metadata": {},
     "output_type": "display_data"
    }
   ],
   "source": [
    "sns.countplot(y='sentiment', \n",
    "             data=appstore_calm_us, \n",
    "             palette=['#b2d8d8',\"#008080\", '#db3d13']\n",
    "             );"
   ]
  },
  {
   "cell_type": "markdown",
   "id": "9034872f-6d84-49f4-9053-51fa433af58d",
   "metadata": {},
   "source": [
    "It's interesting to note that the outcomes from these two app store platforms vary in various ways. It is normal for the negative count to be low. Unexpectedly, more users have left indifferent reviews on the Play Store than have left positive reviews. And the app store user reviews were far more favorable. Could this indicate that App store users are more giving overall?"
   ]
  },
  {
   "cell_type": "markdown",
   "id": "75e43d30-d116-43cd-b67d-b9a1b4ae5a45",
   "metadata": {},
   "source": [
    "### 5.3 Wordclouds"
   ]
  },
  {
   "cell_type": "markdown",
   "id": "6e2928b3-ed99-43bf-b986-eb2e8fc65580",
   "metadata": {},
   "source": [
    "For play store and app store reviews, there are two different types of world cloud visualization. The first is a mask in the shape of a circle, while the second is a typical rectangle. The most frequent words will be displayed on a graphic in descending order of word size."
   ]
  },
  {
   "cell_type": "markdown",
   "id": "8fc12c6d-24fd-483e-aff6-afad819ae256",
   "metadata": {},
   "source": [
    "**Google Play Store Meditation App Reviews**"
   ]
  },
  {
   "cell_type": "code",
   "execution_count": 71,
   "id": "0a96ed78-34ea-4c50-a2c0-4d91c6a668d2",
   "metadata": {},
   "outputs": [
    {
     "data": {
      "image/png": "[encoded data removed]",
      "text/plain": [
       "<Figure size 432x288 with 1 Axes>"
      ]
     },
     "metadata": {},
     "output_type": "display_data"
    }
   ],
   "source": [
    "x, y = np.ogrid[:300, :300]\n",
    "mask = (x - 150) ** 2 + (y - 150) ** 2 > 130 ** 2\n",
    "mask = 255 * mask.astype(int)\n",
    "\n",
    "wc = WordCloud(background_color=\"white\", repeat=True, mask=mask)\n",
    "wc.generate(all_words_lem_playmeditopia)\n",
    "\n",
    "plt.axis(\"off\")\n",
    "plt.imshow(wc, interpolation=\"bilinear\");"
   ]
  },
  {
   "cell_type": "code",
   "execution_count": 72,
   "id": "876836c2-bebd-4477-a569-49a08323f0e4",
   "metadata": {},
   "outputs": [
    {
     "data": {
      "image/png": "[encoded data removed]",
      "text/plain": [
       "<Figure size 720x504 with 1 Axes>"
      ]
     },
     "metadata": {},
     "output_type": "display_data"
    }
   ],
   "source": [
    "wordcloud = WordCloud(width=500, \n",
    "                     height=300, \n",
    "                     random_state=2, \n",
    "                     max_font_size=80).generate(all_words_lem_playmeditopia)\n",
    "\n",
    "plt.figure(figsize=(10, 7))\n",
    "plt.imshow(wordcloud, interpolation='bilinear')\n",
    "plt.axis('off');"
   ]
  },
  {
   "cell_type": "markdown",
   "id": "9c569a25-d0ca-4583-93dd-dab036c35121",
   "metadata": {},
   "source": [
    "**App Store Meditation App Reviews**"
   ]
  },
  {
   "cell_type": "code",
   "execution_count": 73,
   "id": "c81ed8ea-f4c0-4ee8-86b8-f2dc8762b5ee",
   "metadata": {},
   "outputs": [
    {
     "data": {
      "image/png": "[encoded data removed]",
      "text/plain": [
       "<Figure size 432x288 with 1 Axes>"
      ]
     },
     "metadata": {},
     "output_type": "display_data"
    }
   ],
   "source": [
    "x, y = np.ogrid[:350, :300]\n",
    "mask = (x - 150) ** 2 + (y - 150) ** 2 > 130 ** 2\n",
    "mask = 255 * mask.astype(int)\n",
    "\n",
    "wc = WordCloud(background_color=\"white\", repeat=True, mask=mask)\n",
    "wc.generate(all_words_lem_appstore)\n",
    "\n",
    "plt.axis(\"off\")\n",
    "plt.imshow(wc, interpolation=\"bilinear\");"
   ]
  },
  {
   "cell_type": "code",
   "execution_count": 74,
   "id": "7e0a4e9b-c051-4fd0-b129-0eefd7f084ff",
   "metadata": {},
   "outputs": [
    {
     "data": {
      "image/png": "[encoded data removed]",
      "text/plain": [
       "<Figure size 720x504 with 1 Axes>"
      ]
     },
     "metadata": {},
     "output_type": "display_data"
    }
   ],
   "source": [
    "wordcloud = WordCloud(width=500, \n",
    "                     height=300, \n",
    "                     random_state=2, \n",
    "                     max_font_size=80).generate(all_words_lem_appstore)\n",
    "\n",
    "plt.figure(figsize=(10, 7))\n",
    "plt.imshow(wordcloud, interpolation='bilinear')\n",
    "plt.axis('off');"
   ]
  },
  {
   "cell_type": "markdown",
   "id": "34925bfd-f4aa-4f0b-a3d9-90c287fc2f45",
   "metadata": {},
   "source": [
    "We can see from the images above that the text on the images generally receives favorable responses. It may infer inadvertently that the user is satisfied with the result of their interaction. And the meditation app is actually helpful and can meet the user's needs."
   ]
  },
  {
   "cell_type": "markdown",
   "id": "03b6a90f-9c35-486c-9e45-d817ed065478",
   "metadata": {},
   "source": [
    "### 5.4 Gamma Brainwave Amplitude in Seaborn"
   ]
  },
  {
   "cell_type": "markdown",
   "id": "678f4591-a838-4694-bc0d-f7ee74ddb605",
   "metadata": {},
   "source": [
    "In the following graph, y axis represent the median gamma amplitude, x axis represent the meditation experience. \n",
    "It is classified into 4 group of participants.  \n",
    "- CTR = Control group (non traditional meditation)\n",
    "- HYT = Himalayan Yoga (traditional meditation style type)\n",
    "- ISY = Isha Shoonya (traditional meditation style type)\n",
    "- VIP = Vipassana (traditional meditation style type)"
   ]
  },
  {
   "cell_type": "code",
   "execution_count": 75,
   "id": "7f765548-fb88-48d1-b287-6984c661628d",
   "metadata": {},
   "outputs": [],
   "source": [
    "sns.set(style=\"ticks\", color_codes=True)"
   ]
  },
  {
   "cell_type": "code",
   "execution_count": 76,
   "id": "3b6adcb2-a216-4f6d-b40d-d0a2740a656b",
   "metadata": {},
   "outputs": [
    {
     "data": {
      "image/png": "[encoded data removed]",
      "text/plain": [
       "<Figure size 432x432 with 3 Axes>"
      ]
     },
     "metadata": {},
     "output_type": "display_data"
    }
   ],
   "source": [
    "sns.jointplot(y=\"Median Gamma\", x=\"Meditation Expe\",hue=\"Type\", data=Gamma_data);"
   ]
  },
  {
   "cell_type": "markdown",
   "id": "9c5f5e34-dc7b-4bd3-a577-9c6ab02cb89f",
   "metadata": {},
   "source": [
    "The frequency of gamma waves is the highest of all known brain waves. They are linked to intense levels of concentration and contemplation. In the diagram, it demonstrates that after the meditative and instructed mind-wandering (IMW) block, all participants displayed greater gamma amplitude, regardless of prior experience with meditation."
   ]
  },
  {
   "cell_type": "markdown",
   "id": "5b277251-5f48-4ef1-b3de-d83b2cf5e2e9",
   "metadata": {},
   "source": [
    "### 5.5 Meditation Practice and Job Performance Study 1"
   ]
  },
  {
   "cell_type": "markdown",
   "id": "c60996e4-01d1-4d4b-af95-562ad1e2da0e",
   "metadata": {},
   "source": [
    "**Study 1 is from the JP1 dataset**\n",
    " - In the following graph, x axis represent the household income level, the higher number, the higher income. y axis represent the age, hue represent meditation practice where 0 = no meditation practice, 1 = has meditation practice. "
   ]
  },
  {
   "cell_type": "code",
   "execution_count": 77,
   "id": "b9eee779-32ae-4875-a4c1-c9109d8744cf",
   "metadata": {},
   "outputs": [
    {
     "data": {
      "image/png": "[encoded data removed]",
      "text/plain": [
       "<Figure size 469.425x360 with 1 Axes>"
      ]
     },
     "metadata": {},
     "output_type": "display_data"
    }
   ],
   "source": [
    "sns.catplot(x=\"household income\", y=\"age\", hue=\"meditation practice\", kind=\"box\", data=JP1)\n",
    "plt.xticks(rotation=0)\n",
    "plt.show()"
   ]
  },
  {
   "cell_type": "markdown",
   "id": "9f07b684-62d0-4285-bc85-7a27a645faa9",
   "metadata": {},
   "source": [
    "It's noteworthy to note that people who practice meditation make the same amount of money for the household income in a more younger age in general.  "
   ]
  },
  {
   "cell_type": "markdown",
   "id": "f1759af9-2a7e-462d-b0a3-8237a227396d",
   "metadata": {},
   "source": [
    "### 5.6 Meditation Practice and Job Performance Study 2"
   ]
  },
  {
   "cell_type": "markdown",
   "id": "30690deb-1507-402a-9d3b-8b002f213b2a",
   "metadata": {},
   "source": [
    "**Study 2 is from the JP2 dataset**\n",
    "- There is a substantially wider variety of data types in the JP2 dataset. All of the study's categories are displayed in the box below."
   ]
  },
  {
   "cell_type": "code",
   "execution_count": 78,
   "id": "819cbbdb-4125-484b-9a9c-587f22f5d6d2",
   "metadata": {},
   "outputs": [
    {
     "data": {
      "image/png": "[encoded data removed]",
      "text/plain": [
       "<Figure size 720x720 with 1 Axes>"
      ]
     },
     "metadata": {},
     "output_type": "display_data"
    }
   ],
   "source": [
    "sns.catplot(data=JP2, orient=\"h\", height= 10, kind=\"box\");"
   ]
  },
  {
   "cell_type": "markdown",
   "id": "e4fecb85-f0e4-4b98-900e-b0398b8cd637",
   "metadata": {},
   "source": [
    "**Another aspect of study is to find out will meditation help for sleep sufficiency**\n",
    "\n",
    "- From 4.2 Seaborn, the result pointed out one of the popular words is \"sleep\", so I focus the data related to sleep. \n",
    "- In the following graph, x axis represent sleep sufficiency, y axis represent the sleeping hours, hue represent the frequency of meditation where 1 = the least practice, 4 = the more practice. "
   ]
  },
  {
   "cell_type": "code",
   "execution_count": 79,
   "id": "796a0e4e-2fb3-406d-bead-9f5aff3a87d7",
   "metadata": {},
   "outputs": [
    {
     "data": {
      "image/png": "[encoded data removed]",
      "text/plain": [
       "<Figure size 490.8x360 with 1 Axes>"
      ]
     },
     "metadata": {},
     "output_type": "display_data"
    }
   ],
   "source": [
    "sns.catplot(kind=\"bar\", x=\"SleepSufficiency\", y=\"SleepHours\", hue=\"FrequencyofMeditation\", ci=None,  data=JP2)\n",
    "plt.xticks(rotation=90)\n",
    "plt.show()"
   ]
  },
  {
   "cell_type": "markdown",
   "id": "a75172b1-8e0e-4e40-8df1-bb146eb4b913",
   "metadata": {},
   "source": [
    "The bar graph demonstrates that overall sleep sufficiency increases as we sleep more. It appears that practicing meditation frequently has little to no impact on getting enough sleep."
   ]
  },
  {
   "cell_type": "markdown",
   "id": "e1504657-1e31-4d37-9f75-9260ca1e4d76",
   "metadata": {},
   "source": [
    "## 6 Summary"
   ]
  },
  {
   "cell_type": "markdown",
   "id": "3beb5d12-11c3-41ce-9b75-3a045f7c22df",
   "metadata": {},
   "source": [
    "**6.1 Summary of prepared data**"
   ]
  },
  {
   "cell_type": "markdown",
   "id": "90b6f57b-8f90-49ca-b235-fe561fa4a9b0",
   "metadata": {},
   "source": [
    "The summary from 5 datasets, there were two datasets about meditation app reviews, two dataset about the relationship between meditation and the work performance, and one about the relationship between meditation and the brain wave change.\n",
    "\n",
    "**To response to the objective to this project:**\n",
    "\n",
    "1)Measuring attitude - how much positive and negative emotional language is in reviews?\n",
    "- Users of the meditation app respond in terms of position, according to the sentiment analysis. \n",
    "\n",
    "2)Politeness - utilizing hedging phrases for response \n",
    "- For both app platforms, the most frequent, polite terms are \"love,\" \"like,\" and \"app.\"\n",
    "\n",
    "3)Is the user really enjoying and find it useful when using the mediation application?\n",
    "- The 5 most common word for Google Play Store Meditation App Reviews are:\n",
    "[('app', 483), ('love', 132), ('good', 117), ('really', 113), ('This', 99)],\n",
    "- The 5 most common word for App Store Meditation App Reviews are: \n",
    "[('app', 2177), ('sleep', 878), ('Calm', 701), ('like', 579), ('stories', 555)]\n",
    "- According to the frequency distributions, the user enjoys using the meditation app.\n",
    "\n",
    "4)How meditation effect human behaviour in work? \n",
    "- People who meditate have favorable effects in a variety of areas. Gamma brainwave amplitude, for instance, will rise while you meditate.  "
   ]
  },
  {
   "cell_type": "markdown",
   "id": "1b6b44a6-0c47-49c4-9b53-186da920e0ed",
   "metadata": {},
   "source": [
    "**6.2 Conclusions**"
   ]
  },
  {
   "cell_type": "markdown",
   "id": "30852ea9-43de-43c6-9ed2-d077cac21d3e",
   "metadata": {},
   "source": [
    "According to the aforementioned report, there is a market for meditation as more individuals choose to use natural approaches to maintain the health of their bodies.\n",
    "\n",
    "The outcome of the data is generally somewhat predictable. The results of the data are typically a little predictable. According to common study on meditation, meditation is practiced frequently. Nothing materially deviates from expectations. Only a few modest results came as a surprise. For instance, users of the app store are more likely than users of the play store to post positive reviews. The meditation, however, still has a positive effect on getting enough sleep. \n",
    "\n",
    "My understanding of how to create a data analysis proposal has improved by the assignment, which will be useful for my final project. It is an excellent start to combine the knowledge I already have with computer science methodology to explore some intriguing insight, particularly the topic related to health and wellbeing as a yoga teacher."
   ]
  },
  {
   "cell_type": "markdown",
   "id": "9215db5b-0d0f-4c9a-b172-61bae78ebd80",
   "metadata": {},
   "source": [
    "## 7 References and Resources"
   ]
  },
  {
   "cell_type": "markdown",
   "id": "a1bd155f-2dc2-48c8-a87a-df2ada856cca",
   "metadata": {},
   "source": [
    "### 7.1 References"
   ]
  },
  {
   "cell_type": "markdown",
   "id": "9f28364b-bc3a-47a7-b4ba-458a4f0cf0cf",
   "metadata": {},
   "source": [
    "[1] Koichiro Shiba  ,Masahiro Nishimoto ,Minami Sugimoto,Yoshiki Ishikawa. (2015, May 29). The Association between Meditation Practice and Job Performance: A Cross-Sectional Study [Online]. Available: https://journals.plos.org/plosone/article?id=10.1371/journal.pone.0128287 <br>\n",
    "[2] Claire Braboszcz ,B. Rael Cahn,Jonathan Levy,Manuel Fernandez,Arnaud Delorme. (2017, January 24). Increased Gamma Brainwave Amplitude Compared to Control in Three Different Meditation Traditions  [Online]. Available: https://journals.plos.org/plosone/article?id=10.1371/journal.pone.0170647<br>\n",
    "[3] P. Petchsawanga, \"Workplace Spirituality, Meditation, and Work Performance\", Journal of Management, Spirituality & Religion 9:2, pp. 189- 208, June 2012 [Online]. Available: https://www.researchgate.net/publication/254334245_Workplace_Spirituality_Meditation_and_Work_Performance<br>\n",
    "[4] Mira Rakicevic. (2022, January 3). 27 Meditation Statistics for Your Well-Being in 2022 [Online]. Available: https://disturbmenot.co/meditation-statistics/<br>\n",
    "[5] Zuckerman. (2020, May 22). 46 MEDITATION STATISTICS: 2020/2021 BENEFITS, MARKET VALUE & TRENDS [Online]. Available: https://comparecamp.com/meditation-statistics/#TOC1<br>\n",
    "[6] DELAL TOMRUK. (2021, June 22). Google Play Store Meditation App Reviews [Online]. Available: https://www.kaggle.com/datasets/dtomruk/google-play-store-meditation-app-reviews?resource=download<br>\n",
    "[7] DELAL TOMRUK. (2021, June 22). App Store Meditation App Reviews [Online]. Available: https://www.kaggle.com/datasets/dtomruk/app-store-meditation-app-reviews"
   ]
  },
  {
   "cell_type": "markdown",
   "id": "a06d331e-078a-4935-8dbb-0697aa7d4997",
   "metadata": {},
   "source": [
    "### 7.2 Resources used"
   ]
  },
  {
   "cell_type": "markdown",
   "id": "697c329f-56f4-4926-84c4-b67d1ed664d5",
   "metadata": {},
   "source": [
    "**Data cleaning and processing, feature generation**\n",
    "- Natural Language Processing lab, Dr Sean McGrath\n",
    "- Nltk lab, Dr Sean McGrath\n",
    "- nltk.org(2022, June 12), Natural Language Toolkit, [Online]. Available:https://www.nltk.org/\n",
    "- M.Siddharth(2021, July 17), NLTK: A Beginners Hands-on Guide to Natural Language Processing, [Online]. Available: https://www.analyticsvidhya.com/blog/2021/07/nltk-a-beginners-hands-on-guide-to-natural-language-processing/\n",
    "- D.Vu(2019, November 8),datacamp.com, Generating WordClouds in Python Tutorial, [Online]. Available: https://www.datacamp.com/tutorial/wordcloud-python\n",
    "- J.Kirenz (2022, May 19) Text Mining and Sentiment Analysis with NLTK and pandas in Python [Online]. Available:https://www.kirenz.com/post/2021-12-11-text-mining-and-sentiment-analysis-with-nltk-and-pandas-in-python/text-mining-and-sentiment-analysis-with-nltk-and-pandas-in-python/"
   ]
  },
  {
   "cell_type": "markdown",
   "id": "f9481c32-0a38-4c7f-818f-c3b1dc2b5e4f",
   "metadata": {},
   "source": [
    "**Exploratory data analysis**\n",
    "- Matplotlib Essentials lab, Dr Sean McGrath\n",
    "- Seaborn Essentials lab, Dr Sean McGrath\n",
    "- w3schools.com(2022, May 29), NumPy Introduction, [Online]. Available:https://www.w3schools.com/python/numpy/numpy_intro.asp\n",
    "- w3schools.com(2022, May 30), Pandas Tutorial, [Online]. Available: https://www.w3schools.com/python/pandas/default.asp\n",
    "- w3schools.com(2022, May 28), Matplotlib Pyplot, [Online]. Available:https://www.w3schools.com/python/matplotlib_pyplot.asp\n",
    "- w3schools.com(2022, May 28), Visualize Distributions With Seaborn, [Online]. Available:https://www.w3schools.com/python/numpy/numpy_random_seaborn.asp\n",
    "- J.Kirenz (2022, May 19) Text Mining and Sentiment Analysis with NLTK and pandas in Python [Online]. Available:https://www.kirenz.com/post/2021-12-11-text-mining-and-sentiment-analysis-with-nltk-and-pandas-in-python/text-mining-and-sentiment-analysis-with-nltk-and-pandas-in-python/"
   ]
  },
  {
   "cell_type": "code",
   "execution_count": null,
   "id": "a496c6d8-57ff-449e-bbef-0cef3c7d3095",
   "metadata": {},
   "outputs": [],
   "source": []
  }
 ],
 "metadata": {
  "kernelspec": {
   "display_name": "Python 3 (ipykernel)",
   "language": "python",
   "name": "python3"
  },
  "language_info": {
   "codemirror_mode": {
    "name": "ipython",
    "version": 3
   },
   "file_extension": ".py",
   "mimetype": "text/x-python",
   "name": "python",
   "nbconvert_exporter": "python",
   "pygments_lexer": "ipython3",
   "version": "3.9.7"
  }
 },
 "nbformat": 4,
 "nbformat_minor": 5
}
